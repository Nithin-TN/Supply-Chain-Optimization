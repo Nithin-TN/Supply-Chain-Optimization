{
 "cells": [
  {
   "cell_type": "code",
   "execution_count": 1,
   "id": "57c7a3b3",
   "metadata": {
    "_cell_guid": "b1076dfc-b9ad-4769-8c92-a6c4dae69d19",
    "_uuid": "8f2839f25d086af736a60e9eeb907d3b93b6e0e5",
    "execution": {
     "iopub.execute_input": "2024-06-26T20:19:53.223346Z",
     "iopub.status.busy": "2024-06-26T20:19:53.222980Z",
     "iopub.status.idle": "2024-06-26T20:19:55.971466Z",
     "shell.execute_reply": "2024-06-26T20:19:55.970513Z"
    },
    "papermill": {
     "duration": 2.765513,
     "end_time": "2024-06-26T20:19:55.974038",
     "exception": false,
     "start_time": "2024-06-26T20:19:53.208525",
     "status": "completed"
    },
    "tags": []
   },
   "outputs": [
    {
     "name": "stdout",
     "output_type": "stream",
     "text": [
      "/kaggle/input/supply-chain-optimization-for-a-fmcg-company/FMCG_data.csv\n",
      "/kaggle/input/supply-chain-optimization-for-a-fmcg-company/Problem Statement.pdf\n"
     ]
    }
   ],
   "source": [
    "# This Python 3 environment comes with many helpful analytics libraries installed\n",
    "# It is defined by the kaggle/python Docker image: https://github.com/kaggle/docker-python\n",
    "# For example, here's several helpful packages to load\n",
    "\n",
    "import numpy as np # linear algebra\n",
    "import pandas as pd # data processing, CSV file I/O (e.g. pd.read_csv)\n",
    "\n",
    "# Input data files are available in the read-only \"../input/\" directory\n",
    "# For example, running this (by clicking run or pressing Shift+Enter) will list all files under the input directory\n",
    "\n",
    "import os\n",
    "for dirname, _, filenames in os.walk('/kaggle/input'):\n",
    "    for filename in filenames:\n",
    "        print(os.path.join(dirname, filename))\n",
    "\n",
    "# You can write up to 20GB to the current directory (/kaggle/working/) that gets preserved as output when you create a version using \"Save & Run All\" \n",
    "# You can also write temporary files to /kaggle/temp/, but they won't be saved outside of the current session\n",
    "import matplotlib.pyplot as plt\n",
    "%matplotlib inline\n",
    "import plotly.express as px\n",
    "import plotly.subplots as sp\n",
    "import warnings\n",
    "warnings.simplefilter(action='ignore', category=FutureWarning)\n",
    "import seaborn as sns\n",
    "sns.set_style('whitegrid')"
   ]
  },
  {
   "cell_type": "markdown",
   "id": "9df8c831",
   "metadata": {
    "papermill": {
     "duration": 0.012594,
     "end_time": "2024-06-26T20:19:55.999707",
     "exception": false,
     "start_time": "2024-06-26T20:19:55.987113",
     "status": "completed"
    },
    "tags": []
   },
   "source": [
    "# FMCG Warehouse: Optimizing Distribution Efficiency\n",
    "\n",
    "**Background:**\n",
    "The company is facing challenges in ensuring efficient warehouse operations, resulting in frequent stockouts, delays in deliveries, and increased operational costs. The management has tasked you with analyzing the data from these warehouses to identify key issues and provide actionable insights to enhance warehouse efficiency.\n",
    "\n",
    "**Problem Statement**\n",
    "Problem Statement: FMCG is experiencing inefficiencies in its warehouse operations. These inefficiencies are affecting the supply chain, leading to stockouts, delivery delays, and increased costs. Your task is to analyze warehouse data to uncover the root causes of these issues and propose data-driven solutions to optimize warehouse performance.\n",
    "Why is it Important to Solve? Addressing these inefficiencies is crucial for improving customer satisfaction, reducing operational costs, and ensuring timely delivery of products. Efficient warehouse operations are critical for maintaining a competitive edge in the retail market.\n"
   ]
  },
  {
   "cell_type": "markdown",
   "id": "5f598ef2",
   "metadata": {
    "papermill": {
     "duration": 0.012446,
     "end_time": "2024-06-26T20:19:56.025221",
     "exception": false,
     "start_time": "2024-06-26T20:19:56.012775",
     "status": "completed"
    },
    "tags": []
   },
   "source": [
    "**Data Dictionary:**\n",
    "\n",
    "1. Ware_house_ID: Unique identifier for each warehouse\n",
    "2. WH_Manager_ID: Identifier for the warehouse manager\n",
    "3. Location_type: Type of location (Urban/Rural)\n",
    "4. WH_capacity_size: Size of warehouse capacity (Small/Mid/Large)\n",
    "5. zone: Geographical zone of the warehouse\n",
    "6. WH_regional_zone: Regional zone identifier\n",
    "7. num_refill_req_l3m: Number of refill requests in the last 3 months\n",
    "8. transport_issue_l1y: Number of transport issues in the last year\n",
    "9. Competitor_in_mkt: Number of competitors in the market\n",
    "10. retail_shop_num: Number of retail shops served by the warehouse\n",
    "11. electric_supply: Availability of electric supply (1 = Yes, 0 = No)\n",
    "12. dist_from_hub: Distance from central distribution hub (km)\n",
    "13. workers_num: Number of workers in the warehouse\n",
    "14. wh_est_year: Year of warehouse establishment\n",
    "15. storage_issue_reported_l3m: Number of storage issues reported in the last 3 months\n",
    "16. temp_reg_mach: Availability of temperature regulation machinery\n",
    "17. approved_wh_govt_certificate: Type of government certification approved\n",
    "18. wh_breakdown_l3m: Number of warehouse breakdowns in the last 3 months\n",
    "19. govt_check_l3m: Number of government checks in the last 3 months\n",
    "20. product_wg_ton: Weight of products stored (tons)\n",
    "\n"
   ]
  },
  {
   "cell_type": "code",
   "execution_count": 2,
   "id": "62672675",
   "metadata": {
    "execution": {
     "iopub.execute_input": "2024-06-26T20:19:56.053060Z",
     "iopub.status.busy": "2024-06-26T20:19:56.051934Z",
     "iopub.status.idle": "2024-06-26T20:19:56.192936Z",
     "shell.execute_reply": "2024-06-26T20:19:56.191849Z"
    },
    "papermill": {
     "duration": 0.157318,
     "end_time": "2024-06-26T20:19:56.195328",
     "exception": false,
     "start_time": "2024-06-26T20:19:56.038010",
     "status": "completed"
    },
    "tags": []
   },
   "outputs": [],
   "source": [
    "wh= pd.read_csv('/kaggle/input/supply-chain-optimization-for-a-fmcg-company/FMCG_data.csv')"
   ]
  },
  {
   "cell_type": "code",
   "execution_count": 3,
   "id": "7c263ec9",
   "metadata": {
    "execution": {
     "iopub.execute_input": "2024-06-26T20:19:56.223324Z",
     "iopub.status.busy": "2024-06-26T20:19:56.222948Z",
     "iopub.status.idle": "2024-06-26T20:19:56.277253Z",
     "shell.execute_reply": "2024-06-26T20:19:56.276214Z"
    },
    "papermill": {
     "duration": 0.071092,
     "end_time": "2024-06-26T20:19:56.279953",
     "exception": false,
     "start_time": "2024-06-26T20:19:56.208861",
     "status": "completed"
    },
    "tags": []
   },
   "outputs": [
    {
     "data": {
      "text/html": [
       "<div>\n",
       "<style scoped>\n",
       "    .dataframe tbody tr th:only-of-type {\n",
       "        vertical-align: middle;\n",
       "    }\n",
       "\n",
       "    .dataframe tbody tr th {\n",
       "        vertical-align: top;\n",
       "    }\n",
       "\n",
       "    .dataframe thead th {\n",
       "        text-align: right;\n",
       "    }\n",
       "</style>\n",
       "<table border=\"1\" class=\"dataframe\">\n",
       "  <thead>\n",
       "    <tr style=\"text-align: right;\">\n",
       "      <th></th>\n",
       "      <th>Ware_house_ID</th>\n",
       "      <th>WH_Manager_ID</th>\n",
       "      <th>Location_type</th>\n",
       "      <th>WH_capacity_size</th>\n",
       "      <th>zone</th>\n",
       "      <th>WH_regional_zone</th>\n",
       "      <th>num_refill_req_l3m</th>\n",
       "      <th>transport_issue_l1y</th>\n",
       "      <th>Competitor_in_mkt</th>\n",
       "      <th>retail_shop_num</th>\n",
       "      <th>...</th>\n",
       "      <th>electric_supply</th>\n",
       "      <th>dist_from_hub</th>\n",
       "      <th>workers_num</th>\n",
       "      <th>wh_est_year</th>\n",
       "      <th>storage_issue_reported_l3m</th>\n",
       "      <th>temp_reg_mach</th>\n",
       "      <th>approved_wh_govt_certificate</th>\n",
       "      <th>wh_breakdown_l3m</th>\n",
       "      <th>govt_check_l3m</th>\n",
       "      <th>product_wg_ton</th>\n",
       "    </tr>\n",
       "  </thead>\n",
       "  <tbody>\n",
       "    <tr>\n",
       "      <th>0</th>\n",
       "      <td>WH_100000</td>\n",
       "      <td>EID_50000</td>\n",
       "      <td>Urban</td>\n",
       "      <td>Small</td>\n",
       "      <td>West</td>\n",
       "      <td>Zone 6</td>\n",
       "      <td>3</td>\n",
       "      <td>1</td>\n",
       "      <td>2</td>\n",
       "      <td>4651</td>\n",
       "      <td>...</td>\n",
       "      <td>1</td>\n",
       "      <td>91</td>\n",
       "      <td>29.0</td>\n",
       "      <td>NaN</td>\n",
       "      <td>13</td>\n",
       "      <td>0</td>\n",
       "      <td>A</td>\n",
       "      <td>5</td>\n",
       "      <td>15</td>\n",
       "      <td>17115</td>\n",
       "    </tr>\n",
       "    <tr>\n",
       "      <th>1</th>\n",
       "      <td>WH_100001</td>\n",
       "      <td>EID_50001</td>\n",
       "      <td>Rural</td>\n",
       "      <td>Large</td>\n",
       "      <td>North</td>\n",
       "      <td>Zone 5</td>\n",
       "      <td>0</td>\n",
       "      <td>0</td>\n",
       "      <td>4</td>\n",
       "      <td>6217</td>\n",
       "      <td>...</td>\n",
       "      <td>1</td>\n",
       "      <td>210</td>\n",
       "      <td>31.0</td>\n",
       "      <td>NaN</td>\n",
       "      <td>4</td>\n",
       "      <td>0</td>\n",
       "      <td>A</td>\n",
       "      <td>3</td>\n",
       "      <td>17</td>\n",
       "      <td>5074</td>\n",
       "    </tr>\n",
       "    <tr>\n",
       "      <th>2</th>\n",
       "      <td>WH_100002</td>\n",
       "      <td>EID_50002</td>\n",
       "      <td>Rural</td>\n",
       "      <td>Mid</td>\n",
       "      <td>South</td>\n",
       "      <td>Zone 2</td>\n",
       "      <td>1</td>\n",
       "      <td>0</td>\n",
       "      <td>4</td>\n",
       "      <td>4306</td>\n",
       "      <td>...</td>\n",
       "      <td>0</td>\n",
       "      <td>161</td>\n",
       "      <td>37.0</td>\n",
       "      <td>NaN</td>\n",
       "      <td>17</td>\n",
       "      <td>0</td>\n",
       "      <td>A</td>\n",
       "      <td>6</td>\n",
       "      <td>22</td>\n",
       "      <td>23137</td>\n",
       "    </tr>\n",
       "    <tr>\n",
       "      <th>3</th>\n",
       "      <td>WH_100003</td>\n",
       "      <td>EID_50003</td>\n",
       "      <td>Rural</td>\n",
       "      <td>Mid</td>\n",
       "      <td>North</td>\n",
       "      <td>Zone 3</td>\n",
       "      <td>7</td>\n",
       "      <td>4</td>\n",
       "      <td>2</td>\n",
       "      <td>6000</td>\n",
       "      <td>...</td>\n",
       "      <td>0</td>\n",
       "      <td>103</td>\n",
       "      <td>21.0</td>\n",
       "      <td>NaN</td>\n",
       "      <td>17</td>\n",
       "      <td>1</td>\n",
       "      <td>A+</td>\n",
       "      <td>3</td>\n",
       "      <td>27</td>\n",
       "      <td>22115</td>\n",
       "    </tr>\n",
       "    <tr>\n",
       "      <th>4</th>\n",
       "      <td>WH_100004</td>\n",
       "      <td>EID_50004</td>\n",
       "      <td>Rural</td>\n",
       "      <td>Large</td>\n",
       "      <td>North</td>\n",
       "      <td>Zone 5</td>\n",
       "      <td>3</td>\n",
       "      <td>1</td>\n",
       "      <td>2</td>\n",
       "      <td>4740</td>\n",
       "      <td>...</td>\n",
       "      <td>1</td>\n",
       "      <td>112</td>\n",
       "      <td>25.0</td>\n",
       "      <td>2009.0</td>\n",
       "      <td>18</td>\n",
       "      <td>0</td>\n",
       "      <td>C</td>\n",
       "      <td>6</td>\n",
       "      <td>24</td>\n",
       "      <td>24071</td>\n",
       "    </tr>\n",
       "    <tr>\n",
       "      <th>...</th>\n",
       "      <td>...</td>\n",
       "      <td>...</td>\n",
       "      <td>...</td>\n",
       "      <td>...</td>\n",
       "      <td>...</td>\n",
       "      <td>...</td>\n",
       "      <td>...</td>\n",
       "      <td>...</td>\n",
       "      <td>...</td>\n",
       "      <td>...</td>\n",
       "      <td>...</td>\n",
       "      <td>...</td>\n",
       "      <td>...</td>\n",
       "      <td>...</td>\n",
       "      <td>...</td>\n",
       "      <td>...</td>\n",
       "      <td>...</td>\n",
       "      <td>...</td>\n",
       "      <td>...</td>\n",
       "      <td>...</td>\n",
       "      <td>...</td>\n",
       "    </tr>\n",
       "    <tr>\n",
       "      <th>24995</th>\n",
       "      <td>WH_124995</td>\n",
       "      <td>EID_74995</td>\n",
       "      <td>Rural</td>\n",
       "      <td>Small</td>\n",
       "      <td>North</td>\n",
       "      <td>Zone 1</td>\n",
       "      <td>3</td>\n",
       "      <td>0</td>\n",
       "      <td>4</td>\n",
       "      <td>5390</td>\n",
       "      <td>...</td>\n",
       "      <td>1</td>\n",
       "      <td>142</td>\n",
       "      <td>34.0</td>\n",
       "      <td>2005.0</td>\n",
       "      <td>22</td>\n",
       "      <td>1</td>\n",
       "      <td>A</td>\n",
       "      <td>2</td>\n",
       "      <td>30</td>\n",
       "      <td>32093</td>\n",
       "    </tr>\n",
       "    <tr>\n",
       "      <th>24996</th>\n",
       "      <td>WH_124996</td>\n",
       "      <td>EID_74996</td>\n",
       "      <td>Rural</td>\n",
       "      <td>Mid</td>\n",
       "      <td>West</td>\n",
       "      <td>Zone 2</td>\n",
       "      <td>6</td>\n",
       "      <td>0</td>\n",
       "      <td>4</td>\n",
       "      <td>4490</td>\n",
       "      <td>...</td>\n",
       "      <td>1</td>\n",
       "      <td>130</td>\n",
       "      <td>28.0</td>\n",
       "      <td>2012.0</td>\n",
       "      <td>10</td>\n",
       "      <td>0</td>\n",
       "      <td>B</td>\n",
       "      <td>4</td>\n",
       "      <td>18</td>\n",
       "      <td>12114</td>\n",
       "    </tr>\n",
       "    <tr>\n",
       "      <th>24997</th>\n",
       "      <td>WH_124997</td>\n",
       "      <td>EID_74997</td>\n",
       "      <td>Urban</td>\n",
       "      <td>Large</td>\n",
       "      <td>South</td>\n",
       "      <td>Zone 5</td>\n",
       "      <td>7</td>\n",
       "      <td>0</td>\n",
       "      <td>2</td>\n",
       "      <td>5403</td>\n",
       "      <td>...</td>\n",
       "      <td>1</td>\n",
       "      <td>147</td>\n",
       "      <td>NaN</td>\n",
       "      <td>NaN</td>\n",
       "      <td>23</td>\n",
       "      <td>0</td>\n",
       "      <td>B+</td>\n",
       "      <td>5</td>\n",
       "      <td>25</td>\n",
       "      <td>27080</td>\n",
       "    </tr>\n",
       "    <tr>\n",
       "      <th>24998</th>\n",
       "      <td>WH_124998</td>\n",
       "      <td>EID_74998</td>\n",
       "      <td>Rural</td>\n",
       "      <td>Small</td>\n",
       "      <td>North</td>\n",
       "      <td>Zone 1</td>\n",
       "      <td>1</td>\n",
       "      <td>0</td>\n",
       "      <td>2</td>\n",
       "      <td>10562</td>\n",
       "      <td>...</td>\n",
       "      <td>1</td>\n",
       "      <td>60</td>\n",
       "      <td>25.0</td>\n",
       "      <td>NaN</td>\n",
       "      <td>18</td>\n",
       "      <td>0</td>\n",
       "      <td>A</td>\n",
       "      <td>6</td>\n",
       "      <td>30</td>\n",
       "      <td>25093</td>\n",
       "    </tr>\n",
       "    <tr>\n",
       "      <th>24999</th>\n",
       "      <td>WH_124999</td>\n",
       "      <td>EID_74999</td>\n",
       "      <td>Rural</td>\n",
       "      <td>Mid</td>\n",
       "      <td>West</td>\n",
       "      <td>Zone 4</td>\n",
       "      <td>8</td>\n",
       "      <td>2</td>\n",
       "      <td>4</td>\n",
       "      <td>5664</td>\n",
       "      <td>...</td>\n",
       "      <td>1</td>\n",
       "      <td>239</td>\n",
       "      <td>39.0</td>\n",
       "      <td>2019.0</td>\n",
       "      <td>4</td>\n",
       "      <td>0</td>\n",
       "      <td>B+</td>\n",
       "      <td>2</td>\n",
       "      <td>11</td>\n",
       "      <td>5058</td>\n",
       "    </tr>\n",
       "  </tbody>\n",
       "</table>\n",
       "<p>25000 rows × 24 columns</p>\n",
       "</div>"
      ],
      "text/plain": [
       "      Ware_house_ID WH_Manager_ID Location_type WH_capacity_size   zone  \\\n",
       "0         WH_100000     EID_50000         Urban            Small   West   \n",
       "1         WH_100001     EID_50001         Rural            Large  North   \n",
       "2         WH_100002     EID_50002         Rural              Mid  South   \n",
       "3         WH_100003     EID_50003         Rural              Mid  North   \n",
       "4         WH_100004     EID_50004         Rural            Large  North   \n",
       "...             ...           ...           ...              ...    ...   \n",
       "24995     WH_124995     EID_74995         Rural            Small  North   \n",
       "24996     WH_124996     EID_74996         Rural              Mid   West   \n",
       "24997     WH_124997     EID_74997         Urban            Large  South   \n",
       "24998     WH_124998     EID_74998         Rural            Small  North   \n",
       "24999     WH_124999     EID_74999         Rural              Mid   West   \n",
       "\n",
       "      WH_regional_zone  num_refill_req_l3m  transport_issue_l1y  \\\n",
       "0               Zone 6                   3                    1   \n",
       "1               Zone 5                   0                    0   \n",
       "2               Zone 2                   1                    0   \n",
       "3               Zone 3                   7                    4   \n",
       "4               Zone 5                   3                    1   \n",
       "...                ...                 ...                  ...   \n",
       "24995           Zone 1                   3                    0   \n",
       "24996           Zone 2                   6                    0   \n",
       "24997           Zone 5                   7                    0   \n",
       "24998           Zone 1                   1                    0   \n",
       "24999           Zone 4                   8                    2   \n",
       "\n",
       "       Competitor_in_mkt  retail_shop_num  ... electric_supply  dist_from_hub  \\\n",
       "0                      2             4651  ...               1             91   \n",
       "1                      4             6217  ...               1            210   \n",
       "2                      4             4306  ...               0            161   \n",
       "3                      2             6000  ...               0            103   \n",
       "4                      2             4740  ...               1            112   \n",
       "...                  ...              ...  ...             ...            ...   \n",
       "24995                  4             5390  ...               1            142   \n",
       "24996                  4             4490  ...               1            130   \n",
       "24997                  2             5403  ...               1            147   \n",
       "24998                  2            10562  ...               1             60   \n",
       "24999                  4             5664  ...               1            239   \n",
       "\n",
       "       workers_num  wh_est_year  storage_issue_reported_l3m  temp_reg_mach  \\\n",
       "0             29.0          NaN                          13              0   \n",
       "1             31.0          NaN                           4              0   \n",
       "2             37.0          NaN                          17              0   \n",
       "3             21.0          NaN                          17              1   \n",
       "4             25.0       2009.0                          18              0   \n",
       "...            ...          ...                         ...            ...   \n",
       "24995         34.0       2005.0                          22              1   \n",
       "24996         28.0       2012.0                          10              0   \n",
       "24997          NaN          NaN                          23              0   \n",
       "24998         25.0          NaN                          18              0   \n",
       "24999         39.0       2019.0                           4              0   \n",
       "\n",
       "       approved_wh_govt_certificate  wh_breakdown_l3m  govt_check_l3m  \\\n",
       "0                                 A                 5              15   \n",
       "1                                 A                 3              17   \n",
       "2                                 A                 6              22   \n",
       "3                                A+                 3              27   \n",
       "4                                 C                 6              24   \n",
       "...                             ...               ...             ...   \n",
       "24995                             A                 2              30   \n",
       "24996                             B                 4              18   \n",
       "24997                            B+                 5              25   \n",
       "24998                             A                 6              30   \n",
       "24999                            B+                 2              11   \n",
       "\n",
       "       product_wg_ton  \n",
       "0               17115  \n",
       "1                5074  \n",
       "2               23137  \n",
       "3               22115  \n",
       "4               24071  \n",
       "...               ...  \n",
       "24995           32093  \n",
       "24996           12114  \n",
       "24997           27080  \n",
       "24998           25093  \n",
       "24999            5058  \n",
       "\n",
       "[25000 rows x 24 columns]"
      ]
     },
     "execution_count": 3,
     "metadata": {},
     "output_type": "execute_result"
    }
   ],
   "source": [
    "wh"
   ]
  },
  {
   "cell_type": "code",
   "execution_count": 4,
   "id": "ba707947",
   "metadata": {
    "execution": {
     "iopub.execute_input": "2024-06-26T20:19:56.308677Z",
     "iopub.status.busy": "2024-06-26T20:19:56.308277Z",
     "iopub.status.idle": "2024-06-26T20:19:56.341168Z",
     "shell.execute_reply": "2024-06-26T20:19:56.340044Z"
    },
    "papermill": {
     "duration": 0.049985,
     "end_time": "2024-06-26T20:19:56.343587",
     "exception": false,
     "start_time": "2024-06-26T20:19:56.293602",
     "status": "completed"
    },
    "tags": []
   },
   "outputs": [
    {
     "name": "stdout",
     "output_type": "stream",
     "text": [
      "<class 'pandas.core.frame.DataFrame'>\n",
      "RangeIndex: 25000 entries, 0 to 24999\n",
      "Data columns (total 24 columns):\n",
      " #   Column                        Non-Null Count  Dtype  \n",
      "---  ------                        --------------  -----  \n",
      " 0   Ware_house_ID                 25000 non-null  object \n",
      " 1   WH_Manager_ID                 25000 non-null  object \n",
      " 2   Location_type                 25000 non-null  object \n",
      " 3   WH_capacity_size              25000 non-null  object \n",
      " 4   zone                          25000 non-null  object \n",
      " 5   WH_regional_zone              25000 non-null  object \n",
      " 6   num_refill_req_l3m            25000 non-null  int64  \n",
      " 7   transport_issue_l1y           25000 non-null  int64  \n",
      " 8   Competitor_in_mkt             25000 non-null  int64  \n",
      " 9   retail_shop_num               25000 non-null  int64  \n",
      " 10  wh_owner_type                 25000 non-null  object \n",
      " 11  distributor_num               25000 non-null  int64  \n",
      " 12  flood_impacted                25000 non-null  int64  \n",
      " 13  flood_proof                   25000 non-null  int64  \n",
      " 14  electric_supply               25000 non-null  int64  \n",
      " 15  dist_from_hub                 25000 non-null  int64  \n",
      " 16  workers_num                   24010 non-null  float64\n",
      " 17  wh_est_year                   13119 non-null  float64\n",
      " 18  storage_issue_reported_l3m    25000 non-null  int64  \n",
      " 19  temp_reg_mach                 25000 non-null  int64  \n",
      " 20  approved_wh_govt_certificate  24092 non-null  object \n",
      " 21  wh_breakdown_l3m              25000 non-null  int64  \n",
      " 22  govt_check_l3m                25000 non-null  int64  \n",
      " 23  product_wg_ton                25000 non-null  int64  \n",
      "dtypes: float64(2), int64(14), object(8)\n",
      "memory usage: 4.6+ MB\n"
     ]
    }
   ],
   "source": [
    "wh.info()"
   ]
  },
  {
   "cell_type": "code",
   "execution_count": 5,
   "id": "084a59ce",
   "metadata": {
    "execution": {
     "iopub.execute_input": "2024-06-26T20:19:56.372926Z",
     "iopub.status.busy": "2024-06-26T20:19:56.372011Z",
     "iopub.status.idle": "2024-06-26T20:19:56.381374Z",
     "shell.execute_reply": "2024-06-26T20:19:56.380392Z"
    },
    "papermill": {
     "duration": 0.026403,
     "end_time": "2024-06-26T20:19:56.383702",
     "exception": false,
     "start_time": "2024-06-26T20:19:56.357299",
     "status": "completed"
    },
    "tags": []
   },
   "outputs": [],
   "source": [
    "wh = wh.dropna(subset=['wh_est_year'])"
   ]
  },
  {
   "cell_type": "code",
   "execution_count": 6,
   "id": "8de456d6",
   "metadata": {
    "execution": {
     "iopub.execute_input": "2024-06-26T20:19:56.412748Z",
     "iopub.status.busy": "2024-06-26T20:19:56.412039Z",
     "iopub.status.idle": "2024-06-26T20:19:56.418143Z",
     "shell.execute_reply": "2024-06-26T20:19:56.417020Z"
    },
    "papermill": {
     "duration": 0.02307,
     "end_time": "2024-06-26T20:19:56.420402",
     "exception": false,
     "start_time": "2024-06-26T20:19:56.397332",
     "status": "completed"
    },
    "tags": []
   },
   "outputs": [],
   "source": [
    "pd.options.mode.copy_on_write = True\n",
    "\n",
    "wh['wh_est_year'] = wh['wh_est_year'].astype(int)"
   ]
  },
  {
   "cell_type": "code",
   "execution_count": 7,
   "id": "b2f4a89f",
   "metadata": {
    "execution": {
     "iopub.execute_input": "2024-06-26T20:19:56.450345Z",
     "iopub.status.busy": "2024-06-26T20:19:56.449056Z",
     "iopub.status.idle": "2024-06-26T20:19:56.458123Z",
     "shell.execute_reply": "2024-06-26T20:19:56.457108Z"
    },
    "papermill": {
     "duration": 0.025878,
     "end_time": "2024-06-26T20:19:56.460282",
     "exception": false,
     "start_time": "2024-06-26T20:19:56.434404",
     "status": "completed"
    },
    "tags": []
   },
   "outputs": [
    {
     "data": {
      "text/plain": [
       "array([2009, 2010, 2013, 1999, 2017, 2022, 2008, 2001, 2016, 1997, 2003,\n",
       "       2006, 2019, 2015, 2012, 1998, 2021, 2004, 2000, 2005, 2011, 2014,\n",
       "       1996, 2020, 2023, 2002, 2007, 2018])"
      ]
     },
     "execution_count": 7,
     "metadata": {},
     "output_type": "execute_result"
    }
   ],
   "source": [
    "wh.wh_est_year.unique()"
   ]
  },
  {
   "cell_type": "code",
   "execution_count": 8,
   "id": "6bdc3da6",
   "metadata": {
    "execution": {
     "iopub.execute_input": "2024-06-26T20:19:56.489345Z",
     "iopub.status.busy": "2024-06-26T20:19:56.488974Z",
     "iopub.status.idle": "2024-06-26T20:19:56.495665Z",
     "shell.execute_reply": "2024-06-26T20:19:56.494466Z"
    },
    "papermill": {
     "duration": 0.023787,
     "end_time": "2024-06-26T20:19:56.497730",
     "exception": false,
     "start_time": "2024-06-26T20:19:56.473943",
     "status": "completed"
    },
    "tags": []
   },
   "outputs": [
    {
     "data": {
      "text/plain": [
       "(13119, 24)"
      ]
     },
     "execution_count": 8,
     "metadata": {},
     "output_type": "execute_result"
    }
   ],
   "source": [
    "wh.shape\n"
   ]
  },
  {
   "cell_type": "code",
   "execution_count": 9,
   "id": "f2476820",
   "metadata": {
    "execution": {
     "iopub.execute_input": "2024-06-26T20:19:56.527685Z",
     "iopub.status.busy": "2024-06-26T20:19:56.526678Z",
     "iopub.status.idle": "2024-06-26T20:19:56.541595Z",
     "shell.execute_reply": "2024-06-26T20:19:56.540387Z"
    },
    "papermill": {
     "duration": 0.032162,
     "end_time": "2024-06-26T20:19:56.543791",
     "exception": false,
     "start_time": "2024-06-26T20:19:56.511629",
     "status": "completed"
    },
    "tags": []
   },
   "outputs": [
    {
     "data": {
      "text/plain": [
       "Ware_house_ID                     0\n",
       "WH_Manager_ID                     0\n",
       "Location_type                     0\n",
       "WH_capacity_size                  0\n",
       "zone                              0\n",
       "WH_regional_zone                  0\n",
       "num_refill_req_l3m                0\n",
       "transport_issue_l1y               0\n",
       "Competitor_in_mkt                 0\n",
       "retail_shop_num                   0\n",
       "wh_owner_type                     0\n",
       "distributor_num                   0\n",
       "flood_impacted                    0\n",
       "flood_proof                       0\n",
       "electric_supply                   0\n",
       "dist_from_hub                     0\n",
       "workers_num                     538\n",
       "wh_est_year                       0\n",
       "storage_issue_reported_l3m        0\n",
       "temp_reg_mach                     0\n",
       "approved_wh_govt_certificate    473\n",
       "wh_breakdown_l3m                  0\n",
       "govt_check_l3m                    0\n",
       "product_wg_ton                    0\n",
       "dtype: int64"
      ]
     },
     "execution_count": 9,
     "metadata": {},
     "output_type": "execute_result"
    }
   ],
   "source": [
    "wh.isna().sum()"
   ]
  },
  {
   "cell_type": "code",
   "execution_count": 10,
   "id": "00b964bc",
   "metadata": {
    "execution": {
     "iopub.execute_input": "2024-06-26T20:19:56.573730Z",
     "iopub.status.busy": "2024-06-26T20:19:56.573336Z",
     "iopub.status.idle": "2024-06-26T20:19:56.627716Z",
     "shell.execute_reply": "2024-06-26T20:19:56.626525Z"
    },
    "papermill": {
     "duration": 0.07205,
     "end_time": "2024-06-26T20:19:56.630273",
     "exception": false,
     "start_time": "2024-06-26T20:19:56.558223",
     "status": "completed"
    },
    "tags": []
   },
   "outputs": [
    {
     "data": {
      "text/html": [
       "<div>\n",
       "<style scoped>\n",
       "    .dataframe tbody tr th:only-of-type {\n",
       "        vertical-align: middle;\n",
       "    }\n",
       "\n",
       "    .dataframe tbody tr th {\n",
       "        vertical-align: top;\n",
       "    }\n",
       "\n",
       "    .dataframe thead th {\n",
       "        text-align: right;\n",
       "    }\n",
       "</style>\n",
       "<table border=\"1\" class=\"dataframe\">\n",
       "  <thead>\n",
       "    <tr style=\"text-align: right;\">\n",
       "      <th></th>\n",
       "      <th>num_refill_req_l3m</th>\n",
       "      <th>transport_issue_l1y</th>\n",
       "      <th>Competitor_in_mkt</th>\n",
       "      <th>retail_shop_num</th>\n",
       "      <th>distributor_num</th>\n",
       "      <th>flood_impacted</th>\n",
       "      <th>flood_proof</th>\n",
       "      <th>electric_supply</th>\n",
       "      <th>dist_from_hub</th>\n",
       "      <th>workers_num</th>\n",
       "      <th>wh_est_year</th>\n",
       "      <th>storage_issue_reported_l3m</th>\n",
       "      <th>temp_reg_mach</th>\n",
       "      <th>wh_breakdown_l3m</th>\n",
       "      <th>govt_check_l3m</th>\n",
       "      <th>product_wg_ton</th>\n",
       "    </tr>\n",
       "  </thead>\n",
       "  <tbody>\n",
       "    <tr>\n",
       "      <th>count</th>\n",
       "      <td>13119.000000</td>\n",
       "      <td>13119.000000</td>\n",
       "      <td>13119.000000</td>\n",
       "      <td>13119.000000</td>\n",
       "      <td>13119.000000</td>\n",
       "      <td>13119.000000</td>\n",
       "      <td>13119.000000</td>\n",
       "      <td>13119.000000</td>\n",
       "      <td>13119.000000</td>\n",
       "      <td>12581.000000</td>\n",
       "      <td>13119.000000</td>\n",
       "      <td>13119.000000</td>\n",
       "      <td>13119.000000</td>\n",
       "      <td>13119.000000</td>\n",
       "      <td>13119.000000</td>\n",
       "      <td>13119.000000</td>\n",
       "    </tr>\n",
       "    <tr>\n",
       "      <th>mean</th>\n",
       "      <td>5.486851</td>\n",
       "      <td>0.448815</td>\n",
       "      <td>3.112509</td>\n",
       "      <td>4986.216175</td>\n",
       "      <td>42.467337</td>\n",
       "      <td>0.096577</td>\n",
       "      <td>0.052824</td>\n",
       "      <td>0.651193</td>\n",
       "      <td>163.544173</td>\n",
       "      <td>28.850807</td>\n",
       "      <td>2009.383185</td>\n",
       "      <td>18.333333</td>\n",
       "      <td>0.398887</td>\n",
       "      <td>3.483040</td>\n",
       "      <td>18.791905</td>\n",
       "      <td>23915.513454</td>\n",
       "    </tr>\n",
       "    <tr>\n",
       "      <th>std</th>\n",
       "      <td>1.720691</td>\n",
       "      <td>0.906070</td>\n",
       "      <td>1.149449</td>\n",
       "      <td>1051.444496</td>\n",
       "      <td>16.104239</td>\n",
       "      <td>0.295393</td>\n",
       "      <td>0.223691</td>\n",
       "      <td>0.476611</td>\n",
       "      <td>62.480858</td>\n",
       "      <td>7.918509</td>\n",
       "      <td>7.528230</td>\n",
       "      <td>9.340444</td>\n",
       "      <td>0.489688</td>\n",
       "      <td>1.687329</td>\n",
       "      <td>8.610438</td>\n",
       "      <td>11810.371414</td>\n",
       "    </tr>\n",
       "    <tr>\n",
       "      <th>min</th>\n",
       "      <td>3.000000</td>\n",
       "      <td>0.000000</td>\n",
       "      <td>0.000000</td>\n",
       "      <td>1821.000000</td>\n",
       "      <td>15.000000</td>\n",
       "      <td>0.000000</td>\n",
       "      <td>0.000000</td>\n",
       "      <td>0.000000</td>\n",
       "      <td>55.000000</td>\n",
       "      <td>10.000000</td>\n",
       "      <td>1996.000000</td>\n",
       "      <td>0.000000</td>\n",
       "      <td>0.000000</td>\n",
       "      <td>0.000000</td>\n",
       "      <td>1.000000</td>\n",
       "      <td>3062.000000</td>\n",
       "    </tr>\n",
       "    <tr>\n",
       "      <th>25%</th>\n",
       "      <td>4.000000</td>\n",
       "      <td>0.000000</td>\n",
       "      <td>2.000000</td>\n",
       "      <td>4320.000000</td>\n",
       "      <td>29.000000</td>\n",
       "      <td>0.000000</td>\n",
       "      <td>0.000000</td>\n",
       "      <td>0.000000</td>\n",
       "      <td>109.000000</td>\n",
       "      <td>23.000000</td>\n",
       "      <td>2003.000000</td>\n",
       "      <td>11.000000</td>\n",
       "      <td>0.000000</td>\n",
       "      <td>2.000000</td>\n",
       "      <td>11.000000</td>\n",
       "      <td>14127.000000</td>\n",
       "    </tr>\n",
       "    <tr>\n",
       "      <th>50%</th>\n",
       "      <td>5.000000</td>\n",
       "      <td>0.000000</td>\n",
       "      <td>3.000000</td>\n",
       "      <td>4860.000000</td>\n",
       "      <td>42.000000</td>\n",
       "      <td>0.000000</td>\n",
       "      <td>0.000000</td>\n",
       "      <td>1.000000</td>\n",
       "      <td>164.000000</td>\n",
       "      <td>28.000000</td>\n",
       "      <td>2009.000000</td>\n",
       "      <td>19.000000</td>\n",
       "      <td>0.000000</td>\n",
       "      <td>3.000000</td>\n",
       "      <td>21.000000</td>\n",
       "      <td>24102.000000</td>\n",
       "    </tr>\n",
       "    <tr>\n",
       "      <th>75%</th>\n",
       "      <td>7.000000</td>\n",
       "      <td>1.000000</td>\n",
       "      <td>4.000000</td>\n",
       "      <td>5492.000000</td>\n",
       "      <td>56.000000</td>\n",
       "      <td>0.000000</td>\n",
       "      <td>0.000000</td>\n",
       "      <td>1.000000</td>\n",
       "      <td>217.000000</td>\n",
       "      <td>33.000000</td>\n",
       "      <td>2016.000000</td>\n",
       "      <td>25.000000</td>\n",
       "      <td>1.000000</td>\n",
       "      <td>5.000000</td>\n",
       "      <td>26.000000</td>\n",
       "      <td>31129.000000</td>\n",
       "    </tr>\n",
       "    <tr>\n",
       "      <th>max</th>\n",
       "      <td>8.000000</td>\n",
       "      <td>4.000000</td>\n",
       "      <td>12.000000</td>\n",
       "      <td>11008.000000</td>\n",
       "      <td>70.000000</td>\n",
       "      <td>1.000000</td>\n",
       "      <td>1.000000</td>\n",
       "      <td>1.000000</td>\n",
       "      <td>271.000000</td>\n",
       "      <td>98.000000</td>\n",
       "      <td>2023.000000</td>\n",
       "      <td>39.000000</td>\n",
       "      <td>1.000000</td>\n",
       "      <td>6.000000</td>\n",
       "      <td>32.000000</td>\n",
       "      <td>55150.000000</td>\n",
       "    </tr>\n",
       "  </tbody>\n",
       "</table>\n",
       "</div>"
      ],
      "text/plain": [
       "       num_refill_req_l3m  transport_issue_l1y  Competitor_in_mkt  \\\n",
       "count        13119.000000         13119.000000       13119.000000   \n",
       "mean             5.486851             0.448815           3.112509   \n",
       "std              1.720691             0.906070           1.149449   \n",
       "min              3.000000             0.000000           0.000000   \n",
       "25%              4.000000             0.000000           2.000000   \n",
       "50%              5.000000             0.000000           3.000000   \n",
       "75%              7.000000             1.000000           4.000000   \n",
       "max              8.000000             4.000000          12.000000   \n",
       "\n",
       "       retail_shop_num  distributor_num  flood_impacted   flood_proof  \\\n",
       "count     13119.000000     13119.000000    13119.000000  13119.000000   \n",
       "mean       4986.216175        42.467337        0.096577      0.052824   \n",
       "std        1051.444496        16.104239        0.295393      0.223691   \n",
       "min        1821.000000        15.000000        0.000000      0.000000   \n",
       "25%        4320.000000        29.000000        0.000000      0.000000   \n",
       "50%        4860.000000        42.000000        0.000000      0.000000   \n",
       "75%        5492.000000        56.000000        0.000000      0.000000   \n",
       "max       11008.000000        70.000000        1.000000      1.000000   \n",
       "\n",
       "       electric_supply  dist_from_hub   workers_num   wh_est_year  \\\n",
       "count     13119.000000   13119.000000  12581.000000  13119.000000   \n",
       "mean          0.651193     163.544173     28.850807   2009.383185   \n",
       "std           0.476611      62.480858      7.918509      7.528230   \n",
       "min           0.000000      55.000000     10.000000   1996.000000   \n",
       "25%           0.000000     109.000000     23.000000   2003.000000   \n",
       "50%           1.000000     164.000000     28.000000   2009.000000   \n",
       "75%           1.000000     217.000000     33.000000   2016.000000   \n",
       "max           1.000000     271.000000     98.000000   2023.000000   \n",
       "\n",
       "       storage_issue_reported_l3m  temp_reg_mach  wh_breakdown_l3m  \\\n",
       "count                13119.000000   13119.000000      13119.000000   \n",
       "mean                    18.333333       0.398887          3.483040   \n",
       "std                      9.340444       0.489688          1.687329   \n",
       "min                      0.000000       0.000000          0.000000   \n",
       "25%                     11.000000       0.000000          2.000000   \n",
       "50%                     19.000000       0.000000          3.000000   \n",
       "75%                     25.000000       1.000000          5.000000   \n",
       "max                     39.000000       1.000000          6.000000   \n",
       "\n",
       "       govt_check_l3m  product_wg_ton  \n",
       "count    13119.000000    13119.000000  \n",
       "mean        18.791905    23915.513454  \n",
       "std          8.610438    11810.371414  \n",
       "min          1.000000     3062.000000  \n",
       "25%         11.000000    14127.000000  \n",
       "50%         21.000000    24102.000000  \n",
       "75%         26.000000    31129.000000  \n",
       "max         32.000000    55150.000000  "
      ]
     },
     "execution_count": 10,
     "metadata": {},
     "output_type": "execute_result"
    }
   ],
   "source": [
    "wh.describe()"
   ]
  },
  {
   "cell_type": "code",
   "execution_count": 11,
   "id": "83cb1f05",
   "metadata": {
    "execution": {
     "iopub.execute_input": "2024-06-26T20:19:56.660406Z",
     "iopub.status.busy": "2024-06-26T20:19:56.660037Z",
     "iopub.status.idle": "2024-06-26T20:19:56.705283Z",
     "shell.execute_reply": "2024-06-26T20:19:56.704238Z"
    },
    "papermill": {
     "duration": 0.063133,
     "end_time": "2024-06-26T20:19:56.707776",
     "exception": false,
     "start_time": "2024-06-26T20:19:56.644643",
     "status": "completed"
    },
    "tags": []
   },
   "outputs": [
    {
     "data": {
      "text/html": [
       "<div>\n",
       "<style scoped>\n",
       "    .dataframe tbody tr th:only-of-type {\n",
       "        vertical-align: middle;\n",
       "    }\n",
       "\n",
       "    .dataframe tbody tr th {\n",
       "        vertical-align: top;\n",
       "    }\n",
       "\n",
       "    .dataframe thead th {\n",
       "        text-align: right;\n",
       "    }\n",
       "</style>\n",
       "<table border=\"1\" class=\"dataframe\">\n",
       "  <thead>\n",
       "    <tr style=\"text-align: right;\">\n",
       "      <th></th>\n",
       "      <th>Ware_house_ID</th>\n",
       "      <th>WH_Manager_ID</th>\n",
       "      <th>Location_type</th>\n",
       "      <th>WH_capacity_size</th>\n",
       "      <th>zone</th>\n",
       "      <th>WH_regional_zone</th>\n",
       "      <th>wh_owner_type</th>\n",
       "      <th>approved_wh_govt_certificate</th>\n",
       "    </tr>\n",
       "  </thead>\n",
       "  <tbody>\n",
       "    <tr>\n",
       "      <th>count</th>\n",
       "      <td>13119</td>\n",
       "      <td>13119</td>\n",
       "      <td>13119</td>\n",
       "      <td>13119</td>\n",
       "      <td>13119</td>\n",
       "      <td>13119</td>\n",
       "      <td>13119</td>\n",
       "      <td>12646</td>\n",
       "    </tr>\n",
       "    <tr>\n",
       "      <th>unique</th>\n",
       "      <td>13119</td>\n",
       "      <td>13119</td>\n",
       "      <td>2</td>\n",
       "      <td>3</td>\n",
       "      <td>4</td>\n",
       "      <td>6</td>\n",
       "      <td>2</td>\n",
       "      <td>5</td>\n",
       "    </tr>\n",
       "    <tr>\n",
       "      <th>top</th>\n",
       "      <td>WH_100004</td>\n",
       "      <td>EID_50004</td>\n",
       "      <td>Rural</td>\n",
       "      <td>Large</td>\n",
       "      <td>North</td>\n",
       "      <td>Zone 6</td>\n",
       "      <td>Company Owned</td>\n",
       "      <td>C</td>\n",
       "    </tr>\n",
       "    <tr>\n",
       "      <th>freq</th>\n",
       "      <td>1</td>\n",
       "      <td>1</td>\n",
       "      <td>11994</td>\n",
       "      <td>5375</td>\n",
       "      <td>5403</td>\n",
       "      <td>4387</td>\n",
       "      <td>7090</td>\n",
       "      <td>2801</td>\n",
       "    </tr>\n",
       "  </tbody>\n",
       "</table>\n",
       "</div>"
      ],
      "text/plain": [
       "       Ware_house_ID WH_Manager_ID Location_type WH_capacity_size   zone  \\\n",
       "count          13119         13119         13119            13119  13119   \n",
       "unique         13119         13119             2                3      4   \n",
       "top        WH_100004     EID_50004         Rural            Large  North   \n",
       "freq               1             1         11994             5375   5403   \n",
       "\n",
       "       WH_regional_zone  wh_owner_type approved_wh_govt_certificate  \n",
       "count             13119          13119                        12646  \n",
       "unique                6              2                            5  \n",
       "top              Zone 6  Company Owned                            C  \n",
       "freq               4387           7090                         2801  "
      ]
     },
     "execution_count": 11,
     "metadata": {},
     "output_type": "execute_result"
    }
   ],
   "source": [
    "wh.select_dtypes(include='object').describe()"
   ]
  },
  {
   "cell_type": "code",
   "execution_count": 12,
   "id": "93bf58ed",
   "metadata": {
    "execution": {
     "iopub.execute_input": "2024-06-26T20:19:56.738297Z",
     "iopub.status.busy": "2024-06-26T20:19:56.737939Z",
     "iopub.status.idle": "2024-06-26T20:19:56.746851Z",
     "shell.execute_reply": "2024-06-26T20:19:56.745748Z"
    },
    "papermill": {
     "duration": 0.026944,
     "end_time": "2024-06-26T20:19:56.749133",
     "exception": false,
     "start_time": "2024-06-26T20:19:56.722189",
     "status": "completed"
    },
    "tags": []
   },
   "outputs": [
    {
     "data": {
      "text/plain": [
       "0    Large\n",
       "Name: WH_capacity_size, dtype: object"
      ]
     },
     "execution_count": 12,
     "metadata": {},
     "output_type": "execute_result"
    }
   ],
   "source": [
    "wh.WH_capacity_size.mode()"
   ]
  },
  {
   "cell_type": "markdown",
   "id": "5653957a",
   "metadata": {
    "papermill": {
     "duration": 0.014228,
     "end_time": "2024-06-26T20:19:56.777962",
     "exception": false,
     "start_time": "2024-06-26T20:19:56.763734",
     "status": "completed"
    },
    "tags": []
   },
   "source": [
    "**RECOMMENDED ANALYSIS**"
   ]
  },
  {
   "cell_type": "markdown",
   "id": "c94b72de",
   "metadata": {
    "papermill": {
     "duration": 0.013986,
     "end_time": "2024-06-26T20:19:56.806342",
     "exception": false,
     "start_time": "2024-06-26T20:19:56.792356",
     "status": "completed"
    },
    "tags": []
   },
   "source": [
    "**Q.1 What is the average capacity size of the warehouses?**"
   ]
  },
  {
   "cell_type": "code",
   "execution_count": 13,
   "id": "a5c4b1a4",
   "metadata": {
    "execution": {
     "iopub.execute_input": "2024-06-26T20:19:56.836750Z",
     "iopub.status.busy": "2024-06-26T20:19:56.836303Z",
     "iopub.status.idle": "2024-06-26T20:19:56.848137Z",
     "shell.execute_reply": "2024-06-26T20:19:56.847094Z"
    },
    "papermill": {
     "duration": 0.029618,
     "end_time": "2024-06-26T20:19:56.850335",
     "exception": false,
     "start_time": "2024-06-26T20:19:56.820717",
     "status": "completed"
    },
    "tags": []
   },
   "outputs": [
    {
     "data": {
      "text/html": [
       "<div>\n",
       "<style scoped>\n",
       "    .dataframe tbody tr th:only-of-type {\n",
       "        vertical-align: middle;\n",
       "    }\n",
       "\n",
       "    .dataframe tbody tr th {\n",
       "        vertical-align: top;\n",
       "    }\n",
       "\n",
       "    .dataframe thead th {\n",
       "        text-align: right;\n",
       "    }\n",
       "</style>\n",
       "<table border=\"1\" class=\"dataframe\">\n",
       "  <thead>\n",
       "    <tr style=\"text-align: right;\">\n",
       "      <th></th>\n",
       "      <th>WH_capacity_size</th>\n",
       "      <th>count</th>\n",
       "    </tr>\n",
       "  </thead>\n",
       "  <tbody>\n",
       "    <tr>\n",
       "      <th>0</th>\n",
       "      <td>Large</td>\n",
       "      <td>5375</td>\n",
       "    </tr>\n",
       "    <tr>\n",
       "      <th>1</th>\n",
       "      <td>Mid</td>\n",
       "      <td>5306</td>\n",
       "    </tr>\n",
       "    <tr>\n",
       "      <th>2</th>\n",
       "      <td>Small</td>\n",
       "      <td>2438</td>\n",
       "    </tr>\n",
       "  </tbody>\n",
       "</table>\n",
       "</div>"
      ],
      "text/plain": [
       "  WH_capacity_size  count\n",
       "0            Large   5375\n",
       "1              Mid   5306\n",
       "2            Small   2438"
      ]
     },
     "execution_count": 13,
     "metadata": {},
     "output_type": "execute_result"
    }
   ],
   "source": [
    "wh.WH_capacity_size.value_counts().reset_index()"
   ]
  },
  {
   "cell_type": "markdown",
   "id": "89bcb63c",
   "metadata": {
    "papermill": {
     "duration": 0.014286,
     "end_time": "2024-06-26T20:19:56.879382",
     "exception": false,
     "start_time": "2024-06-26T20:19:56.865096",
     "status": "completed"
    },
    "tags": []
   },
   "source": [
    "**Q.2 How many warehouses are located in urban areas versus rural areas?**"
   ]
  },
  {
   "cell_type": "code",
   "execution_count": 14,
   "id": "a5bd9918",
   "metadata": {
    "execution": {
     "iopub.execute_input": "2024-06-26T20:19:56.910382Z",
     "iopub.status.busy": "2024-06-26T20:19:56.909484Z",
     "iopub.status.idle": "2024-06-26T20:19:56.920849Z",
     "shell.execute_reply": "2024-06-26T20:19:56.919648Z"
    },
    "papermill": {
     "duration": 0.029347,
     "end_time": "2024-06-26T20:19:56.923171",
     "exception": false,
     "start_time": "2024-06-26T20:19:56.893824",
     "status": "completed"
    },
    "tags": []
   },
   "outputs": [
    {
     "data": {
      "text/html": [
       "<div>\n",
       "<style scoped>\n",
       "    .dataframe tbody tr th:only-of-type {\n",
       "        vertical-align: middle;\n",
       "    }\n",
       "\n",
       "    .dataframe tbody tr th {\n",
       "        vertical-align: top;\n",
       "    }\n",
       "\n",
       "    .dataframe thead th {\n",
       "        text-align: right;\n",
       "    }\n",
       "</style>\n",
       "<table border=\"1\" class=\"dataframe\">\n",
       "  <thead>\n",
       "    <tr style=\"text-align: right;\">\n",
       "      <th></th>\n",
       "      <th>Location_type</th>\n",
       "      <th>count</th>\n",
       "    </tr>\n",
       "  </thead>\n",
       "  <tbody>\n",
       "    <tr>\n",
       "      <th>0</th>\n",
       "      <td>Rural</td>\n",
       "      <td>11994</td>\n",
       "    </tr>\n",
       "    <tr>\n",
       "      <th>1</th>\n",
       "      <td>Urban</td>\n",
       "      <td>1125</td>\n",
       "    </tr>\n",
       "  </tbody>\n",
       "</table>\n",
       "</div>"
      ],
      "text/plain": [
       "  Location_type  count\n",
       "0         Rural  11994\n",
       "1         Urban   1125"
      ]
     },
     "execution_count": 14,
     "metadata": {},
     "output_type": "execute_result"
    }
   ],
   "source": [
    "wh.Location_type.value_counts().reset_index()"
   ]
  },
  {
   "cell_type": "markdown",
   "id": "6c029867",
   "metadata": {
    "papermill": {
     "duration": 0.014703,
     "end_time": "2024-06-26T20:19:56.952891",
     "exception": false,
     "start_time": "2024-06-26T20:19:56.938188",
     "status": "completed"
    },
    "tags": []
   },
   "source": [
    "**Q.3 What is the total number of retail shops served by each zone?**"
   ]
  },
  {
   "cell_type": "code",
   "execution_count": 15,
   "id": "4983193b",
   "metadata": {
    "execution": {
     "iopub.execute_input": "2024-06-26T20:19:56.984438Z",
     "iopub.status.busy": "2024-06-26T20:19:56.983670Z",
     "iopub.status.idle": "2024-06-26T20:19:56.995600Z",
     "shell.execute_reply": "2024-06-26T20:19:56.994619Z"
    },
    "papermill": {
     "duration": 0.030208,
     "end_time": "2024-06-26T20:19:56.997749",
     "exception": false,
     "start_time": "2024-06-26T20:19:56.967541",
     "status": "completed"
    },
    "tags": []
   },
   "outputs": [
    {
     "data": {
      "text/html": [
       "<div>\n",
       "<style scoped>\n",
       "    .dataframe tbody tr th:only-of-type {\n",
       "        vertical-align: middle;\n",
       "    }\n",
       "\n",
       "    .dataframe tbody tr th {\n",
       "        vertical-align: top;\n",
       "    }\n",
       "\n",
       "    .dataframe thead th {\n",
       "        text-align: right;\n",
       "    }\n",
       "</style>\n",
       "<table border=\"1\" class=\"dataframe\">\n",
       "  <thead>\n",
       "    <tr style=\"text-align: right;\">\n",
       "      <th></th>\n",
       "      <th>zone</th>\n",
       "      <th>retail_shop_num</th>\n",
       "    </tr>\n",
       "  </thead>\n",
       "  <tbody>\n",
       "    <tr>\n",
       "      <th>0</th>\n",
       "      <td>East</td>\n",
       "      <td>1076159</td>\n",
       "    </tr>\n",
       "    <tr>\n",
       "      <th>1</th>\n",
       "      <td>North</td>\n",
       "      <td>27298465</td>\n",
       "    </tr>\n",
       "    <tr>\n",
       "      <th>2</th>\n",
       "      <td>South</td>\n",
       "      <td>16304018</td>\n",
       "    </tr>\n",
       "    <tr>\n",
       "      <th>3</th>\n",
       "      <td>West</td>\n",
       "      <td>20735528</td>\n",
       "    </tr>\n",
       "  </tbody>\n",
       "</table>\n",
       "</div>"
      ],
      "text/plain": [
       "    zone  retail_shop_num\n",
       "0   East          1076159\n",
       "1  North         27298465\n",
       "2  South         16304018\n",
       "3   West         20735528"
      ]
     },
     "execution_count": 15,
     "metadata": {},
     "output_type": "execute_result"
    }
   ],
   "source": [
    "wh.groupby('zone')['retail_shop_num'].sum().reset_index()"
   ]
  },
  {
   "cell_type": "markdown",
   "id": "ec57b0d3",
   "metadata": {
    "papermill": {
     "duration": 0.014726,
     "end_time": "2024-06-26T20:19:57.027646",
     "exception": false,
     "start_time": "2024-06-26T20:19:57.012920",
     "status": "completed"
    },
    "tags": []
   },
   "source": [
    "**Q.4 Calculate the average number of workers per warehouse.**"
   ]
  },
  {
   "cell_type": "code",
   "execution_count": 16,
   "id": "864fa076",
   "metadata": {
    "execution": {
     "iopub.execute_input": "2024-06-26T20:19:57.114938Z",
     "iopub.status.busy": "2024-06-26T20:19:57.114503Z",
     "iopub.status.idle": "2024-06-26T20:19:57.128620Z",
     "shell.execute_reply": "2024-06-26T20:19:57.127631Z"
    },
    "papermill": {
     "duration": 0.088244,
     "end_time": "2024-06-26T20:19:57.130761",
     "exception": false,
     "start_time": "2024-06-26T20:19:57.042517",
     "status": "completed"
    },
    "tags": []
   },
   "outputs": [
    {
     "data": {
      "text/html": [
       "<div>\n",
       "<style scoped>\n",
       "    .dataframe tbody tr th:only-of-type {\n",
       "        vertical-align: middle;\n",
       "    }\n",
       "\n",
       "    .dataframe tbody tr th {\n",
       "        vertical-align: top;\n",
       "    }\n",
       "\n",
       "    .dataframe thead th {\n",
       "        text-align: right;\n",
       "    }\n",
       "</style>\n",
       "<table border=\"1\" class=\"dataframe\">\n",
       "  <thead>\n",
       "    <tr style=\"text-align: right;\">\n",
       "      <th></th>\n",
       "      <th>WH_regional_zone</th>\n",
       "      <th>workers_num</th>\n",
       "    </tr>\n",
       "  </thead>\n",
       "  <tbody>\n",
       "    <tr>\n",
       "      <th>0</th>\n",
       "      <td>Zone 1</td>\n",
       "      <td>28.793380</td>\n",
       "    </tr>\n",
       "    <tr>\n",
       "      <th>1</th>\n",
       "      <td>Zone 2</td>\n",
       "      <td>28.894737</td>\n",
       "    </tr>\n",
       "    <tr>\n",
       "      <th>2</th>\n",
       "      <td>Zone 3</td>\n",
       "      <td>29.130944</td>\n",
       "    </tr>\n",
       "    <tr>\n",
       "      <th>3</th>\n",
       "      <td>Zone 4</td>\n",
       "      <td>28.663721</td>\n",
       "    </tr>\n",
       "    <tr>\n",
       "      <th>4</th>\n",
       "      <td>Zone 5</td>\n",
       "      <td>28.804007</td>\n",
       "    </tr>\n",
       "    <tr>\n",
       "      <th>5</th>\n",
       "      <td>Zone 6</td>\n",
       "      <td>28.873484</td>\n",
       "    </tr>\n",
       "  </tbody>\n",
       "</table>\n",
       "</div>"
      ],
      "text/plain": [
       "  WH_regional_zone  workers_num\n",
       "0           Zone 1    28.793380\n",
       "1           Zone 2    28.894737\n",
       "2           Zone 3    29.130944\n",
       "3           Zone 4    28.663721\n",
       "4           Zone 5    28.804007\n",
       "5           Zone 6    28.873484"
      ]
     },
     "execution_count": 16,
     "metadata": {},
     "output_type": "execute_result"
    }
   ],
   "source": [
    "wh.groupby('WH_regional_zone')['workers_num'].mean().reset_index()"
   ]
  },
  {
   "cell_type": "code",
   "execution_count": 17,
   "id": "b38b064b",
   "metadata": {
    "execution": {
     "iopub.execute_input": "2024-06-26T20:19:57.163184Z",
     "iopub.status.busy": "2024-06-26T20:19:57.162479Z",
     "iopub.status.idle": "2024-06-26T20:19:57.172657Z",
     "shell.execute_reply": "2024-06-26T20:19:57.171598Z"
    },
    "papermill": {
     "duration": 0.028857,
     "end_time": "2024-06-26T20:19:57.174871",
     "exception": false,
     "start_time": "2024-06-26T20:19:57.146014",
     "status": "completed"
    },
    "tags": []
   },
   "outputs": [
    {
     "data": {
      "text/plain": [
       "zone\n",
       "East     29.125581\n",
       "North    28.820726\n",
       "South    28.888065\n",
       "West     28.846229\n",
       "Name: workers_num, dtype: float64"
      ]
     },
     "execution_count": 17,
     "metadata": {},
     "output_type": "execute_result"
    }
   ],
   "source": [
    "wh.groupby('zone')['workers_num'].mean()"
   ]
  },
  {
   "cell_type": "code",
   "execution_count": 18,
   "id": "2f7d360b",
   "metadata": {
    "execution": {
     "iopub.execute_input": "2024-06-26T20:19:57.210753Z",
     "iopub.status.busy": "2024-06-26T20:19:57.210354Z",
     "iopub.status.idle": "2024-06-26T20:19:57.220077Z",
     "shell.execute_reply": "2024-06-26T20:19:57.219092Z"
    },
    "papermill": {
     "duration": 0.029243,
     "end_time": "2024-06-26T20:19:57.222272",
     "exception": false,
     "start_time": "2024-06-26T20:19:57.193029",
     "status": "completed"
    },
    "tags": []
   },
   "outputs": [
    {
     "data": {
      "text/plain": [
       "WH_capacity_size\n",
       "Large    28.792669\n",
       "Mid      28.864450\n",
       "Small    28.949189\n",
       "Name: workers_num, dtype: float64"
      ]
     },
     "execution_count": 18,
     "metadata": {},
     "output_type": "execute_result"
    }
   ],
   "source": [
    "wh.groupby('WH_capacity_size')['workers_num'].mean()"
   ]
  },
  {
   "cell_type": "code",
   "execution_count": 19,
   "id": "7e6b25a1",
   "metadata": {
    "execution": {
     "iopub.execute_input": "2024-06-26T20:19:57.255625Z",
     "iopub.status.busy": "2024-06-26T20:19:57.254944Z",
     "iopub.status.idle": "2024-06-26T20:19:57.263288Z",
     "shell.execute_reply": "2024-06-26T20:19:57.262401Z"
    },
    "papermill": {
     "duration": 0.027567,
     "end_time": "2024-06-26T20:19:57.265487",
     "exception": false,
     "start_time": "2024-06-26T20:19:57.237920",
     "status": "completed"
    },
    "tags": []
   },
   "outputs": [],
   "source": [
    "# Fill the nulls with the average no. of workers\n",
    "wh['workers_num'] = wh['workers_num'].fillna(wh.groupby('WH_regional_zone')['workers_num'].transform('mean'))"
   ]
  },
  {
   "cell_type": "code",
   "execution_count": 20,
   "id": "0147d373",
   "metadata": {
    "execution": {
     "iopub.execute_input": "2024-06-26T20:19:57.298750Z",
     "iopub.status.busy": "2024-06-26T20:19:57.298334Z",
     "iopub.status.idle": "2024-06-26T20:19:57.306010Z",
     "shell.execute_reply": "2024-06-26T20:19:57.304850Z"
    },
    "papermill": {
     "duration": 0.027295,
     "end_time": "2024-06-26T20:19:57.308325",
     "exception": false,
     "start_time": "2024-06-26T20:19:57.281030",
     "status": "completed"
    },
    "tags": []
   },
   "outputs": [
    {
     "data": {
      "text/plain": [
       "0"
      ]
     },
     "execution_count": 20,
     "metadata": {},
     "output_type": "execute_result"
    }
   ],
   "source": [
    "wh.workers_num.isna().sum()"
   ]
  },
  {
   "cell_type": "markdown",
   "id": "0c01d7dd",
   "metadata": {
    "papermill": {
     "duration": 0.015375,
     "end_time": "2024-06-26T20:19:57.339896",
     "exception": false,
     "start_time": "2024-06-26T20:19:57.324521",
     "status": "completed"
    },
    "tags": []
   },
   "source": [
    "**Q.5 Determine the percentage of warehouses with electric supply.**"
   ]
  },
  {
   "cell_type": "code",
   "execution_count": 21,
   "id": "fc399046",
   "metadata": {
    "execution": {
     "iopub.execute_input": "2024-06-26T20:19:57.372661Z",
     "iopub.status.busy": "2024-06-26T20:19:57.372242Z",
     "iopub.status.idle": "2024-06-26T20:19:57.382240Z",
     "shell.execute_reply": "2024-06-26T20:19:57.381141Z"
    },
    "papermill": {
     "duration": 0.029018,
     "end_time": "2024-06-26T20:19:57.384481",
     "exception": false,
     "start_time": "2024-06-26T20:19:57.355463",
     "status": "completed"
    },
    "tags": []
   },
   "outputs": [
    {
     "data": {
      "text/plain": [
       "electric_supply\n",
       "1    8543\n",
       "0    4576\n",
       "Name: count, dtype: int64"
      ]
     },
     "execution_count": 21,
     "metadata": {},
     "output_type": "execute_result"
    }
   ],
   "source": [
    "wh.electric_supply.value_counts()"
   ]
  },
  {
   "cell_type": "code",
   "execution_count": 22,
   "id": "4384cf0c",
   "metadata": {
    "execution": {
     "iopub.execute_input": "2024-06-26T20:19:57.418011Z",
     "iopub.status.busy": "2024-06-26T20:19:57.417623Z",
     "iopub.status.idle": "2024-06-26T20:19:57.423892Z",
     "shell.execute_reply": "2024-06-26T20:19:57.422834Z"
    },
    "papermill": {
     "duration": 0.025655,
     "end_time": "2024-06-26T20:19:57.426056",
     "exception": false,
     "start_time": "2024-06-26T20:19:57.400401",
     "status": "completed"
    },
    "tags": []
   },
   "outputs": [
    {
     "name": "stdout",
     "output_type": "stream",
     "text": [
      "Percentage of warehouses with electric supply: 65.12%\n"
     ]
    }
   ],
   "source": [
    "total_warehouses = len(wh)\n",
    "\n",
    "warehouses_with_electric_supply = wh['electric_supply'].sum()\n",
    "\n",
    "percentage_with_electric_supply = (warehouses_with_electric_supply / total_warehouses) * 100\n",
    "\n",
    "print(f\"Percentage of warehouses with electric supply: {percentage_with_electric_supply:.2f}%\")"
   ]
  },
  {
   "cell_type": "markdown",
   "id": "9026264a",
   "metadata": {
    "papermill": {
     "duration": 0.015808,
     "end_time": "2024-06-26T20:19:57.457995",
     "exception": false,
     "start_time": "2024-06-26T20:19:57.442187",
     "status": "completed"
    },
    "tags": []
   },
   "source": [
    "**Q.6 What is the average distance of warehouses from the central distribution hub?**"
   ]
  },
  {
   "cell_type": "code",
   "execution_count": 23,
   "id": "960db9f0",
   "metadata": {
    "execution": {
     "iopub.execute_input": "2024-06-26T20:19:57.492451Z",
     "iopub.status.busy": "2024-06-26T20:19:57.492052Z",
     "iopub.status.idle": "2024-06-26T20:19:57.506183Z",
     "shell.execute_reply": "2024-06-26T20:19:57.505028Z"
    },
    "papermill": {
     "duration": 0.034087,
     "end_time": "2024-06-26T20:19:57.508703",
     "exception": false,
     "start_time": "2024-06-26T20:19:57.474616",
     "status": "completed"
    },
    "tags": []
   },
   "outputs": [
    {
     "data": {
      "text/html": [
       "<div>\n",
       "<style scoped>\n",
       "    .dataframe tbody tr th:only-of-type {\n",
       "        vertical-align: middle;\n",
       "    }\n",
       "\n",
       "    .dataframe tbody tr th {\n",
       "        vertical-align: top;\n",
       "    }\n",
       "\n",
       "    .dataframe thead th {\n",
       "        text-align: right;\n",
       "    }\n",
       "</style>\n",
       "<table border=\"1\" class=\"dataframe\">\n",
       "  <thead>\n",
       "    <tr style=\"text-align: right;\">\n",
       "      <th></th>\n",
       "      <th>zone</th>\n",
       "      <th>dist_from_hub</th>\n",
       "    </tr>\n",
       "  </thead>\n",
       "  <tbody>\n",
       "    <tr>\n",
       "      <th>0</th>\n",
       "      <td>East</td>\n",
       "      <td>167.757848</td>\n",
       "    </tr>\n",
       "    <tr>\n",
       "      <th>1</th>\n",
       "      <td>North</td>\n",
       "      <td>162.054414</td>\n",
       "    </tr>\n",
       "    <tr>\n",
       "      <th>2</th>\n",
       "      <td>South</td>\n",
       "      <td>165.168515</td>\n",
       "    </tr>\n",
       "    <tr>\n",
       "      <th>3</th>\n",
       "      <td>West</td>\n",
       "      <td>163.976689</td>\n",
       "    </tr>\n",
       "  </tbody>\n",
       "</table>\n",
       "</div>"
      ],
      "text/plain": [
       "    zone  dist_from_hub\n",
       "0   East     167.757848\n",
       "1  North     162.054414\n",
       "2  South     165.168515\n",
       "3   West     163.976689"
      ]
     },
     "execution_count": 23,
     "metadata": {},
     "output_type": "execute_result"
    }
   ],
   "source": [
    "wh.groupby('zone')['dist_from_hub'].mean().reset_index()"
   ]
  },
  {
   "cell_type": "code",
   "execution_count": 24,
   "id": "622b30c8",
   "metadata": {
    "execution": {
     "iopub.execute_input": "2024-06-26T20:19:57.542891Z",
     "iopub.status.busy": "2024-06-26T20:19:57.542481Z",
     "iopub.status.idle": "2024-06-26T20:19:57.555798Z",
     "shell.execute_reply": "2024-06-26T20:19:57.554815Z"
    },
    "papermill": {
     "duration": 0.033458,
     "end_time": "2024-06-26T20:19:57.558488",
     "exception": false,
     "start_time": "2024-06-26T20:19:57.525030",
     "status": "completed"
    },
    "tags": []
   },
   "outputs": [
    {
     "data": {
      "text/plain": [
       "zone   WH_regional_zone\n",
       "East   Zone 1              166.500000\n",
       "       Zone 3              179.189655\n",
       "       Zone 4              165.576923\n",
       "       Zone 5              154.081081\n",
       "       Zone 6              168.875000\n",
       "North  Zone 1              161.187354\n",
       "       Zone 2              163.822844\n",
       "       Zone 3              158.683594\n",
       "       Zone 4              163.462366\n",
       "       Zone 5              160.123506\n",
       "       Zone 6              163.045798\n",
       "South  Zone 1              162.706061\n",
       "       Zone 2              166.391188\n",
       "       Zone 3              163.617450\n",
       "       Zone 4              168.388646\n",
       "       Zone 5              163.159930\n",
       "       Zone 6              165.541126\n",
       "West   Zone 1              164.337255\n",
       "       Zone 2              159.045822\n",
       "       Zone 3              164.136273\n",
       "       Zone 4              164.065465\n",
       "       Zone 5              167.437659\n",
       "       Zone 6              163.074883\n",
       "Name: dist_from_hub, dtype: float64"
      ]
     },
     "execution_count": 24,
     "metadata": {},
     "output_type": "execute_result"
    }
   ],
   "source": [
    "wh.groupby(['zone', 'WH_regional_zone'])['dist_from_hub'].mean()"
   ]
  },
  {
   "cell_type": "markdown",
   "id": "63052aec",
   "metadata": {
    "papermill": {
     "duration": 0.016415,
     "end_time": "2024-06-26T20:19:57.591804",
     "exception": false,
     "start_time": "2024-06-26T20:19:57.575389",
     "status": "completed"
    },
    "tags": []
   },
   "source": [
    "**Q.7 How many warehouses have reported storage issues in the last 3 months?**"
   ]
  },
  {
   "cell_type": "code",
   "execution_count": 25,
   "id": "332103c3",
   "metadata": {
    "execution": {
     "iopub.execute_input": "2024-06-26T20:19:57.627650Z",
     "iopub.status.busy": "2024-06-26T20:19:57.627207Z",
     "iopub.status.idle": "2024-06-26T20:19:57.648714Z",
     "shell.execute_reply": "2024-06-26T20:19:57.647651Z"
    },
    "papermill": {
     "duration": 0.041629,
     "end_time": "2024-06-26T20:19:57.650980",
     "exception": false,
     "start_time": "2024-06-26T20:19:57.609351",
     "status": "completed"
    },
    "tags": []
   },
   "outputs": [
    {
     "name": "stdout",
     "output_type": "stream",
     "text": [
      "Total warehouses: 13119\n",
      "Total warehouses with storage issues: 240515\n",
      "Issues by Zone:\n",
      "    zone  issues_count\n",
      "0   East           220\n",
      "1  North          5202\n",
      "2  South          3120\n",
      "3   West          4104\n",
      "\n",
      "Issues by Regional Zone:\n",
      "  WH_regional_zone  issues_count\n",
      "0           Zone 1           980\n",
      "1           Zone 2          1500\n",
      "2           Zone 3          1461\n",
      "3           Zone 4          2169\n",
      "4           Zone 5          2318\n",
      "5           Zone 6          4218\n"
     ]
    }
   ],
   "source": [
    "# Total number of warehouses\n",
    "total_warehouses = len(wh)\n",
    "\n",
    "# Total number of warehouses with storage issues in the last 3 months\n",
    "total_issues = wh['storage_issue_reported_l3m'].sum()\n",
    "\n",
    "# Count of warehouses with storage issues by zone and regional zone\n",
    "issues_by_zone = wh[wh['storage_issue_reported_l3m'] > 0].groupby('zone').size().reset_index(name='issues_count')\n",
    "issues_by_regional_zone = wh[wh['storage_issue_reported_l3m'] > 0].groupby('WH_regional_zone').size().reset_index(name='issues_count')\n",
    "\n",
    "print(f\"Total warehouses: {total_warehouses}\")\n",
    "print(f\"Total warehouses with storage issues: {total_issues}\")\n",
    "\n",
    "print(\"Issues by Zone:\")\n",
    "print(issues_by_zone)\n",
    "\n",
    "print(\"\\nIssues by Regional Zone:\")\n",
    "print(issues_by_regional_zone)"
   ]
  },
  {
   "cell_type": "markdown",
   "id": "d3f9f6cd",
   "metadata": {
    "papermill": {
     "duration": 0.016012,
     "end_time": "2024-06-26T20:19:57.683194",
     "exception": false,
     "start_time": "2024-06-26T20:19:57.667182",
     "status": "completed"
    },
    "tags": []
   },
   "source": [
    "**Q.8 Identify the top 3 zones with the highest number of refill requests in the last 3 months.**"
   ]
  },
  {
   "cell_type": "code",
   "execution_count": 26,
   "id": "ccd8d4cd",
   "metadata": {
    "execution": {
     "iopub.execute_input": "2024-06-26T20:19:57.717327Z",
     "iopub.status.busy": "2024-06-26T20:19:57.716961Z",
     "iopub.status.idle": "2024-06-26T20:19:57.727879Z",
     "shell.execute_reply": "2024-06-26T20:19:57.726892Z"
    },
    "papermill": {
     "duration": 0.030713,
     "end_time": "2024-06-26T20:19:57.730235",
     "exception": false,
     "start_time": "2024-06-26T20:19:57.699522",
     "status": "completed"
    },
    "tags": []
   },
   "outputs": [
    {
     "data": {
      "text/plain": [
       "WH_regional_zone\n",
       "Zone 6    24061\n",
       "Zone 5    13190\n",
       "Zone 4    12286\n",
       "Name: num_refill_req_l3m, dtype: int64"
      ]
     },
     "execution_count": 26,
     "metadata": {},
     "output_type": "execute_result"
    }
   ],
   "source": [
    "wh.groupby('WH_regional_zone')['num_refill_req_l3m'].sum().sort_values(ascending=False).head(3)"
   ]
  },
  {
   "cell_type": "markdown",
   "id": "c868f2b5",
   "metadata": {
    "papermill": {
     "duration": 0.01731,
     "end_time": "2024-06-26T20:19:57.764096",
     "exception": false,
     "start_time": "2024-06-26T20:19:57.746786",
     "status": "completed"
    },
    "tags": []
   },
   "source": [
    "**Q.9 Calculate the average number of government checks per warehouse in the last 3 months.**"
   ]
  },
  {
   "cell_type": "code",
   "execution_count": 27,
   "id": "b3358ba8",
   "metadata": {
    "execution": {
     "iopub.execute_input": "2024-06-26T20:19:57.798988Z",
     "iopub.status.busy": "2024-06-26T20:19:57.798587Z",
     "iopub.status.idle": "2024-06-26T20:19:57.812059Z",
     "shell.execute_reply": "2024-06-26T20:19:57.810870Z"
    },
    "papermill": {
     "duration": 0.033844,
     "end_time": "2024-06-26T20:19:57.814506",
     "exception": false,
     "start_time": "2024-06-26T20:19:57.780662",
     "status": "completed"
    },
    "tags": []
   },
   "outputs": [
    {
     "data": {
      "text/plain": [
       "zone   WH_regional_zone\n",
       "East   Zone 1              27.666667\n",
       "       Zone 3              27.000000\n",
       "       Zone 4              26.000000\n",
       "       Zone 5              14.000000\n",
       "       Zone 6              15.000000\n",
       "North  Zone 1              18.882904\n",
       "       Zone 2              11.820513\n",
       "       Zone 3              25.500000\n",
       "       Zone 4              26.000000\n",
       "       Zone 5              18.269920\n",
       "       Zone 6              19.775630\n",
       "South  Zone 1              20.339394\n",
       "       Zone 2              24.185581\n",
       "       Zone 3              21.362416\n",
       "       Zone 4              23.019651\n",
       "       Zone 5              17.089631\n",
       "       Zone 6              14.854257\n",
       "West   Zone 1              19.160784\n",
       "       Zone 2               9.929919\n",
       "       Zone 3              20.106212\n",
       "       Zone 4              18.272296\n",
       "       Zone 5              14.100509\n",
       "       Zone 6              14.847114\n",
       "Name: govt_check_l3m, dtype: float64"
      ]
     },
     "execution_count": 27,
     "metadata": {},
     "output_type": "execute_result"
    }
   ],
   "source": [
    "wh.groupby(['zone','WH_regional_zone'])['govt_check_l3m'].mean()"
   ]
  },
  {
   "cell_type": "markdown",
   "id": "7e5d2e2a",
   "metadata": {
    "papermill": {
     "duration": 0.016311,
     "end_time": "2024-06-26T20:19:57.847405",
     "exception": false,
     "start_time": "2024-06-26T20:19:57.831094",
     "status": "completed"
    },
    "tags": []
   },
   "source": [
    "**Q.10 Determine the most common type of government certification among warehouses.**"
   ]
  },
  {
   "cell_type": "code",
   "execution_count": 28,
   "id": "0bdb3ef8",
   "metadata": {
    "execution": {
     "iopub.execute_input": "2024-06-26T20:19:57.882094Z",
     "iopub.status.busy": "2024-06-26T20:19:57.881314Z",
     "iopub.status.idle": "2024-06-26T20:19:57.890678Z",
     "shell.execute_reply": "2024-06-26T20:19:57.889666Z"
    },
    "papermill": {
     "duration": 0.029233,
     "end_time": "2024-06-26T20:19:57.893051",
     "exception": false,
     "start_time": "2024-06-26T20:19:57.863818",
     "status": "completed"
    },
    "tags": []
   },
   "outputs": [
    {
     "data": {
      "text/plain": [
       "approved_wh_govt_certificate\n",
       "C     2801\n",
       "B     2586\n",
       "B+    2573\n",
       "A     2459\n",
       "A+    2227\n",
       "Name: count, dtype: int64"
      ]
     },
     "execution_count": 28,
     "metadata": {},
     "output_type": "execute_result"
    }
   ],
   "source": [
    "wh.approved_wh_govt_certificate.value_counts()"
   ]
  },
  {
   "cell_type": "markdown",
   "id": "32f85f19",
   "metadata": {
    "papermill": {
     "duration": 0.016381,
     "end_time": "2024-06-26T20:19:57.926253",
     "exception": false,
     "start_time": "2024-06-26T20:19:57.909872",
     "status": "completed"
    },
    "tags": []
   },
   "source": [
    "# **Medium level**"
   ]
  },
  {
   "cell_type": "markdown",
   "id": "35181814",
   "metadata": {
    "papermill": {
     "duration": 0.016359,
     "end_time": "2024-06-26T20:19:57.959155",
     "exception": false,
     "start_time": "2024-06-26T20:19:57.942796",
     "status": "completed"
    },
    "tags": []
   },
   "source": [
    "**Q.1 What is the correlation between the number of workers and the number of reported storage issues in the last 3 months?**"
   ]
  },
  {
   "cell_type": "code",
   "execution_count": 29,
   "id": "b5a71ee4",
   "metadata": {
    "execution": {
     "iopub.execute_input": "2024-06-26T20:19:57.994585Z",
     "iopub.status.busy": "2024-06-26T20:19:57.993782Z",
     "iopub.status.idle": "2024-06-26T20:19:58.003789Z",
     "shell.execute_reply": "2024-06-26T20:19:58.002531Z"
    },
    "papermill": {
     "duration": 0.030223,
     "end_time": "2024-06-26T20:19:58.005983",
     "exception": false,
     "start_time": "2024-06-26T20:19:57.975760",
     "status": "completed"
    },
    "tags": []
   },
   "outputs": [
    {
     "name": "stdout",
     "output_type": "stream",
     "text": [
      "The correlation between the number of workers and the number of reported storage issues is: -0.000913066197778624\n"
     ]
    }
   ],
   "source": [
    "correlation = wh['workers_num'].corr(wh['storage_issue_reported_l3m'])\n",
    "print(f\"The correlation between the number of workers and the number of reported storage issues is: {correlation}\")"
   ]
  },
  {
   "cell_type": "markdown",
   "id": "509dbc0c",
   "metadata": {
    "papermill": {
     "duration": 0.016326,
     "end_time": "2024-06-26T20:19:58.039017",
     "exception": false,
     "start_time": "2024-06-26T20:19:58.022691",
     "status": "completed"
    },
    "tags": []
   },
   "source": [
    "**Q.2 Analyze the relationship between warehouse capacity size and the number of refill requests in the last 3 months.**"
   ]
  },
  {
   "cell_type": "code",
   "execution_count": 30,
   "id": "ed5b467a",
   "metadata": {
    "execution": {
     "iopub.execute_input": "2024-06-26T20:19:58.073946Z",
     "iopub.status.busy": "2024-06-26T20:19:58.073084Z",
     "iopub.status.idle": "2024-06-26T20:19:58.096551Z",
     "shell.execute_reply": "2024-06-26T20:19:58.095443Z"
    },
    "papermill": {
     "duration": 0.043508,
     "end_time": "2024-06-26T20:19:58.098946",
     "exception": false,
     "start_time": "2024-06-26T20:19:58.055438",
     "status": "completed"
    },
    "tags": []
   },
   "outputs": [
    {
     "data": {
      "text/html": [
       "<div>\n",
       "<style scoped>\n",
       "    .dataframe tbody tr th:only-of-type {\n",
       "        vertical-align: middle;\n",
       "    }\n",
       "\n",
       "    .dataframe tbody tr th {\n",
       "        vertical-align: top;\n",
       "    }\n",
       "\n",
       "    .dataframe thead th {\n",
       "        text-align: right;\n",
       "    }\n",
       "</style>\n",
       "<table border=\"1\" class=\"dataframe\">\n",
       "  <thead>\n",
       "    <tr style=\"text-align: right;\">\n",
       "      <th>num_refill_req_l3m</th>\n",
       "      <th>3</th>\n",
       "      <th>4</th>\n",
       "      <th>5</th>\n",
       "      <th>6</th>\n",
       "      <th>7</th>\n",
       "      <th>8</th>\n",
       "    </tr>\n",
       "    <tr>\n",
       "      <th>WH_capacity_size</th>\n",
       "      <th></th>\n",
       "      <th></th>\n",
       "      <th></th>\n",
       "      <th></th>\n",
       "      <th></th>\n",
       "      <th></th>\n",
       "    </tr>\n",
       "  </thead>\n",
       "  <tbody>\n",
       "    <tr>\n",
       "      <th>Large</th>\n",
       "      <td>931</td>\n",
       "      <td>880</td>\n",
       "      <td>913</td>\n",
       "      <td>856</td>\n",
       "      <td>887</td>\n",
       "      <td>908</td>\n",
       "    </tr>\n",
       "    <tr>\n",
       "      <th>Mid</th>\n",
       "      <td>932</td>\n",
       "      <td>870</td>\n",
       "      <td>872</td>\n",
       "      <td>837</td>\n",
       "      <td>892</td>\n",
       "      <td>903</td>\n",
       "    </tr>\n",
       "    <tr>\n",
       "      <th>Small</th>\n",
       "      <td>402</td>\n",
       "      <td>419</td>\n",
       "      <td>415</td>\n",
       "      <td>407</td>\n",
       "      <td>390</td>\n",
       "      <td>405</td>\n",
       "    </tr>\n",
       "  </tbody>\n",
       "</table>\n",
       "</div>"
      ],
      "text/plain": [
       "num_refill_req_l3m    3    4    5    6    7    8\n",
       "WH_capacity_size                                \n",
       "Large               931  880  913  856  887  908\n",
       "Mid                 932  870  872  837  892  903\n",
       "Small               402  419  415  407  390  405"
      ]
     },
     "execution_count": 30,
     "metadata": {},
     "output_type": "execute_result"
    }
   ],
   "source": [
    "wh.pivot_table(index='WH_capacity_size', columns='num_refill_req_l3m', values='Ware_house_ID', aggfunc='count')"
   ]
  },
  {
   "cell_type": "markdown",
   "id": "e88beeca",
   "metadata": {
    "papermill": {
     "duration": 0.016309,
     "end_time": "2024-06-26T20:19:58.132126",
     "exception": false,
     "start_time": "2024-06-26T20:19:58.115817",
     "status": "completed"
    },
    "tags": []
   },
   "source": [
    "**Q.3 Identify which geographical zone has the highest average number of transport issues in the last year.**"
   ]
  },
  {
   "cell_type": "code",
   "execution_count": 31,
   "id": "390a2621",
   "metadata": {
    "execution": {
     "iopub.execute_input": "2024-06-26T20:19:58.167665Z",
     "iopub.status.busy": "2024-06-26T20:19:58.166732Z",
     "iopub.status.idle": "2024-06-26T20:19:58.176563Z",
     "shell.execute_reply": "2024-06-26T20:19:58.175600Z"
    },
    "papermill": {
     "duration": 0.029773,
     "end_time": "2024-06-26T20:19:58.178686",
     "exception": false,
     "start_time": "2024-06-26T20:19:58.148913",
     "status": "completed"
    },
    "tags": []
   },
   "outputs": [
    {
     "data": {
      "text/plain": [
       "zone\n",
       "East     0.47\n",
       "North    0.47\n",
       "South    0.43\n",
       "West     0.43\n",
       "Name: transport_issue_l1y, dtype: float64"
      ]
     },
     "execution_count": 31,
     "metadata": {},
     "output_type": "execute_result"
    }
   ],
   "source": [
    "wh.groupby('zone')['transport_issue_l1y'].mean().round(decimals=2)"
   ]
  },
  {
   "cell_type": "markdown",
   "id": "1aa84850",
   "metadata": {
    "papermill": {
     "duration": 0.016779,
     "end_time": "2024-06-26T20:19:58.213765",
     "exception": false,
     "start_time": "2024-06-26T20:19:58.196986",
     "status": "completed"
    },
    "tags": []
   },
   "source": [
    "**Q.4 Calculate the average product weight per ton for warehouses that have temperature regulation machinery.**"
   ]
  },
  {
   "cell_type": "code",
   "execution_count": 32,
   "id": "79e6b7a0",
   "metadata": {
    "execution": {
     "iopub.execute_input": "2024-06-26T20:19:58.249239Z",
     "iopub.status.busy": "2024-06-26T20:19:58.248880Z",
     "iopub.status.idle": "2024-06-26T20:19:58.256925Z",
     "shell.execute_reply": "2024-06-26T20:19:58.255754Z"
    },
    "papermill": {
     "duration": 0.028215,
     "end_time": "2024-06-26T20:19:58.259083",
     "exception": false,
     "start_time": "2024-06-26T20:19:58.230868",
     "status": "completed"
    },
    "tags": []
   },
   "outputs": [
    {
     "name": "stdout",
     "output_type": "stream",
     "text": [
      "\n",
      "Average product weight per ton for warehouses with temperature regulation machinery: 25428.15\n"
     ]
    }
   ],
   "source": [
    "filtered_wh = wh[wh['temp_reg_mach']==1]\n",
    "avg_weight = filtered_wh['product_wg_ton'].mean().round(decimals=2)\n",
    "print('\\nAverage product weight per ton for warehouses with temperature regulation machinery:', avg_weight)"
   ]
  },
  {
   "cell_type": "markdown",
   "id": "de9562d2",
   "metadata": {
    "papermill": {
     "duration": 0.016778,
     "end_time": "2024-06-26T20:19:58.292902",
     "exception": false,
     "start_time": "2024-06-26T20:19:58.276124",
     "status": "completed"
    },
    "tags": []
   },
   "source": [
    "**Q.5 Determine the top 5 warehouses with the highest number of government checks in the last 3 months and analyze their storage issue reports.**"
   ]
  },
  {
   "cell_type": "code",
   "execution_count": 33,
   "id": "2a9720a8",
   "metadata": {
    "execution": {
     "iopub.execute_input": "2024-06-26T20:19:58.328622Z",
     "iopub.status.busy": "2024-06-26T20:19:58.328208Z",
     "iopub.status.idle": "2024-06-26T20:19:58.340224Z",
     "shell.execute_reply": "2024-06-26T20:19:58.339213Z"
    },
    "papermill": {
     "duration": 0.032573,
     "end_time": "2024-06-26T20:19:58.342473",
     "exception": false,
     "start_time": "2024-06-26T20:19:58.309900",
     "status": "completed"
    },
    "tags": []
   },
   "outputs": [
    {
     "data": {
      "text/html": [
       "<div>\n",
       "<style scoped>\n",
       "    .dataframe tbody tr th:only-of-type {\n",
       "        vertical-align: middle;\n",
       "    }\n",
       "\n",
       "    .dataframe tbody tr th {\n",
       "        vertical-align: top;\n",
       "    }\n",
       "\n",
       "    .dataframe thead th {\n",
       "        text-align: right;\n",
       "    }\n",
       "</style>\n",
       "<table border=\"1\" class=\"dataframe\">\n",
       "  <thead>\n",
       "    <tr style=\"text-align: right;\">\n",
       "      <th></th>\n",
       "      <th>govt_check_l3m</th>\n",
       "      <th>storage_issue_reported_l3m</th>\n",
       "    </tr>\n",
       "  </thead>\n",
       "  <tbody>\n",
       "    <tr>\n",
       "      <th>0</th>\n",
       "      <td>26</td>\n",
       "      <td>28522</td>\n",
       "    </tr>\n",
       "    <tr>\n",
       "      <th>1</th>\n",
       "      <td>23</td>\n",
       "      <td>18678</td>\n",
       "    </tr>\n",
       "    <tr>\n",
       "      <th>2</th>\n",
       "      <td>19</td>\n",
       "      <td>15399</td>\n",
       "    </tr>\n",
       "    <tr>\n",
       "      <th>3</th>\n",
       "      <td>14</td>\n",
       "      <td>13901</td>\n",
       "    </tr>\n",
       "    <tr>\n",
       "      <th>4</th>\n",
       "      <td>28</td>\n",
       "      <td>13750</td>\n",
       "    </tr>\n",
       "  </tbody>\n",
       "</table>\n",
       "</div>"
      ],
      "text/plain": [
       "   govt_check_l3m  storage_issue_reported_l3m\n",
       "0              26                       28522\n",
       "1              23                       18678\n",
       "2              19                       15399\n",
       "3              14                       13901\n",
       "4              28                       13750"
      ]
     },
     "execution_count": 33,
     "metadata": {},
     "output_type": "execute_result"
    }
   ],
   "source": [
    "wh.groupby('govt_check_l3m')['storage_issue_reported_l3m'].sum().sort_values(ascending=False).head().reset_index()"
   ]
  },
  {
   "cell_type": "markdown",
   "id": "032dc9b9",
   "metadata": {
    "papermill": {
     "duration": 0.016667,
     "end_time": "2024-06-26T20:19:58.376403",
     "exception": false,
     "start_time": "2024-06-26T20:19:58.359736",
     "status": "completed"
    },
    "tags": []
   },
   "source": [
    "**Q.6 Compare the average number of workers in warehouses located in urban areas versus rural areas.**"
   ]
  },
  {
   "cell_type": "code",
   "execution_count": 34,
   "id": "6a886190",
   "metadata": {
    "execution": {
     "iopub.execute_input": "2024-06-26T20:19:58.412187Z",
     "iopub.status.busy": "2024-06-26T20:19:58.411780Z",
     "iopub.status.idle": "2024-06-26T20:19:58.422820Z",
     "shell.execute_reply": "2024-06-26T20:19:58.421577Z"
    },
    "papermill": {
     "duration": 0.031427,
     "end_time": "2024-06-26T20:19:58.424965",
     "exception": false,
     "start_time": "2024-06-26T20:19:58.393538",
     "status": "completed"
    },
    "tags": []
   },
   "outputs": [
    {
     "data": {
      "text/plain": [
       "Location_type\n",
       "Rural    28.86\n",
       "Urban    28.73\n",
       "Name: workers_num, dtype: float64"
      ]
     },
     "execution_count": 34,
     "metadata": {},
     "output_type": "execute_result"
    }
   ],
   "source": [
    "wh.groupby('Location_type')['workers_num'].mean().round(decimals=2)"
   ]
  },
  {
   "cell_type": "markdown",
   "id": "3d79a06e",
   "metadata": {
    "papermill": {
     "duration": 0.01717,
     "end_time": "2024-06-26T20:19:58.459649",
     "exception": false,
     "start_time": "2024-06-26T20:19:58.442479",
     "status": "completed"
    },
    "tags": []
   },
   "source": [
    "**Q.7 What is the impact of the distance from the hub on the number of transport issues reported?**"
   ]
  },
  {
   "cell_type": "code",
   "execution_count": 35,
   "id": "0fc08f5f",
   "metadata": {
    "execution": {
     "iopub.execute_input": "2024-06-26T20:19:58.496198Z",
     "iopub.status.busy": "2024-06-26T20:19:58.495821Z",
     "iopub.status.idle": "2024-06-26T20:20:00.285551Z",
     "shell.execute_reply": "2024-06-26T20:20:00.284447Z"
    },
    "papermill": {
     "duration": 1.812028,
     "end_time": "2024-06-26T20:20:00.289080",
     "exception": false,
     "start_time": "2024-06-26T20:19:58.477052",
     "status": "completed"
    },
    "tags": []
   },
   "outputs": [
    {
     "name": "stdout",
     "output_type": "stream",
     "text": [
      "-0.004667275849114954\n"
     ]
    },
    {
     "data": {
      "text/html": [
       "        <script type=\"text/javascript\">\n",
       "        window.PlotlyConfig = {MathJaxConfig: 'local'};\n",
       "        if (window.MathJax && window.MathJax.Hub && window.MathJax.Hub.Config) {window.MathJax.Hub.Config({SVG: {font: \"STIX-Web\"}});}\n",
       "        if (typeof require !== 'undefined') {\n",
       "        require.undef(\"plotly\");\n",
       "        requirejs.config({\n",
       "            paths: {\n",
       "                'plotly': ['https://cdn.plot.ly/plotly-2.27.0.min']\n",
       "            }\n",
       "        });\n",
       "        require(['plotly'], function(Plotly) {\n",
       "            window._Plotly = Plotly;\n",
       "        });\n",
       "        }\n",
       "        </script>\n",
       "        "
      ]
     },
     "metadata": {},
     "output_type": "display_data"
    },
    {
     "data": {
      "text/html": [
       "<div>                            <div id=\"edbf5825-d005-4cc7-b63f-bbb388b841e4\" class=\"plotly-graph-div\" style=\"height:525px; width:100%;\"></div>            <script type=\"text/javascript\">                require([\"plotly\"], function(Plotly) {                    window.PLOTLYENV=window.PLOTLYENV || {};                                    if (document.getElementById(\"edbf5825-d005-4cc7-b63f-bbb388b841e4\")) {                    Plotly.newPlot(                        \"edbf5825-d005-4cc7-b63f-bbb388b841e4\",                        [{\"hovertemplate\":\"transport_issue_l1y=%{x}\\u003cbr\\u003edist_from_hub=%{marker.size}\\u003cextra\\u003e\\u003c\\u002fextra\\u003e\",\"legendgroup\":\"\",\"marker\":{\"color\":\"#636efa\",\"size\":[112,152,77,124,150,225,95,242,159,65,156,199,80,67,261,230,164,197,80,262,125,94,153,80,123,167,220,216,196,240,242,190,253,66,229,219,110,239,237,181,255,151,58,256,212,257,70,160,181,96,271,109,173,114,96,141,261,165,204,227,247,78,248,105,69,171,161,92,262,223,86,128,145,115,187,200,97,106,134,133,80,256,181,164,235,91,152,240,81,187,264,142,101,176,212,221,175,159,170,206,161,141,86,157,157,152,145,96,194,101,92,270,270,228,174,139,264,122,62,169,136,255,210,86,82,186,75,123,193,60,222,90,119,183,224,222,267,70,61,57,60,149,106,193,160,254,138,103,156,148,97,236,241,94,118,222,264,255,177,65,80,248,180,211,154,159,251,179,189,106,162,174,115,73,191,112,158,97,265,63,245,94,195,206,92,221,214,61,77,155,202,124,165,193,152,129,85,210,203,90,60,246,269,92,110,74,214,79,134,246,248,101,251,181,168,254,200,214,230,207,238,220,225,192,160,212,250,176,134,72,174,243,126,238,199,247,235,102,167,158,162,79,74,86,169,219,92,60,159,101,147,267,217,163,197,72,114,227,233,77,155,132,207,113,233,243,197,186,264,124,213,59,230,203,227,270,184,228,227,154,150,106,170,112,204,223,77,57,69,139,206,194,120,161,256,215,190,166,65,208,99,265,87,167,75,86,111,210,154,160,201,255,261,113,163,84,259,166,111,89,270,58,87,145,236,141,161,82,210,237,257,180,93,107,201,188,85,171,161,186,93,136,163,65,179,244,156,103,80,140,201,268,241,134,213,212,248,65,99,232,141,185,121,242,204,242,56,254,183,237,88,70,102,243,223,231,211,160,109,163,125,163,188,114,266,262,238,208,205,126,237,190,63,215,159,101,208,84,104,168,193,147,185,124,63,79,268,208,191,65,173,222,244,146,67,60,87,258,113,270,153,73,110,256,244,264,153,99,183,182,202,99,112,114,143,68,257,68,266,57,177,140,241,239,187,74,268,137,66,211,159,211,173,168,248,70,81,93,90,71,242,129,132,73,90,101,177,119,80,246,254,229,117,179,250,93,105,175,231,114,129,146,118,195,92,67,255,86,240,102,202,62,193,150,149,55,115,184,141,157,256,186,137,139,135,66,221,256,76,227,170,184,103,58,228,171,261,159,232,96,162,207,239,83,61,159,204,147,116,176,78,98,216,197,187,129,162,165,105,162,205,242,182,98,179,238,134,180,206,207,260,264,124,169,57,156,223,109,234,166,158,80,103,267,259,239,64,215,185,158,203,260,201,248,269,80,102,106,62,265,243,113,117,136,216,182,207,139,94,92,268,93,158,60,232,108,258,242,233,86,235,193,207,264,146,116,232,178,77,57,251,174,250,188,234,168,221,244,173,105,184,198,127,149,98,257,263,145,152,170,161,169,253,84,117,171,250,267,105,225,171,146,224,195,138,161,65,99,87,62,230,241,230,55,144,104,154,102,90,85,225,258,82,260,209,214,269,171,239,58,199,101,204,265,230,163,219,101,151,95,253,236,167,271,186,259,221,207,180,150,235,240,268,137,247,125,94,58,192,120,263,73,96,67,95,252,76,157,220,133,254,182,188,86,228,135,150,86,234,234,55,176,253,211,211,110,164,171,110,149,259,185,91,168,213,267,181,160,92,74,66,222,212,258,163,88,199,235,213,223,253,71,207,219,86,146,63,198,137,255,233,120,56,235,154,241,159,179,256,199,168,253,177,57,168,155,86,57,110,103,257,134,201,108,111,66,120,78,192,113,171,75,230,140,113,158,80,198,178,197,226,161,152,222,225,56,205,261,154,212,109,253,151,58,268,235,179,206,82,126,208,171,108,71,77,224,262,149,164,98,208,81,127,96,150,219,118,189,92,120,203,131,108,266,103,113,237,258,214,240,165,269,70,143,239,175,164,101,161,191,81,219,95,198,247,128,211,218,61,256,133,98,81,251,156,130,212,160,208,113,156,267,56,234,132,74,269,232,211,232,153,166,198,163,239,96,89,232,253,200,106,196,127,168,166,249,217,108,224,204,258,101,90,95,160,258,260,267,91,187,219,77,97,227,90,68,217,152,77,248,231,102,116,212,251,247,213,179,167,58,188,258,251,268,125,190,203,239,144,145,73,157,104,234,102,213,251,266,134,67,203,140,165,109,161,222,223,84,79,129,199,85,226,252,268,162,126,207,158,125,81,166,67,239,219,113,109,180,220,198,261,90,197,170,244,177,208,192,110,187,87,102,84,264,58,122,192,158,169,83,102,160,142,135,107,133,179,229,65,104,204,220,117,145,250,192,199,59,124,97,220,81,91,248,223,104,60,70,270,70,95,184,123,271,89,260,109,111,172,82,219,232,87,260,100,263,179,239,116,187,198,91,242,247,110,237,124,133,253,222,89,213,204,195,188,61,113,140,108,111,105,171,63,194,227,80,63,103,145,183,172,170,229,240,62,183,141,202,197,160,210,89,115,104,72,205,217,231,61,157,88,271,75,242,232,186,159,172,95,254,205,249,153,55,58,213,144,61,173,229,221,228,126,254,136,242,215,175,270,207,116,123,187,269,189,251,198,109,176,136,57,244,200,99,87,56,255,166,80,99,247,113,207,191,230,127,79,212,224,190,232,252,199,265,169,233,146,166,212,181,215,266,240,132,65,254,149,144,77,67,139,112,138,163,179,113,264,61,126,161,145,187,210,140,257,147,145,116,145,125,91,186,253,251,118,101,155,213,254,172,80,179,234,184,227,147,163,193,204,130,95,265,128,71,105,113,162,245,60,248,154,232,218,58,152,145,271,216,246,268,121,261,259,192,69,142,154,56,208,199,225,117,176,252,180,167,219,224,187,97,241,173,126,114,161,261,140,178,70,247,118,266,228,211,228,92,93,114,186,162,100,231,198,249,189,150,226,172,137,236,259,152,137,165,251,129,94,225,155,100,219,176,158,251,117,187,222,164,177,101,122,200,183,78,242,58,221,216,186,220,103,82,88,157,189,163,55,87,120,162,107,232,124,75,119,102,179,255,161,173,110,128,214,67,188,270,237,79,159,195,268,189,169,83,116,205,119,143,242,117,155,180,187,215,163,120,141,190,244,256,262,199,226,190,232,89,114,197,159,163,141,131,256,225,114,223,227,173,224,64,68,184,157,176,198,268,66,125,120,229,152,242,201,158,249,83,153,226,153,105,206,59,178,106,128,239,74,143,253,139,195,171,82,268,262,154,239,243,254,105,117,195,162,142,235,176,148,258,71,118,158,127,268,64,179,114,56,143,124,211,66,122,160,167,171,128,100,258,91,228,259,229,258,104,112,263,155,198,225,175,225,145,86,138,124,188,198,138,90,146,244,247,56,226,78,206,245,99,154,161,203,99,213,99,257,130,135,234,246,133,196,135,151,222,92,269,94,214,116,234,75,57,100,181,217,196,170,192,160,92,73,253,113,94,146,135,178,169,157,165,60,197,105,105,159,210,98,241,66,217,109,185,131,201,199,230,269,66,107,154,106,218,270,109,255,237,151,162,255,121,212,173,63,137,167,93,165,180,148,248,249,145,65,61,65,177,72,219,139,271,134,232,83,186,115,244,127,198,212,105,239,127,163,107,241,239,217,226,129,188,248,89,196,109,75,64,205,131,105,217,261,248,75,209,177,142,152,231,140,97,81,244,112,174,257,268,261,60,261,242,175,160,218,70,193,116,147,137,81,219,221,193,141,233,206,129,264,109,201,99,120,217,73,71,224,177,238,118,84,172,61,81,126,58,109,173,161,94,247,185,163,83,152,163,171,92,69,195,251,132,224,86,252,205,188,87,114,100,218,72,146,131,80,194,218,61,118,68,121,99,64,111,253,243,112,255,85,199,119,269,254,139,112,162,176,109,211,212,74,266,222,265,94,69,123,250,128,255,58,169,84,124,246,251,222,205,245,175,205,67,236,204,248,145,190,205,199,115,234,61,103,183,60,209,167,250,163,271,171,183,126,239,57,145,260,248,222,215,79,193,115,149,151,233,96,238,79,171,156,223,169,90,177,212,178,188,241,169,235,222,257,136,166,103,164,86,192,234,259,239,239,255,101,183,122,215,184,259,184,220,166,121,96,175,242,153,172,198,211,228,257,61,218,229,212,155,267,223,197,169,135,84,216,77,96,153,242,173,200,194,128,70,149,270,147,159,166,191,256,135,55,138,226,136,257,183,205,237,209,89,91,252,151,119,151,176,202,209,149,225,259,125,181,230,82,146,231,171,230,231,187,131,145,112,75,251,124,157,96,69,142,260,262,141,267,55,97,88,147,260,227,237,232,194,75,261,124,262,134,219,84,84,79,158,227,196,237,164,100,264,56,132,255,246,141,246,144,135,178,154,91,209,139,209,154,86,192,72,248,55,56,215,99,146,110,94,74,148,122,209,207,152,105,260,268,245,230,240,64,268,218,188,210,97,220,179,263,87,257,85,130,239,71,218,230,126,104,58,147,133,174,110,186,219,108,193,141,267,244,142,167,71,103,156,66,184,179,147,156,141,176,264,178,257,260,180,131,230,128,144,229,146,74,233,159,100,251,187,152,98,135,260,211,86,208,111,204,68,203,148,68,174,111,175,145,246,226,231,197,170,172,258,96,98,240,173,249,73,228,135,117,267,222,238,229,108,67,56,186,95,232,94,245,113,59,189,198,105,206,108,56,65,106,91,158,234,99,247,209,202,188,138,240,244,236,59,234,64,233,219,57,165,139,131,215,250,94,150,173,236,191,203,107,252,269,256,241,107,87,219,266,224,106,68,209,190,72,58,257,76,126,233,86,118,146,141,174,159,97,156,90,233,250,143,145,158,101,253,174,131,262,61,151,72,236,71,192,107,73,215,237,187,56,209,73,256,231,248,251,73,162,214,57,158,217,100,118,196,140,205,146,130,218,235,65,169,259,76,120,114,127,116,152,231,96,162,169,225,92,115,172,180,256,130,95,170,164,246,244,268,190,156,77,226,248,96,116,176,61,185,116,239,225,145,186,147,215,248,199,202,157,238,173,126,83,244,71,111,209,241,150,264,149,216,172,181,96,119,137,152,159,202,182,78,107,128,221,157,107,147,229,106,186,165,92,266,99,113,113,183,94,111,63,56,62,224,168,93,247,75,199,239,168,119,227,125,180,229,56,265,217,59,202,239,75,226,144,214,117,195,264,99,56,172,270,151,154,209,200,170,56,149,138,60,241,139,252,63,68,150,106,115,108,224,195,170,161,129,226,102,165,158,145,144,155,107,145,62,115,266,84,84,266,59,103,87,209,142,220,118,191,200,164,136,120,64,176,60,224,87,81,124,83,91,55,218,130,203,141,167,136,243,190,159,203,175,185,134,150,216,71,253,198,162,76,231,104,223,190,177,162,93,68,257,203,116,167,138,86,187,110,95,80,88,76,239,162,150,57,153,110,158,171,76,237,163,69,229,266,98,225,222,147,65,168,242,171,65,227,221,163,159,166,223,249,180,229,206,133,145,82,212,175,111,243,206,271,248,212,95,75,194,253,72,97,84,135,238,152,61,119,170,206,109,204,73,141,114,142,244,86,105,251,220,226,86,163,90,212,83,165,139,270,263,189,131,253,173,72,231,67,65,72,230,258,143,74,251,267,254,100,64,133,105,230,250,130,200,116,63,68,123,157,222,65,198,194,168,169,152,157,190,199,93,233,84,119,81,97,151,149,123,162,269,204,87,179,192,74,214,144,178,214,258,221,123,83,218,153,124,199,131,258,156,241,100,69,223,227,68,194,111,85,115,209,60,109,215,249,61,143,141,90,248,104,159,238,263,210,204,208,254,176,133,145,170,158,254,125,204,115,102,97,238,154,168,66,79,255,205,192,108,74,136,207,174,111,171,183,269,132,99,98,58,107,83,203,140,208,207,143,220,224,126,256,152,204,199,198,68,202,76,265,134,236,64,182,82,112,191,256,174,114,204,248,105,172,247,77,199,193,247,179,243,117,89,170,227,173,115,240,83,97,116,170,119,221,159,239,106,265,173,132,167,247,146,137,125,55,242,254,198,98,155,170,266,127,268,245,82,165,155,178,236,185,179,205,126,176,124,187,85,218,169,84,203,149,243,125,196,139,200,112,237,173,222,258,107,245,84,70,271,79,88,216,177,107,135,177,122,258,150,108,216,211,80,210,81,198,173,95,190,255,183,133,162,188,99,254,249,107,269,128,231,209,119,67,239,168,168,248,145,223,146,263,152,109,122,145,193,129,189,89,192,70,217,60,163,162,163,106,110,60,227,66,157,243,146,240,201,101,174,177,117,151,190,101,269,116,182,81,109,135,129,235,158,57,240,252,148,58,87,227,264,156,81,237,76,256,139,67,173,159,153,78,231,184,253,80,260,271,181,251,191,200,85,239,89,98,108,191,140,103,75,152,142,84,210,237,62,149,77,76,151,98,144,70,131,251,108,84,63,270,189,248,149,173,230,131,247,214,156,132,151,86,209,258,252,132,73,202,60,180,234,165,140,227,193,103,214,89,108,148,87,193,174,139,243,131,212,92,232,162,75,250,242,268,137,204,102,110,168,135,206,69,268,146,218,221,138,172,237,214,148,164,238,271,108,201,156,206,174,267,140,107,131,180,136,111,98,140,150,184,89,84,177,165,210,189,257,92,140,120,84,103,89,265,154,137,142,240,258,86,224,69,121,233,158,133,94,100,73,144,132,176,101,256,127,257,169,145,236,268,262,235,87,154,183,158,249,159,58,238,181,60,105,153,141,250,56,227,180,269,102,216,261,218,193,170,59,190,247,75,123,137,130,109,180,236,63,131,232,81,61,66,130,201,164,268,190,125,206,72,251,164,156,103,239,94,186,71,266,64,241,252,157,256,121,204,238,212,213,188,255,242,197,231,204,196,165,120,175,167,256,120,250,251,152,88,229,132,65,200,156,233,170,82,155,182,94,103,223,102,62,228,63,197,62,268,104,174,246,122,62,69,268,221,140,91,103,176,228,232,126,269,251,60,125,60,241,261,165,201,80,186,221,64,83,138,88,159,139,57,55,72,209,137,227,73,63,155,90,193,152,133,265,219,243,146,158,125,106,146,235,106,148,181,55,186,172,82,73,136,67,194,126,200,178,197,73,222,234,166,270,153,206,69,85,74,120,110,139,85,92,82,178,146,56,103,173,224,143,160,260,92,75,153,97,72,258,209,139,234,221,84,229,258,228,79,84,199,94,223,188,204,74,186,210,268,133,101,101,243,168,224,147,247,239,115,178,71,261,124,84,75,179,117,57,156,150,90,79,157,214,216,270,69,266,80,56,107,115,219,110,115,78,173,62,194,136,155,55,188,70,209,191,78,68,62,201,139,115,143,106,227,237,162,195,162,68,209,185,261,238,220,265,104,269,60,235,270,96,73,97,127,156,121,242,79,195,232,245,55,107,143,146,91,142,268,93,75,245,191,244,181,196,60,190,256,174,112,89,104,196,197,117,217,252,118,200,264,145,75,125,68,176,257,200,267,91,60,144,117,194,97,249,226,104,107,196,162,125,236,248,234,111,231,61,180,155,192,187,102,94,114,70,156,234,183,244,165,192,181,92,116,127,188,181,214,191,131,120,167,252,121,149,258,120,211,198,213,195,228,198,214,117,184,242,155,152,172,257,234,187,153,230,108,99,82,188,150,196,72,126,152,125,158,235,106,217,59,162,237,55,159,222,267,96,210,196,232,120,65,78,185,219,149,83,253,90,184,168,74,137,150,135,214,259,234,261,112,88,114,199,120,68,164,58,80,141,76,263,91,88,203,244,94,195,107,202,62,270,211,101,154,79,190,242,155,251,89,111,188,75,219,104,89,143,234,266,91,181,216,89,260,215,155,262,65,203,201,87,212,95,108,107,263,123,178,120,74,218,59,143,148,161,70,244,179,235,150,93,156,250,162,139,235,84,211,270,223,188,153,190,208,133,265,157,237,174,172,167,100,169,180,226,220,226,160,113,260,105,80,261,55,221,212,69,173,59,112,195,249,112,84,145,114,249,147,153,109,148,256,269,244,94,224,214,218,194,96,101,136,187,59,88,63,138,242,72,106,209,185,242,115,121,158,150,219,194,104,271,217,124,267,259,228,247,172,121,96,58,64,145,215,240,77,158,101,87,201,111,215,200,188,163,264,267,231,92,143,173,215,183,172,173,267,86,246,153,134,193,245,255,182,214,173,138,142,245,162,173,136,173,199,96,182,55,236,57,233,95,188,107,145,110,165,159,142,237,174,254,117,90,65,63,235,153,158,90,238,133,213,270,68,202,256,215,246,132,84,180,88,223,73,96,238,69,147,248,254,163,137,173,183,65,251,92,267,86,69,225,238,234,193,170,231,179,167,115,252,150,229,134,80,197,252,136,263,91,167,235,244,114,182,106,57,183,254,263,96,75,153,222,150,183,159,163,88,165,84,76,155,250,78,257,228,230,115,102,147,100,252,173,263,203,249,151,131,95,146,74,85,98,186,264,235,110,59,108,171,73,199,257,214,236,189,114,242,120,207,186,151,249,192,248,242,169,244,164,91,209,243,125,134,176,232,208,165,70,83,198,62,270,68,213,253,135,221,97,81,92,59,264,251,232,251,74,183,250,213,215,144,176,190,242,122,145,123,94,162,148,238,105,65,168,239,103,159,103,157,258,195,249,118,73,137,247,90,62,200,74,255,196,58,117,269,244,80,242,192,89,244,266,241,91,143,78,96,98,178,144,170,189,230,144,253,243,96,62,78,69,118,121,99,214,268,68,131,265,265,111,255,55,195,60,190,93,214,97,177,210,236,88,90,78,219,76,181,197,139,210,238,203,116,121,195,264,107,246,236,215,157,55,89,196,84,212,260,162,161,75,71,180,64,135,80,229,130,61,65,168,59,65,159,84,135,200,123,194,199,174,244,208,86,238,231,163,267,247,209,233,229,100,80,258,173,153,134,144,252,239,262,213,159,99,196,95,108,207,197,176,127,163,77,79,58,92,220,157,123,181,270,174,104,120,132,84,186,226,245,236,218,132,79,196,223,266,181,207,125,198,109,171,77,82,115,141,220,254,248,117,227,69,132,83,257,117,80,249,83,97,251,193,214,270,121,189,200,62,268,211,259,107,133,64,185,131,184,104,167,197,175,174,73,185,231,202,153,236,159,113,190,58,168,65,249,115,126,260,91,205,187,77,92,258,200,149,227,113,196,83,79,64,141,208,244,58,248,199,187,143,198,138,98,252,69,213,206,237,159,218,211,195,228,129,165,177,269,154,250,186,61,244,261,75,237,190,218,258,123,109,165,185,185,62,70,107,114,175,253,201,118,163,164,261,104,218,69,135,89,174,105,267,65,244,132,90,255,168,247,237,214,136,174,207,230,91,249,270,240,93,224,170,244,242,137,148,179,109,130,255,134,65,243,103,111,182,204,271,98,202,209,157,56,186,209,218,125,118,262,268,188,234,223,145,180,82,161,245,104,151,93,93,103,191,180,141,81,92,233,185,184,91,121,127,159,219,63,163,113,119,73,148,210,185,79,86,142,165,71,199,202,157,203,233,191,213,154,227,207,81,218,165,140,84,142,245,239,120,135,202,211,109,166,197,184,112,67,268,86,169,71,135,194,185,201,57,270,96,175,186,263,216,250,190,259,110,164,158,75,99,198,198,155,79,224,128,158,181,180,124,171,218,101,100,126,229,193,171,252,133,181,170,97,119,84,121,207,123,252,244,235,185,71,259,181,156,175,128,168,99,99,120,194,200,150,236,216,217,269,84,130,102,133,187,101,94,131,125,76,120,156,246,63,186,192,201,78,61,243,60,247,262,253,219,126,89,154,262,166,269,130,184,189,180,212,89,97,216,176,254,56,171,160,70,239,169,191,111,97,149,254,121,95,155,117,258,128,151,119,125,69,214,257,70,90,220,167,63,129,233,255,203,63,224,167,270,247,155,170,189,66,247,61,221,69,104,99,165,218,73,73,89,213,165,249,212,72,267,125,62,117,128,189,119,216,92,213,133,159,205,85,201,213,256,125,60,177,181,270,104,184,215,120,269,255,193,264,216,178,77,208,77,135,197,82,194,154,76,178,162,174,235,145,211,262,119,110,64,110,77,149,245,185,78,204,181,193,157,110,228,62,100,78,92,165,200,211,142,132,203,246,225,192,71,88,169,174,162,106,163,76,117,166,236,197,187,159,270,117,183,139,187,248,244,194,155,270,60,269,217,126,60,94,248,261,177,245,104,180,126,58,191,76,192,256,132,143,73,161,198,86,125,59,193,245,226,194,150,112,242,137,129,108,235,268,66,123,83,176,240,139,77,230,204,233,223,203,96,265,132,218,101,215,210,192,228,206,262,192,141,244,217,211,100,97,143,142,57,270,76,152,141,89,94,212,152,128,149,103,182,159,135,242,63,176,80,79,160,99,125,244,174,105,181,185,207,125,177,153,216,81,110,116,107,97,63,156,136,174,151,105,123,57,101,75,87,213,72,147,201,213,133,164,179,162,189,71,146,263,163,66,246,99,167,264,88,250,221,92,246,261,245,234,73,89,204,257,271,92,262,151,58,94,150,186,116,117,189,73,149,87,222,130,215,136,78,152,141,200,96,206,143,257,102,158,250,119,168,147,125,91,83,271,188,130,112,80,133,254,261,118,212,173,116,88,224,261,131,262,60,249,78,155,259,260,173,179,243,263,63,258,176,63,157,216,92,267,119,101,99,258,155,185,182,93,227,160,244,225,169,210,115,81,170,136,247,112,176,104,238,72,129,115,244,212,117,261,96,246,88,111,271,187,56,152,167,117,79,131,211,210,150,212,75,159,61,247,261,209,123,206,83,92,73,107,97,200,127,207,126,130,147,165,270,79,115,87,205,82,211,121,151,203,195,94,165,132,129,136,190,249,257,87,180,94,192,243,255,135,113,183,74,128,252,158,173,129,69,64,113,205,104,74,270,62,89,139,182,158,123,97,205,69,240,271,153,106,182,251,86,186,88,260,128,144,163,159,140,260,253,124,94,225,60,68,96,245,188,68,260,120,96,94,76,62,145,266,126,71,121,201,60,247,155,263,189,140,208,135,138,189,145,195,161,235,195,77,56,225,163,58,75,157,76,169,99,78,213,71,138,122,204,102,195,138,89,142,186,245,268,72,178,209,137,234,248,99,197,251,167,167,204,102,261,77,212,124,197,253,115,149,136,72,199,151,114,209,248,160,155,258,139,256,264,254,227,176,140,254,256,155,229,205,88,76,125,100,161,94,210,140,244,122,176,147,177,154,230,105,71,136,69,137,245,245,236,87,173,270,222,172,73,265,172,186,265,57,186,77,91,131,138,240,159,70,160,87,177,75,189,253,227,104,80,78,162,254,230,79,208,84,124,100,121,253,191,182,87,234,234,75,123,68,149,180,136,176,247,81,150,243,69,257,177,59,186,205,171,227,156,185,260,86,144,93,222,74,188,105,88,110,147,127,216,98,186,107,216,161,188,177,191,221,127,153,174,131,174,167,125,144,191,222,235,167,256,248,98,182,205,196,234,112,97,96,81,255,88,154,169,145,151,255,90,88,77,129,253,136,198,152,90,234,257,241,260,121,203,64,67,189,144,217,270,267,56,261,253,134,96,87,210,265,271,233,208,107,220,79,236,57,108,203,101,258,169,104,121,264,107,80,63,170,211,210,72,236,162,63,210,260,141,115,204,196,172,230,85,88,217,58,250,213,165,269,143,134,223,128,265,243,134,86,85,248,152,131,218,239,146,261,79,69,184,159,131,164,172,267,194,136,265,222,180,201,66,144,243,215,271,93,178,160,269,179,132,139,204,248,241,169,192,145,108,224,151,207,105,228,212,230,163,216,63,183,241,209,75,226,80,74,121,193,133,139,234,186,203,101,192,156,129,166,249,63,136,167,147,65,81,125,250,110,168,265,106,126,148,78,78,245,205,187,64,241,143,222,220,180,64,81,106,60,255,267,65,178,131,210,152,160,194,88,65,102,62,266,125,271,214,74,183,182,62,250,119,192,76,79,97,223,209,91,184,182,232,170,164,185,79,159,195,57,204,240,67,137,94,112,180,66,99,148,67,162,152,60,145,264,84,155,72,225,194,222,186,244,104,159,140,83,199,116,86,218,79,230,253,124,157,225,70,126,62,217,208,165,205,119,101,251,101,108,106,259,199,262,219,181,255,56,74,118,84,80,149,67,213,101,151,171,145,153,266,187,102,157,99,223,174,177,125,155,60,220,70,125,208,84,167,94,225,252,182,142,183,252,94,91,238,149,193,219,72,192,267,62,122,120,81,183,121,140,131,204,136,223,127,250,125,89,111,239,181,208,148,212,61,172,156,56,251,208,90,193,146,195,226,189,98,109,193,108,62,251,168,211,134,80,225,183,177,200,131,89,156,260,122,126,114,62,253,191,212,198,257,105,169,181,123,93,155,200,216,270,202,123,90,204,175,226,101,83,229,169,187,130,151,187,225,195,185,242,75,59,184,89,123,116,133,182,104,107,159,260,223,69,248,130,113,87,246,81,96,246,206,160,109,225,255,73,63,113,200,135,225,72,240,65,260,80,63,113,227,257,267,146,245,175,141,241,72,266,138,64,245,174,180,140,137,238,189,193,173,203,215,202,217,227,197,136,166,78,163,185,271,261,86,133,121,55,190,187,139,97,256,66,172,136,104,236,223,125,131,165,163,217,137,213,245,104,218,172,122,140,271,270,57,228,239,228,243,132,194,69,120,85,268,59,115,158,263,143,159,185,125,90,241,171,127,171,260,162,248,268,233,198,120,59,257,270,81,219,202,246,83,218,58,236,241,226,126,207,257,84,108,115,270,196,75,98,110,217,71,207,76,202,186,125,151,65,88,114,62,106,59,131,262,268,196,168,180,99,259,207,77,106,182,186,113,225,131,185,115,208,68,207,245,235,228,211,120,109,215,201,219,177,252,188,166,229,174,118,246,138,247,61,186,224,159,55,180,182,154,130,122,78,191,155,113,86,229,247,190,72,251,81,271,146,266,244,243,138,243,159,134,135,87,59,257,231,77,57,231,120,123,181,182,166,231,74,113,254,236,116,243,209,150,271,151,224,231,69,125,205,186,86,225,271,75,191,171,165,167,228,92,55,104,125,247,173,216,115,190,74,212,89,83,126,69,70,115,236,104,262,167,55,139,111,195,195,147,90,214,167,117,105,208,235,208,250,129,181,249,107,192,230,270,223,152,191,170,121,92,92,126,141,104,260,236,65,89,236,154,158,154,186,213,268,188,270,163,175,240,205,227,99,188,271,214,154,227,206,173,76,263,144,253,122,163,218,226,201,240,62,158,268,123,68,55,97,65,230,94,183,134,158,64,62,156,79,246,109,82,235,150,122,103,180,88,170,254,234,171,247,137,82,198,175,147,213,82,98,176,210,106,267,263,229,196,64,111,161,117,88,271,104,149,263,219,73,105,224,253,212,93,107,241,241,189,69,143,109,110,108,168,235,219,136,132,185,93,77,88,174,246,167,169,120,68,110,229,165,252,222,70,136,70,123,56,198,161,60,189,223,94,67,87,89,171,93,127,114,196,148,173,75,132,208,187,131,172,163,226,227,145,268,76,260,193,132,243,116,72,211,197,57,74,149,242,120,149,238,240,137,214,170,137,253,103,77,215,175,137,145,56,72,146,102,212,170,101,218,186,201,99,118,75,225,159,192,118,155,258,271,222,219,227,241,128,146,268,188,181,266,227,101,138,68,72,181,101,253,86,205,78,195,200,247,114,243,83,185,141,122,124,125,169,177,91,128,148,225,136,125,80,154,239,248,191,93,59,238,129,200,55,117,216,206,80,211,68,255,84,120,158,166,230,125,229,240,132,152,158,144,256,253,153,77,154,118,248,153,57,163,234,89,197,61,245,237,98,247,76,209,157,268,146,238,226,185,76,164,137,257,204,250,121,221,218,141,83,228,244,175,259,218,162,241,95,242,100,94,168,144,183,56,107,68,118,188,81,134,111,223,214,175,182,61,106,185,231,132,222,268,230,137,56,241,205,88,252,131,86,132,195,78,127,113,253,179,213,209,125,215,101,61,112,240,123,236,84,121,63,205,268,225,213,175,93,172,183,149,122,223,269,175,213,82,203,265,220,262,204,184,230,210,230,256,236,134,102,241,236,180,158,188,189,115,171,107,60,200,190,129,228,152,138,116,184,145,110,169,121,97,101,173,252,76,71,131,174,214,217,159,62,206,212,227,198,243,245,79,265,155,254,242,182,220,250,243,266,124,184,210,183,105,128,227,119,162,176,162,194,113,210,116,256,186,71,59,250,261,105,235,205,181,187,105,56,75,225,244,239,201,208,114,191,124,120,111,144,249,62,83,162,55,197,59,68,66,57,175,58,68,206,105,267,58,188,111,142,151,163,201,254,59,101,223,75,206,225,186,150,98,254,150,123,65,128,267,265,226,270,239,258,190,236,117,153,159,70,158,226,240,212,80,149,176,182,141,270,170,251,250,207,256,172,214,98,192,137,265,256,148,117,182,137,228,247,99,105,153,69,182,225,67,209,80,176,126,142,130,210,67,250,235,76,226,233,117,91,70,106,212,129,211,82,80,106,228,66,95,238,102,64,76,60,68,145,252,260,71,60,119,170,203,258,213,174,139,190,105,75,240,167,104,106,116,57,193,175,219,79,70,199,240,178,256,168,127,192,170,63,61,91,217,231,201,95,198,221,216,168,120,103,190,59,66,118,230,106,77,162,77,120,216,204,110,239,191,132,257,239,137,232,111,143,91,222,192,237,269,246,251,256,215,265,116,203,156,248,244,200,67,254,90,126,257,71,203,82,267,113,63,271,138,263,161,175,160,191,193,237,59,93,61,65,133,217,227,233,60,142,115,181,146,260,255,209,231,180,109,221,161,177,141,173,242,60,78,212,211,132,104,155,146,173,131,63,222,155,147,170,271,81,179,203,80,131,269,119,65,170,134,119,110,239,98,130,155,115,92,192,180,74,187,74,102,77,218,86,73,233,270,133,147,241,124,254,90,188,88,260,234,119,178,213,182,231,100,94,125,61,209,123,135,103,212,154,221,200,101,185,87,111,206,182,178,80,183,250,67,107,112,234,223,221,63,259,226,132,101,70,72,185,138,108,88,168,147,197,101,257,178,215,157,157,144,110,136,73,113,258,262,130,57,93,106,215,113,91,178,184,113,234,103,220,148,170,143,140,165,221,146,113,195,175,55,228,67,250,125,67,182,252,201,162,247,208,260,83,246,173,150,145,249,97,220,133,245,196,121,148,236,251,66,228,172,170,230,186,203,94,214,82,237,131,217,256,224,216,140,211,115,113,87,81,238,75,223,178,248,261,211,153,246,107,108,126,128,136,130,81,113,170,77,265,121,209,113,59,164,158,132,173,117,230,110,184,98,93,95,173,236,216,147,223,128,245,149,121,213,213,261,173,99,222,98,226,188,138,98,204,250,141,84,134,217,201,81,264,199,66,88,78,159,253,252,138,222,242,109,261,78,86,73,193,192,149,258,149,240,76,140,116,228,212,186,209,178,256,153,256,103,168,229,71,184,237,180,79,182,77,76,235,129,147,100,122,120,151,195,249,253,110,262,186,144,271,259,93,140,175,115,101,206,135,190,245,246,215,208,211,64,261,103,196,223,58,257,150,120,205,185,143,71,201,86,187,229,58,160,144,152,152,127,260,221,111,121,85,76,250,256,84,174,170,99,170,203,264,157,270,155,238,62,70,236,115,266,156,164,181,165,150,118,222,120,67,130,194,202,170,62,221,219,244,187,139,206,128,80,271,63,129,230,165,190,219,243,95,58,246,90,99,133,59,108,202,152,205,237,251,90,256,237,157,132,270,124,188,165,250,217,147,149,200,238,82,258,191,74,210,258,125,146,252,165,160,90,126,233,227,220,204,242,128,130,146,153,265,108,119,204,55,133,106,132,213,171,208,133,195,108,256,225,91,198,138,59,98,152,241,256,157,217,67,148,204,121,153,163,73,203,64,180,107,230,113,211,65,217,131,118,110,110,163,170,209,148,104,243,193,175,186,77,150,245,67,143,121,115,167,209,129,148,108,164,83,55,62,146,180,85,219,255,142,92,241,132,104,266,167,250,261,107,86,234,241,105,149,122,239,169,105,225,79,155,126,267,170,94,113,141,214,238,251,87,220,223,81,185,161,246,106,269,120,81,134,258,251,108,103,178,125,90,200,247,82,228,115,154,203,156,120,160,171,249,118,236,175,193,68,248,250,92,81,73,205,57,168,141,129,92,100,153,124,85,245,255,83,251,238,263,56,85,98,186,128,80,110,104,71,148,256,174,258,162,190,73,242,160,129,77,243,110,166,248,69,202,80,122,112,166,104,222,223,119,251,66,140,132,142,162,255,165,114,125,152,259,89,216,144,121,224,205,101,207,250,262,139,162,101,255,171,215,177,221,140,258,81,213,215,204,213,128,78,204,178,212,183,146,116,211,146,270,145,92,218,57,265,269,180,243,149,189,196,141,133,194,203,163,55,246,187,153,230,90,75,89,61,249,235,108,233,73,162,227,127,248,59,185,125,192,80,97,134,269,204,101,81,139,101,205,109,76,252,98,146,190,81,185,233,257,102,268,214,176,97,99,268,158,204,157,156,213,75,270,178,58,255,188,155,215,126,64,115,94,129,255,184,243,180,155,133,148,210,249,240,188,193,170,238,180,130,60,181,164,182,86,151,150,239,268,127,201,122,149,111,90,251,82,63,100,56,269,266,100,222,171,200,179,257,267,155,216,219,115,174,102,150,178,130,63,260,146,58,79,158,115,89,253,184,143,255,165,84,154,78,248,204,209,188,265,268,266,77,182,209,238,204,91,165,56,229,256,111,89,169,186,194,191,240,218,65,68,196,223,187,260,201,97,80,121,164,76,133,190,160,233,232,129,119,214,67,103,82,55,270,108,123,153,160,182,131,249,166,247,98,107,263,191,271,216,154,200,116,166,96,137,64,168,180,149,123,116,183,186,114,71,187,254,110,126,255,244,243,69,242,242,59,93,207,154,197,128,206,65,229,81,79,103,113,227,179,62,191,259,86,105,264,236,193,191,146,225,237,266,106,77,204,247,98,192,99,258,197,193,253,190,207,189,161,176,150,187,208,199,172,141,71,195,231,193,186,210,205,131,77,179,235,163,184,179,98,221,85,64,106,226,100,155,122,255,65,220,121,246,130,61,252,89,98,245,131,125,269,55,199,90,124,224,242,158,79,178,215,181,114,245,201,174,120,105,235,214,104,116,74,129,165,77,148,165,195,246,172,250,217,172,197,256,232,141,103,150,202,219,88,61,84,136,161,227,181,189,181,181,150,239,94,252,65,206,271,57,147,210,271,62,105,130,121,190,95,251,116,75,175,64,185,162,66,82,192,232,102,116,242,214,68,237,133,110,126,243,217,199,145,101,93,224,247,225,75,65,267,142,228,179,171,241,138,178,177,89,101,258,55,148,213,225,207,119,171,142,127,207,176,245,111,159,259,147,148,112,62,114,135,83,158,231,203,154,120,153,55,80,188,134,237,232,90,95,137,112,220,90,121,218,121,92,227,72,238,140,268,106,266,186,119,208,181,229,252,141,206,68,127,271,55,106,208,267,89,186,192,186,165,179,81,186,177,220,103,257,265,163,106,128,222,162,192,178,241,222,265,143,169,208,252,111,218,171,99,93,266,226,141,98,129,76,248,125,179,129,77,233,253,254,121,86,219,101,95,267,180,71,91,265,236,112,132,103,240,208,265,224,108,79,150,267,66,165,266,239,225,197,198,63,126,86,250,203,92,126,116,256,100,122,251,88,268,149,63,66,187,158,194,158,253,81,255,269,122,84,99,75,168,187,112,201,61,213,65,174,63,95,163,135,145,126,108,248,129,158,134,98,81,102,237,218,63,55,101,151,241,249,128,112,101,205,152,100,172,269,148,108,93,229,84,106,195,264,234,205,119,207,213,258,166,122,230,216,112,92,159,61,152,117,256,174,160,157,99,107,119,75,271,184,142,244,148,141,205,204,154,127,240,208,158,268,126,57,178,160,186,112,184,260,93,140,201,173,243,190,143,131,195,131,61,265,67,140,144,207,123,156,192,76,129,114,189,72,217,131,198,82,258,185,81,71,209,166,67,145,98,129,153,260,247,66,71,216,153,113,156,228,183,170,187,176,84,200,97,167,250,78,209,101,213,93,59,225,237,245,114,58,252,81,70,98,120,201,104,180,82,252,191,74,162,219,132,105,148,142,122,165,259,134,222,95,172,258,199,229,233,235,220,178,141,207,208,219,259,254,213,251,131,76,204,82,204,128,248,84,63,104,268,190,176,65,268,132,177,85,216,101,270,181,101,231,133,226,166,221,73,245,136,188,244,263,69,121,183,86,214,146,72,71,214,70,151,157,100,144,147,268,181,93,239,154,240,79,169,80,216,240,197,71,109,156,105,259,166,195,146,167,245,207,217,187,183,221,82,143,204,106,172,174,268,159,214,268,107,223,79,118,93,268,129,267,111,133,253,121,149,111,170,234,57,171,198,270,234,86,220,170,261,103,92,108,143,171,173,204,247,70,224,106,135,121,209,253,56,198,170,234,89,244,150,159,57,127,249,130,261,137,246,137,183,190,101,200,168,121,186,83,245,176,130,91,85,268,101,74,116,194,131,147,68,209,216,102,115,122,123,196,201,99,231,223,210,63,258,228,233,150,153,96,211,101,264,190,111,244,100,126,136,113,71,200,151,218,61,94,147,244,144,174,144,209,209,255,97,210,261,154,267,67,264,112,96,167,140,86,84,257,180,89,211,205,271,158,129,111,271,142,271,192,229,126,237,158,231,171,237,194,96,250,182,62,140,117,156,144,147,154,189,189,94,146,171,139,202,73,108,240,151,94,200,60,158,190,144,112,238,202,62,161,108,234,220,145,265,157,163,135,252,132,263,236,111,258,133,259,204,248,136,121,211,195,85,88,74,212,133,225,208,59,244,96,88,78,136,237,71,185,264,87,251,98,88,191,236,96,136,132,188,258,225,140,162,205,262,229,269,157,226,154,252,77,186,186,208,229,254,200,169,120,67,62,150,225,162,95,154,117,245,195,253,57,247,128,94,206,270,178,87,113,165,127,137,125,162,219,265,99,194,65,113,158,134,134,267,129,223,216,148,162,253,263,83,260,100,191,83,66,268,187,250,186,187,260,65,203,151,58,197,106,135,251,98,88,204,182,217,131,216,198,80,64,121,189,102,261,231,63,226,189,117,101,113,67,177,218,204,55,265,255,258,221,115,90,116,134,209,192,72,267,249,144,171,216,75,123,206,148,87,109,113,153,56,155,231,58,192,125,83,207,133,63,167,186,140,212,165,252,172,104,105,68,221,210,111,172,261,187,137,119,241,65,185,200,221,108,248,174,235,121,263,215,239,199,65,83,234,174,185,222,138,183,158,190,133,108,130,235,223,231,102,254,128,180,244,222,208,109,193,95,247,145,118,137,184,173,139,249,135,128,81,249,160,130,210,225,139,211,127,247,216,107,250,177,246,152,154,148,90,191,250,90,151,145,127,245,144,128,231,61,103,223,190,209,155,107,90,185,134,74,133,89,147,173,117,236,63,172,262,59,81,214,97,70,147,103,268,165,96,255,94,63,136,122,117,114,185,100,265,77,254,155,257,259,255,251,184,57,57,152,118,94,115,197,145,127,157,202,142,143,188,66,204,131,100,217,178,133,67,201,201,156,78,240,211,119,261,107,156,79,70,255,205,176,260,184,128,143,204,119,225,77,103,177,103,170,230,117,142,235,270,150,261,227,64,260,235,214,232,69,209,251,255,210,217,126,208,185,121,219,206,129,91,174,240,239,244,130,214,247,105,101,164,181,110,209,212,160,230,268,265,71,250,180,95,222,87,151,200,215,179,185,141,131,188,153,104,107,162,109,73,223,141,140,104,240,200,205,105,236,104,270,176,251,174,68,80,267,120,122,114,231,97,158,257,194,190,249,116,101,58,133,136,186,253,112,249,132,93,109,84,266,110,174,80,165,205,84,89,212,87,160,208,240,66,83,83,165,192,187,268,171,226,117,82,144,198,260,75,222,186,131,136,89,147,103,118,73,234,69,93,156,183,194,251,240,156,212,133,67,184,77,140,152,160,163,170,124,62,159,118,74,259,173,65,260,179,198,249,212,167,127,162,110,108,131,225,217,153,185,221,258,232,263,164,118,141,138,190,122,211,114,58,270,68,194,155,103,126,247,215,263,186,105,165,62,89,217,170,82,211,177,112,117,127,194,221,127,207,223,93,247,154,254,87,170,265,140,76,145,203,58,130,208,69,187,142,101,258,83,230,60,123,241,136,165,66,270,187,202,182,199,92,267,205,109,254,65,257,76,216,93,258,84,193,260,234,152,250,251,124,163,217,271,64,91,99,122,180,98,252,131,88,125,270,204,199,254,166,205,105,125,62,164,200,195,258,209,140,151,157,61,55,77,174,75,145,218,192,228,65,57,110,241,139,246,193,181,108,84,115,173,62,143,245,127,148,58,149,115,136,210,233,198,180,79,148,94,107,91,105,137,187,166,215,198,127,152,217,146,207,227,156,116,97,197,139,86,137,162,218,227,145,67,204,183,178,170,72,185,230,136,186,243,152,146,172,208,197,266,122,223,222,59,140,70,182,223,113,72,155,87,131,96,143,173,133,70,180,252,104,158,203,102,118,260,151,233,231,266,111,97,161,205,250,65,216,106,249,74,158,133,141,111,136,174,124,109,133,214,217,135,193,119,227,114,137,240,136,132,109,174,208,87,87,135,219,172,168,114,193,251,124,162,72,100,60,242,260,174,234,219,238,222,75,67,220,263,209,213,232,143,57,104,121,240,106,126,154,82,145,166,59,88,255,102,171,69,106,167,161,197,184,185,114,154,111,96,73,169,180,131,110,221,163,72,135,80,197,83,260,142,130,101,157,259,156,263,250,160,64,262,88,81,71,242,91,237,136,200,182,159,158,250,136,95,125,121,176,190,153,130,194,244,97,179,134,120,211,78,186,201,196,167,204,105,102,75,207,213,109,97,201,231,216,188,115,167,66,174,187,211,186,77,271,158,256,165,225,73,271,159,120,191,131,196,229,226,162,103,254,146,143,156,156,195,175,129,141,167,184,220,131,81,234,213,170,188,220,211,211,217,97,170,131,162,204,188,132,112,116,70,130,81,223,176,232,270,229,218,236,133,118,174,220,228,173,195,107,269,180,263,117,147,230,128,217,91,154,148,230,238,177,260,79,192,260,175,192,148,73,153,85,246,101,175,122,252,82,129,90,188,114,97,183,240,157,253,142,198,112,261,90,219,57,135,86,258,81,130,251,81,201,215,61,233,229,255,208,126,151,263,107,55,96,161,82,178,256,92,197,187,206,138,208,227,176,226,267,229,268,110,251,209,207,57,161,246,189,101,89,165,147,145,142,174,250,271,93,187,271,268,82,271,130,212,110,147,94,126,141,230,64,256,63,110,225,253,180,209,238,225,189,270,193,55,141,234,236,192,202,173,134,128,202,93,192,168,73,204,229,101,247,251,146,125,191,238,55,257,143,203,185,217,197,187,271,196,175,209,232,131,143,57,193,122,165,203,183,98,61,242,137,236,83,224,144,161,171,117,107,175,96,108,154,113,170,267,233,254,141,249,232,103,173,207,117,164,149,213,169,180,108,193,196,200,69,227,86,163,183,67,153,120,236,113,158,258,231,241,109,137,69,161,198,182,172,121,213,73,220,238,236,115,157,127,215,241,118,94,89,192,80,269,79,255,117,256,167,114,231,168,139,252,132,93,186,64,238,116,250,117,105,78,264,257,167,232,100,105,114,185,117,248,73,84,80,231,114,153,56,130,135,139,218,233,122,260,125,178,161,127,206,61,114,247,243,79,124,186,96,67,247,202,92,260,257,216,225,108,126,95,92,155,225,266,104,169,243,69,71,95,133,231,184,260,258,238,118,187,115,182,80,254,249,107,103,135,192,255,81,123,97,142,246,58,218,129,260,67,164,214,154,269,65,241,90,226,184,137,241,252,209,250,248,109,211,195,233,169,188,213,141,101,171,99,221,204,143,258,75,267,177,188,110,124,75,264,130,157,242,73,84,187,121,162,197,250,84,255,115,137,228,112,122,151,262,224,124,156,158,269,261,136,121,195,132,173,220,130,111,184,266,178,118,67,179,243,195,183,66,249,127,255,58,266,201,70,185,191,94,95,221,120,93,156,161,210,162,242,267,94,154,101,184,204,96,117,87,247,136,239,254,241,85,108,57,212,254,152,85,204,217,152,179,198,253,224,112,155,268,177,121,262,194,66,193,140,224,127,178,239,219,110,198,268,255,237,248,61,220,82,82,227,121,196,81,73,210,139,162,114,167,255,194,75,162,83,70,175,148,83,91,142,149,86,126,193,265,242,268,233,102,246,207,114,127,85,244,133,85,110,166,86,233,166,123,237,181,235,193,248,197,196,230,210,81,212,69,223,81,266,207,204,245,219,145,137,86,158,94,228,245,99,262,135,147,154,170,61,203,210,268,242,240,253,119,239,221,182,121,80,209,186,248,91,99,127,269,174,131,115,168,154,192,257,74,125,153,225,96,142,72,173,137,185,254,219,269,116,153,85,69,165,79,97,70,120,238,83,134,192,166,197,89,86,266,204,259,173,137,111,233,66,77,133,127,262,200,104,166,205,78,179,152,213,129,219,128,118,185,258,78,76,236,87,271,204,67,206,172,198,87,118,262,148,177,142,244,193,268,66,182,95,75,151,57,187,153,108,60,244,170,183,269,205,252,259,98,167,247,153,217,210,149,112,269,149,266,120,79,91,243,63,222,133,92,84,184,235,101,204,62,148,167,247,134,105,243,72,144,243,181,205,95,135,123,190,240,251,157,98,256,118,156,168,225,121,98,133,222,177,147,125,245,205,116,110,55,200,89,151,216,197,59,133,184,123,225,200,93,222,220,126,202,211,122,113,181,194,84,61,79,221,106,259,110,71,268,258,140,125,263,136,188,143,161,202,122,85,239,209,190,201,123,215,122,238,89,267,65,266,160,219,78,236,126,247,118,205,180,87,244,230,61,144,229,65,164,180,58,269,242,104,60,148,240,262,129,217,177,187,247,258,250,226,159,79,149,111,150,253,148,156,99,149,183,170,271,147,163,83,186,210,189,108,262,57,115,164,116,229,218,150,237,58,191,217,223,90,128,227,132,85,124,104,104,148,176,62,65,188,173,122,202,224,147,78,116,213,90,157,192,181,221,63,250,188,58,171,135,216,256,77,153,140,256,264,211,107,164,125,110,157,256,263,202,165,70,153,249,90,180,267,128,128,76,262,249,193,228,120,220,265,139,72,267,168,180,129,237,261,72,168,209,179,85,110,263,202,111,167,235,216,120,188,161,117,85,202,271,84,197,134,176,241,269,241,232,147,102,172,156,239,188,232,80,245,213,256,214,189,156,61,204,264,226,134,88,154,204,135,222,185,113,210,236,239,146,82,149,99,96,161,245,227,239,216,117,71,228,170,104,64,97,104,245,147,141,82,127,131,85,238,262,122,123,145,223,137,196,215,268,69,114,239,106,73,249,200,70,85,211,242,270,220,56,173,69,215,79,205,228,236,148,257,87,164,103,121,111,181,197,90,149,58,224,218,71,95,271,238,122,59,199,114,270,240,106,236,228,215,91,90,199,269,239,151,149,264,196,242,112,168,193,184,132,101,57,66,237,197,58,126,186,100,103,192,252,197,210,175,186,220,72,220,267,106,101,233,98,62,99,147,71,134,271,151,258,175,248,145,223,175,63,69,220,139,108,157,147,252,88,112,148,217,214,83,96,179,216,135,59,207,122,167,227,118,108,135,192,268,138,180,87,261,179,81,163,55,143,80,232,126,205,270,246,117,258,59,68,257,228,209,113,138,232,57,138,133,120,271,127,98,70,157,172,248,212,140,197,267,87,254,127,225,66,110,239,254,96,168,210,254,261,173,215,64,146,98,108,238,85,128,231,167,100,216,107,270,146,247,193,245,69,129,123,257,108,181,221,72,219,238,60,258,92,213,198,104,194,76,239,257,78,194,237,173,270,160,184,138,231,112,241,211,180,237,142,127,159,70,137,256,100,62,103,180,209,229,108,100,223,110,197,87,263,254,124,265,201,157,212,193,174,67,134,217,254,204,206,256,73,123,107,218,175,212,180,241,269,62,72,61,205,65,188,198,233,189,68,131,163,131,94,193,59,131,256,198,58,251,193,63,134,125,219,210,173,68,176,86,106,194,156,109,206,214,178,169,121,166,173,228,126,66,234,264,229,164,234,110,221,198,97,260,265,68,207,139,106,234,121,139,150,132,236,158,106,173,113,83,122,85,236,155,122,84,150,185,64,105,96,102,203,191,262,210,77,239,188,160,216,55,119,148,212,128,239,72,176,88,270,75,92,167,109,112,114,103,205,212,69,208,58,263,81,207,81,103,203,270,140,171,241,100,164,63,89,263,237,127,189,69,95,251,220,56,85,170,249,85,85,68,144,182,144,247,264,100,163,143,250,181,84,176,72,168,91,107,211,113,223,133,264,237,266,242,211,214,225,224,189,264,162,210,77,179,94,69,100,172,95,249,113,88,207,84,225,187,191,60,134,58,103,254,142,96,189,66,169,137,165,160,213,189,150,162,228,60,151,163,250,269,218,57,204,190,128,244,83,147,243,56,213,73,81,136,197,80,67,260,100,129,260,255,189,182,150,65,140,127,142,227,158,159,214,69,149,115,242,105,71,188,126,235,106,266,167,81,205,66,178,158,248,145,251,73,99,187,261,58,99,74,57,258,131,106,79,168,270,126,76,174,113,218,214,194,184,194,66,153,246,136,102,202,148,166,145,112,111,240,243,166,167,181,269,84,208,57,149,233,241,213,247,154,220,118,239,259,166,83,63,259,79,210,241,122,57,129,226,183,165,167,228,103,214,88,260,160,133,169,147,144,144,220,86,210,229,232,269,187,119,155,221,130,84,226,143,177,211,143,119,64,204,141,178,180,167,105,193,122,93,183,173,59,70,147,176,70,160,80,247,209,114,243,128,135,271,239,148,207,135,188,95,63,227,256,81,99,151,56,258,139,135,137,189,185,75,197,140,65,185,152,158,247,75,108,116,159,72,74,207,188,145,232,211,201,256,247,129,66,198,82,85,221,157,73,117,174,229,70,156,168,170,257,212,156,212,173,161,109,242,173,108,230,239,174,68,269,182,196,227,232,221,185,204,161,151,242,139,97,182,258,83,167,218,150,233,111,244,59,123,259,139,223,186,180,84,200,236,127,170,82,114,254,136,265,199,174,146,66,206,121,128,91,90,76,211,145,163,67,149,137,116,64,94,217,114,160,167,196,254,97,225,73,169,145,98,108,252,85,173,211,69,155,115,187,239,82,93,167,62,78,55,181,161,185,146,188,143,239,181,56,211,99,165,152,155,210,177,170,60,161,233,154,83,62,105,85,268,235,210,230,151,72,263,267,268,134,267,190,96,254,94,109,230,256,182,143,241,121,151,166,265,108,119,127,88,132,144,94,180,194,180,254,257,144,177,67,193,252,247,216,140,175,248,75,223,266,269,64,71,235,112,151,130,214,204,243,78,81,188,207,261,185,203,118,55,200,58,198,87,200,185,210,109,223,99,87,242,145,207,238,122,240,142,100,95,187,209,169,268,84,232,83,256,175,109,198,126,151,83,82,180,192,106,159,77,177,117,223,103,232,224,75,209,203,59,161,171,125,62,235,192,124,268,166,236,77,271,256,67,181,209,258,116,89,86,77,69,261,90,197,86,69,69,231,189,58,137,180,227,254,182,135,173,190,128,107,59,92,218,164,216,218,156,56,84,256,177,113,265,132,202,219,158,196,124,103,108,151,160,264,140,102,237,190,262,218,222,119,149,148,218,138,145,132,232,251,103,161,127,139,247,131,65,229,141,172,184,246,169,176,120,198,137,130,236,180,151,104,106,111,229,236,195,258,90,180,150,107,93,94,269,176,117,81,76,245,262,144,194,137,108,262,100,251,241,56,163,82,254,230,186,149,267,228,89,271,188,269,90,223,159,129,214,165,149,177,269,174,188,248,73,63,175,113,60,160,166,77,156,107,258,194,217,148,97,78,182,203,136,156,115,68,123,172,129,56,246,203,230,71,202,233,192,70,160,149,233,132,182,264,125,182,232,222,158,204,99,72,57,267,98,162,265,62,249,198,134,120,164,137,244,106,75,89,253,98,63,152,79,182,75,138,187,70,218,91,70,188,90,94,64,270,250,119,170,205,89,81,158,264,261,186,139,101,225,269,196,249,235,112,87,64,232,198,252,89,189,212,252,79,145,118,69,154,158,212,106,66,187,182,109,132,61,243,169,85,204,84,169,150,206,175,261,162,241,159,232,152,64,256,164,164,163,244,177,122,249,134,125,254,265,187,58,229,220,233,101,84,219,69,189,115,240,81,100,139,264,167,121,211,119,258,79,198,260,138,123,61,263,111,187,91,214,64,61,217,271,84,157,86,78,69,58,210,83,174,70,198,201,123,243,216,131,131,80,177,245,149,171,254,182,65,211,162,142,221,95,174,222,85,115,85,175,196,133,138,89,240,172,270,239,206,215,90,151,102,83,56,186,103,162,195,263,115,108,132,271,158,252,132,102,66,190,96,127,227,120,73,240,130,263,112,261,74,159,204,87,68,176,122,122,179,132,70,269,132,262,212,57,207,263,199,148,166,167,168,250,139,259,187,124,204,237,105,84,179,83,228,91,131,196,192,139,113,183,136,212,60,230,222,145,180,233,103,217,116,102,182,74,270,236,147,248,215,58,159,169,199,177,214,185,112,271,134,125,211,82,70,82,251,107,112,102,94,113,158,167,161,225,196,167,183,180,118,115,94,197,203,142,149,161,79,191,154,84,214,209,125,235,255,135,155,90,178,211,108,258,111,241,143,177,183,75,188,195,176,164,179,92,187,271,105,69,244,143,232,196,106,179,130,94,265,108,232,216,225,228,163,208,85,177,217,271,169,183,253,91,112,271,267,255,192,128,159,122,242,200,131,75,123,141,144,259,208,154,209,120,218,191,139,233,123,60,68,166,95,63,214,92,182,149,231,248,163,202,76,57,206,112,89,254,139,214,156,161,269,104,153,159,84,153,133,271,204,189,150,67,115,200,182,140,138,111,102,80,124,231,172,85,117,155,178,135,138,259,227,178,196,265,81,256,98,110,146,258,212,150,266,256,103,85,70,121,139,180,214,138,85,259,122,180,115,82,77,55,188,248,169,116,193,175,80,271,231,178,211,196,164,207,248,94,152,215,95,66,264,108,151,100,210,171,217,101,80,192,202,155,127,161,180,84,126,106,217,94,165,196,109,97,204,206,262,250,120,100,265,234,194,253,189,138,147,236,200,257,235,88,220,76,254,267,60,250,245,246,160,269,227,156,223,221,120,201,153,100,251,195,93,123,203,76,194,117,85,185,241,271,113,226,114,94,188,114,85,151,141,110,203,229,58,91,267,235,90,120,177,251,210,191,187,266,93,126,122,209,118,160,267,135,178,167,196,231,236,88,148,139,218,211,153,68,257,188,152,169,142,71,196,249,73,105,218,195,267,164,73,170,232,191,107,105,165,188,138,182,167,88,244,239,90,217,59,195,228,257,127,135,97,185,184,253,156,121,112,158,67,207,266,96,102,149,200,86,246,98,207,234,154,108,108,65,108,63,160,170,182,82,259,182,89,107,64,167,174,243,132,103,191,66,255,246,114,176,147,259,57,191,193,265,134,256,228,130,165,260,141,84,232,215,166,203,140,252,122,198,120,110,260,193,175,83,78,260,156,223,202,171,261,100,104,120,249,124,179,173,107,110,184,147,119,103,99,200,194,215,233,224,246,271,245,60,68,95,169,174,85,166,257,112,256,59,263,212,182,157,159,109,227,168,79,216,234,193,197,227,78,158,183,89,134,265,197,113,86,166,183,96,89,123,107,160,205,176,134,240,262,63,67,96,256,190,155,244,246,151,128,237,131,218,205,92,62,64,246,197,90,81,170,101,205,157,271,128,107,185,183,157,232,218,241,196,92,242,57,65,64,158,234,219,89,55,149,147,209,185,263,142,147,245,262,82,177,67,100,253,198,66,209,208,261,202,63,162,175,258,252,208,242,180,257,79,136,240,263,226,259,186,185,78,67,239,213,184,198,142,265,67,149,125,170,83,244,233,131,57,254,232,249,236,99,94,251,248,84,262,131,197,232,259,83,247,270,242,263,91,129,79,62,92,98,77,179,175,250,199,183,89,148,103,68,169,238,127,168,79,77,179,107,78,92,263,168,191,109,194,68,92,147,166,108,132,96,158,262,92,211,117,96,244,166,264,148,239,243,271,251,234,158,229,183,244,221,155,209,67,58,56,68,205,194,130,101,127,138,194,195,269,142,85,65,89,149,86,104,200,67,129,137,96,150,201,246,207,108,145,156,153,167,183,228,243,204,111,182,142,202,194,223,77,237,88,252,141,83,224,175,145,119,231,252,161,150,137,232,196,238,245,236,68,144,195,232,212,225,107,220,265,162,197,192,86,234,56,136,117,233,67,72,121,100,156,126,250,108,79,172,227,112,260,106,95,88,244,180,190,248,128,153,248,148,132,231,108,201,237,55,55,227,116,175,229,237,172,133,257,178,75,188,256,266,225,78,182,68,258,169,259,125,113,236,271,270,227,200,192,69,114,64,60,224,96,81,204,237,202,239,169,223,147,228,271,226,87,90,253,242,208,196,55,102,180,58,137,126,207,135,241,153,143,65,211,256,242,85,126,116,206,237,248,251,81,90,206,65,235,257,86,96,178,110,158,268,186,148,120,104,78,167,128,197,153,124,110,234,121,172,243,139,214,231,222,239,178,162,253,74,259,74,163,132,94,62,133,219,119,84,90,60,132,94,149,170,182,184,212,141,157,121,229,141,220,163,102,196,222,162,59,127,168,132,94,120,189,168,178,101,93,133,229,79,147,268,144,206,227,256,234,184,251,95,94,209,111,241,256,119,73,97,132,266,67,155,182,197,270,122,245,113,271,82,248,189,251,70,101,80,265,121,80,224,55,113,56,184,173,66,154,171,193,221,249,184,173,136,225,110,61,172,214,218,217,61,62,134,78,84,68,114,73,80,246,226,63,69,109,140,125,145,252,195,206,231,232,58,162,172,136,134,254,227,237,104,207,153,267,152,91,103,169,103,63,249,132,92,171,154,61,236,238,171,180,68,84,77,91,116,178,212,151,99,216,219,148,222,199,230,149,114,107,245,153,69,131,175,169,235,216,159,101,138,92,165,184,200,244,137,115,57,132,131,258,213,100,188,67,112,227,180,248,149,97,174,246,86,215,156,166,192,224,58,73,235,241,113,75,196,234,151,78,73,69,64,64,221,103,211,104,58,157,256,64,134,148,173,255,123,191,76,151,234,73,117,264,167,100,118,241,183,235,94,77,153,86,207,183,136,153,237,182,178,144,161,212,213,123,269,245,221,169,131,79,78,97,185,201,183,190,163,71,142,130,239],\"sizemode\":\"area\",\"sizeref\":0.6775,\"symbol\":\"circle\"},\"mode\":\"markers\",\"name\":\"\",\"showlegend\":false,\"x\":[1,0,0,1,1,0,0,1,1,0,0,0,1,1,0,0,0,0,0,0,0,0,0,0,0,1,0,0,0,0,0,1,0,0,0,0,0,0,1,0,0,0,0,0,0,0,0,0,0,0,1,0,0,0,0,0,0,0,0,0,0,0,0,0,0,0,0,0,1,0,0,1,0,1,2,0,3,0,1,0,0,0,0,0,0,0,0,1,0,3,0,0,1,0,0,0,0,3,0,1,1,4,0,1,0,0,0,0,4,0,0,2,0,0,0,0,0,0,0,0,2,0,0,0,0,0,0,0,0,0,2,0,0,0,0,4,0,0,0,0,0,0,0,0,0,0,1,0,0,0,0,0,0,0,0,0,3,1,0,2,2,1,4,0,0,0,0,0,0,0,0,0,0,0,3,0,4,2,0,0,0,0,0,0,4,0,0,1,0,3,1,0,1,0,0,0,0,0,0,0,0,0,0,0,0,0,2,4,0,0,0,0,0,0,0,0,0,0,0,0,0,0,0,1,2,1,0,0,1,0,0,0,0,0,1,0,0,0,0,0,0,0,0,1,0,0,0,1,0,1,0,0,0,0,1,0,0,1,0,0,1,0,0,2,0,0,0,0,0,0,0,1,0,0,0,1,4,0,3,0,0,0,1,0,2,4,0,0,0,0,0,0,0,1,1,0,0,0,0,0,0,0,0,0,0,0,0,0,0,1,0,0,1,0,0,0,0,1,0,0,0,0,0,0,0,0,0,4,0,0,0,0,0,1,4,1,0,1,0,1,2,0,1,0,0,2,4,1,0,0,0,4,0,0,0,0,1,0,0,1,1,0,0,0,0,0,0,1,0,1,0,0,1,1,0,0,3,0,2,0,0,3,0,3,0,0,0,0,1,0,0,1,0,2,1,0,1,0,0,0,0,1,1,2,1,3,0,0,0,0,0,0,2,0,0,0,0,0,1,0,0,0,1,1,0,0,2,0,1,0,1,0,1,1,0,1,1,0,0,0,0,0,0,0,1,0,0,0,1,0,0,1,0,0,0,0,0,0,0,0,1,1,0,0,0,1,0,0,0,0,0,0,0,2,1,0,0,3,0,1,2,0,0,0,0,1,1,1,0,0,0,0,0,0,0,0,0,1,0,0,0,0,0,0,0,1,0,0,0,0,1,0,0,0,1,0,4,0,0,0,1,0,2,0,0,0,0,1,1,1,0,0,0,1,0,0,0,1,0,1,0,0,0,0,0,2,0,2,0,0,0,0,0,0,0,0,1,0,0,0,0,0,0,0,1,0,0,1,0,1,2,0,0,0,0,0,0,1,0,0,1,0,0,0,3,0,4,0,0,3,1,0,0,0,0,2,0,0,0,2,0,0,1,1,0,3,0,0,0,0,0,0,0,0,0,0,0,0,0,0,0,0,1,0,0,0,1,0,1,0,0,0,0,0,0,0,2,0,1,0,0,1,0,0,0,0,0,0,0,0,0,0,1,0,0,1,0,0,0,1,0,0,0,0,0,1,0,0,0,0,0,0,0,0,2,1,0,0,1,0,0,0,0,1,0,1,0,0,1,0,0,1,1,0,0,1,0,0,4,0,0,0,1,0,1,0,1,2,1,0,0,3,0,0,1,0,1,0,0,1,0,0,1,1,1,0,0,0,0,0,0,0,0,0,1,0,0,0,0,0,2,0,1,0,0,1,0,0,0,0,0,0,0,0,0,0,0,1,0,0,1,1,0,0,4,0,0,0,1,0,4,1,0,4,0,1,4,0,0,0,0,0,0,0,1,0,0,0,0,1,0,0,0,0,0,0,0,0,0,0,0,4,0,2,0,1,0,0,2,0,0,1,0,2,0,0,1,1,0,0,0,0,1,0,1,0,1,0,0,0,0,0,1,0,0,0,0,0,3,0,2,1,1,4,0,0,0,0,4,0,0,0,1,1,0,3,0,0,1,0,0,0,0,0,0,0,0,1,0,0,4,0,1,0,0,0,0,0,1,0,0,1,1,0,0,4,1,0,1,1,0,0,0,0,0,0,0,0,0,0,0,0,0,0,0,0,2,0,0,0,0,0,0,0,0,2,0,0,0,0,0,0,0,0,3,0,4,0,0,0,0,1,0,0,0,0,0,0,4,1,0,3,1,0,0,0,0,0,0,0,0,4,0,0,1,0,0,0,0,1,0,0,0,0,1,0,0,0,0,0,0,0,0,0,0,1,0,0,0,0,1,1,0,1,0,0,0,0,1,0,0,0,1,0,0,0,0,0,0,0,0,0,0,0,0,2,0,1,0,4,1,0,1,0,0,0,1,0,3,0,1,1,2,1,1,0,0,0,0,0,0,0,0,0,0,0,1,0,2,0,0,1,0,0,0,2,0,1,0,4,0,3,0,1,0,0,1,0,3,0,0,0,0,1,3,0,1,1,0,1,4,0,0,0,1,0,0,0,1,2,1,1,0,0,0,1,0,0,3,0,1,4,0,0,1,0,2,0,0,0,0,0,1,0,0,2,1,0,3,0,0,0,0,0,0,0,4,0,0,0,2,0,0,0,0,1,1,0,0,0,0,0,0,0,0,0,0,4,0,0,0,0,0,0,0,1,3,0,3,0,0,0,0,3,0,0,4,0,0,1,1,0,0,4,0,0,0,0,0,1,0,0,0,0,0,4,0,1,1,0,0,0,0,0,0,3,1,0,0,0,0,3,0,3,0,0,0,0,1,1,0,0,0,0,0,0,0,1,1,0,0,0,0,0,0,0,0,0,4,0,0,0,0,0,1,0,0,0,0,0,0,0,0,1,0,0,0,1,0,3,0,0,0,0,0,0,0,0,0,0,0,0,0,0,3,1,0,0,0,0,0,0,1,1,1,0,2,0,0,0,4,0,0,1,0,4,0,0,0,0,0,0,1,0,0,0,1,0,0,0,1,0,0,0,0,1,0,0,2,0,0,0,0,0,0,0,0,0,1,0,0,0,1,0,0,0,0,0,4,0,0,3,0,0,0,0,1,0,0,0,0,0,0,0,0,0,0,0,0,0,0,0,4,0,0,1,1,0,1,0,0,1,2,0,0,0,0,0,2,1,0,0,0,0,0,0,0,0,0,0,0,3,0,3,0,0,0,0,0,0,0,1,1,0,0,2,1,1,3,0,0,0,0,1,0,0,0,0,3,0,0,0,0,0,1,0,0,0,1,1,0,1,0,1,0,0,1,0,1,0,0,0,0,0,1,1,0,0,0,0,1,0,3,0,1,0,0,0,0,0,0,4,0,1,0,1,0,1,1,0,0,0,0,1,0,1,0,0,3,0,0,0,1,0,0,0,0,1,0,0,0,0,0,0,0,1,0,0,1,0,0,1,0,0,0,0,0,1,0,1,0,0,0,0,0,1,0,0,1,0,0,0,0,0,0,0,0,0,1,0,0,0,3,0,0,0,0,0,0,0,0,1,0,0,1,1,1,2,0,0,0,0,0,1,1,0,3,2,1,0,0,4,0,0,1,0,0,1,0,1,0,0,0,0,4,0,0,0,0,0,0,1,3,0,0,0,4,0,0,0,0,1,1,0,0,2,0,0,0,0,0,1,1,0,1,0,0,3,0,0,0,0,0,0,0,0,0,0,0,0,0,2,1,0,0,2,2,0,0,1,1,0,0,2,0,0,0,0,1,0,0,0,0,0,0,0,1,0,4,0,0,0,1,0,1,1,0,0,0,0,0,0,0,0,0,1,0,0,0,2,0,3,0,0,0,0,0,0,0,0,0,0,0,3,0,0,0,0,0,0,1,4,0,0,0,0,0,2,1,2,1,0,0,0,0,1,0,0,0,3,0,0,0,0,0,0,0,1,0,0,0,1,0,0,0,0,0,0,1,0,3,0,0,0,0,4,0,0,0,0,0,0,0,0,0,0,2,0,0,0,0,0,0,1,0,4,0,1,2,3,1,0,2,1,1,0,0,0,0,0,0,1,0,0,0,0,0,2,3,0,0,0,0,4,0,0,0,0,0,0,0,0,0,0,0,0,0,0,4,0,1,0,0,0,2,0,0,0,0,0,0,4,0,3,2,0,0,0,0,0,0,2,0,0,0,3,0,1,0,1,1,0,0,1,0,0,0,0,0,0,0,1,0,0,0,0,0,1,0,0,0,0,0,3,0,0,1,3,0,0,0,1,0,1,1,0,0,0,1,0,0,0,1,3,1,0,3,2,0,0,0,0,0,0,0,0,0,0,2,0,4,1,0,0,0,0,2,1,0,0,1,0,3,0,0,0,0,0,0,0,0,4,0,0,0,0,0,1,0,0,0,0,1,1,0,0,0,0,0,0,1,0,0,0,0,1,4,0,1,0,1,0,0,4,1,0,1,2,0,0,0,2,2,0,0,1,0,0,0,0,2,0,0,0,0,0,0,1,3,0,0,3,0,0,0,1,0,0,0,0,0,0,3,0,1,1,0,1,0,0,0,0,1,3,0,1,0,1,0,2,0,1,0,0,1,0,1,0,0,2,1,0,4,2,0,0,2,0,1,0,0,0,0,0,0,2,0,0,0,0,0,1,1,1,0,0,1,0,1,2,0,0,0,0,1,0,1,1,3,4,0,0,2,0,0,0,0,1,0,1,0,0,0,3,0,0,0,0,0,1,2,0,0,0,0,0,0,0,1,0,1,0,1,1,0,0,0,0,0,0,0,0,0,0,0,0,0,0,0,0,0,0,0,1,0,0,0,0,1,0,1,1,0,0,4,0,0,0,0,1,0,1,0,0,1,0,0,1,0,0,0,1,0,0,0,0,0,0,0,0,3,0,0,0,0,0,0,0,1,0,1,0,0,2,2,1,0,0,0,1,0,0,1,0,0,1,0,0,1,1,0,2,0,0,4,0,0,0,1,0,0,0,1,0,0,0,0,0,0,0,0,0,0,1,4,0,1,0,3,0,0,0,0,1,1,0,0,0,0,0,0,0,0,0,0,0,0,0,0,0,2,0,1,0,0,0,0,0,0,0,1,0,0,0,0,3,0,0,1,0,0,0,0,0,3,0,0,0,0,0,0,0,0,0,1,0,1,0,0,1,0,1,1,0,0,0,0,0,1,4,4,0,0,0,0,0,0,0,0,1,2,3,0,0,1,1,0,1,1,0,0,0,1,0,0,0,0,0,0,0,0,0,0,1,0,1,0,0,0,0,0,0,0,0,0,0,3,0,1,0,0,0,0,0,4,0,0,0,0,0,0,0,0,0,0,0,0,0,0,0,0,0,0,0,0,0,0,1,0,1,0,0,1,0,2,0,0,0,3,2,0,0,0,0,0,0,0,0,4,1,1,0,0,1,1,0,0,0,0,3,0,1,1,0,0,0,0,0,1,0,0,0,0,1,0,0,0,0,0,0,0,1,0,0,0,0,0,0,0,0,0,0,0,0,1,0,0,0,0,0,1,1,0,0,2,2,0,0,0,0,2,1,0,0,1,0,0,0,0,1,0,0,0,0,0,0,2,0,4,0,4,0,0,0,0,0,1,4,1,0,0,1,0,0,1,4,0,0,2,0,0,0,2,0,0,0,0,0,4,0,0,0,0,0,4,0,0,1,1,0,1,3,0,0,1,0,0,0,1,0,0,0,0,3,1,1,0,0,1,0,0,0,1,0,0,0,0,0,0,0,3,3,0,0,0,0,1,0,0,4,0,0,1,0,0,1,0,1,0,3,0,0,0,0,4,0,0,0,0,0,0,0,0,0,4,0,0,0,1,1,0,0,1,0,0,0,0,0,0,0,0,1,0,0,2,0,1,0,0,0,0,0,0,0,0,0,0,1,0,0,0,0,0,0,0,1,0,0,0,3,0,1,0,0,0,3,0,0,0,0,0,0,1,0,0,0,0,0,0,0,0,1,1,0,0,0,0,0,0,0,0,0,3,3,1,1,0,2,0,0,1,0,3,0,2,0,0,0,1,2,0,2,0,1,0,0,2,1,0,0,0,0,2,0,0,0,0,0,0,0,2,0,0,0,4,0,0,0,2,0,1,0,0,0,0,3,0,0,2,0,0,0,0,1,0,0,0,0,1,1,0,0,0,3,0,1,0,0,0,1,0,1,0,0,0,0,0,0,2,0,0,1,1,0,0,1,0,4,0,1,0,0,0,0,2,0,0,0,0,2,0,0,0,0,0,0,0,0,0,1,0,1,0,0,0,0,1,1,1,0,0,0,0,0,0,1,0,0,4,0,1,0,0,1,1,0,0,0,0,0,0,0,0,0,4,0,1,0,0,0,1,0,0,0,0,1,1,0,3,0,0,0,0,0,3,0,0,0,0,0,0,0,1,0,1,0,0,0,0,0,0,0,0,0,0,0,1,0,0,0,0,0,1,0,0,0,0,0,0,2,1,0,3,0,3,0,0,1,0,0,0,0,0,0,0,1,0,1,0,1,0,0,0,2,0,0,0,0,0,0,0,0,0,0,0,2,1,0,0,0,1,0,2,0,0,0,0,0,0,0,0,0,1,0,0,1,0,0,0,0,0,1,0,0,0,0,0,0,1,0,0,1,1,0,0,4,1,0,0,0,1,0,0,0,0,0,0,0,0,0,0,0,0,1,0,1,0,1,0,0,1,0,0,0,0,0,2,0,0,0,0,0,0,0,0,4,0,0,0,3,0,3,0,1,0,1,3,0,0,0,0,0,1,0,1,0,0,2,1,4,0,1,3,0,1,0,1,1,0,0,0,1,0,0,0,0,0,1,0,0,0,0,0,0,0,0,0,0,0,0,0,2,0,0,0,0,0,2,0,0,0,0,2,0,0,0,0,0,0,0,3,0,0,1,0,0,0,0,1,0,0,2,0,0,0,0,0,0,2,0,0,0,0,0,1,0,0,0,0,1,0,0,0,0,0,0,0,0,0,1,0,0,1,0,0,1,2,2,0,0,0,0,0,0,0,0,0,1,0,0,0,0,0,0,0,0,0,1,0,0,0,0,0,0,2,1,1,0,4,0,0,0,0,0,0,0,0,0,0,0,0,0,1,0,0,0,1,1,3,0,0,0,1,0,0,0,0,1,0,0,1,0,0,0,0,0,0,0,4,4,0,0,0,0,2,0,1,0,0,0,0,0,1,0,0,0,0,0,3,0,1,1,1,4,0,0,0,0,1,1,0,0,0,2,1,1,0,0,0,1,0,1,0,0,0,0,0,2,3,0,0,2,0,0,0,0,1,0,0,0,1,0,0,1,0,1,0,0,0,0,0,2,2,4,0,0,0,0,0,0,0,3,0,0,0,2,0,0,0,1,0,0,3,0,1,0,0,0,0,3,0,0,0,0,0,1,0,1,0,3,0,0,1,0,4,1,0,0,0,2,0,1,0,0,0,0,0,0,0,0,0,0,0,0,0,0,0,0,1,1,0,0,0,0,0,0,0,0,0,0,0,0,1,0,0,0,0,0,0,0,4,0,0,0,2,3,1,1,1,2,0,0,0,0,1,1,0,0,4,0,0,0,0,0,0,0,1,3,0,0,0,4,0,0,0,0,0,1,1,0,0,4,0,0,4,0,0,3,0,2,0,0,0,0,1,1,0,0,0,3,0,0,0,1,0,1,0,0,2,0,0,2,4,0,0,1,0,0,0,0,0,0,0,0,3,0,0,0,0,0,0,0,0,0,0,0,2,0,0,0,1,0,2,0,0,0,0,4,0,0,3,0,0,0,0,0,1,0,0,0,0,1,1,0,0,0,0,0,0,0,0,0,0,0,0,0,0,0,0,0,0,1,0,0,0,0,0,0,1,2,2,1,0,0,0,0,0,0,1,0,1,0,1,0,0,0,0,0,2,0,0,0,0,1,0,0,0,0,0,2,0,2,0,0,0,0,1,1,0,0,1,0,0,0,0,0,1,4,0,0,0,0,0,0,1,0,0,0,0,0,0,0,1,1,0,0,0,0,0,1,0,0,0,0,0,4,0,4,0,0,1,0,0,1,1,1,0,1,1,0,0,0,0,0,0,0,2,0,4,0,3,0,3,0,0,1,0,3,0,0,1,0,3,0,0,2,1,0,0,0,0,2,0,0,0,0,0,1,0,0,1,0,0,1,1,0,1,0,0,0,2,0,0,0,0,0,0,1,1,0,0,2,0,0,1,0,4,0,1,0,4,0,3,1,0,0,0,0,0,0,1,0,1,0,1,0,0,0,0,0,0,4,4,0,0,0,0,0,0,0,0,0,1,0,0,0,0,1,0,0,0,0,1,0,0,1,0,0,0,0,1,0,2,0,0,0,3,0,0,0,0,0,0,3,2,1,0,0,0,0,1,0,1,3,0,0,0,0,0,0,0,4,0,0,0,2,1,0,1,0,2,1,0,0,1,0,0,0,1,0,0,0,2,0,0,0,0,0,1,0,1,0,0,0,0,0,0,0,1,0,0,0,0,0,1,1,1,0,1,0,0,1,1,0,2,0,0,0,0,0,1,0,0,0,0,0,0,0,3,0,1,0,1,0,0,0,0,0,4,0,1,0,0,0,0,2,0,1,0,0,0,1,0,4,0,4,0,2,3,0,1,0,0,0,0,2,0,2,0,1,1,0,0,2,0,0,1,0,0,0,0,0,4,1,1,4,0,0,0,0,0,0,0,0,0,1,0,0,0,0,0,1,0,0,2,0,0,0,0,0,0,0,0,4,0,0,0,1,1,0,0,0,0,1,0,1,0,0,0,3,0,0,0,0,0,3,0,0,1,0,1,0,0,0,0,1,0,1,0,0,1,0,1,0,0,1,0,0,2,0,0,0,0,0,0,1,1,1,0,0,0,1,1,0,2,0,1,2,0,0,0,0,3,3,0,0,1,0,1,1,0,0,0,0,1,0,0,0,0,0,0,1,0,1,0,0,1,1,0,0,1,2,0,4,0,0,0,0,0,0,1,0,0,0,1,0,0,3,0,0,0,2,0,0,0,1,4,0,0,0,1,2,0,0,0,0,2,0,0,0,0,0,0,0,0,0,0,0,1,0,0,0,4,0,0,0,0,0,0,0,0,0,2,0,0,0,1,0,2,1,0,3,0,1,0,0,0,0,0,1,1,0,0,0,0,2,0,0,0,0,0,1,1,0,0,0,0,0,1,0,0,1,0,0,0,1,0,1,2,0,0,0,0,0,0,1,0,0,0,0,0,0,0,0,0,0,0,1,4,0,0,0,0,0,0,0,1,0,0,0,1,0,0,0,0,0,0,0,0,2,0,1,0,0,0,0,0,0,2,0,0,0,0,0,2,0,0,0,0,0,0,0,0,0,0,0,0,0,3,0,0,3,1,0,0,0,0,0,0,1,0,0,1,0,0,0,0,1,1,0,1,0,0,0,2,0,0,0,0,0,0,1,0,0,0,0,0,0,0,1,0,0,0,0,0,0,1,2,0,0,0,0,0,0,0,0,1,1,0,0,0,0,0,0,0,0,0,0,0,0,1,0,3,0,0,0,0,0,0,0,0,0,2,3,1,4,1,0,1,0,0,0,0,0,0,0,0,0,1,0,0,0,2,1,0,0,0,0,2,0,2,0,2,0,0,3,0,2,1,0,0,0,1,0,1,0,0,0,0,0,0,0,0,1,0,0,0,0,0,0,0,0,0,0,1,0,0,0,0,2,0,1,2,0,0,0,0,0,1,0,0,0,0,0,1,0,0,1,1,3,0,0,0,0,0,0,0,1,0,3,1,4,0,0,1,3,0,0,0,3,0,0,0,0,0,0,0,1,1,0,0,1,1,0,0,0,0,1,4,0,0,3,2,0,0,1,1,0,0,0,0,0,1,0,4,0,1,0,0,2,0,1,1,0,1,1,0,0,0,0,0,0,0,0,0,0,0,0,0,0,1,0,0,0,4,1,0,0,0,0,0,2,0,1,0,0,0,0,0,1,0,4,0,1,0,2,0,1,1,0,0,0,0,0,1,0,0,1,0,0,0,1,3,0,4,0,0,0,0,0,1,1,4,0,0,0,3,1,0,1,0,2,0,0,0,1,0,0,0,0,0,0,0,0,0,0,2,0,0,0,0,0,2,0,0,0,0,1,0,0,3,0,1,1,0,0,0,0,0,1,0,0,3,0,0,0,0,0,0,0,1,1,0,0,4,0,0,0,0,0,4,0,1,1,0,0,0,4,0,4,0,0,0,0,0,0,0,0,0,4,4,0,0,0,0,0,1,0,0,0,0,0,0,1,0,0,1,0,0,0,0,0,1,0,0,1,0,0,1,0,0,0,0,0,0,0,1,0,0,0,0,0,1,0,2,4,0,1,0,0,0,0,0,0,1,1,2,0,0,0,0,0,0,0,1,0,0,1,0,0,0,0,0,1,0,0,0,1,1,1,0,0,0,0,0,2,0,0,0,0,1,0,0,0,0,0,0,0,0,4,0,0,0,0,1,2,0,0,1,0,0,0,1,0,0,0,1,0,0,0,0,0,0,1,0,0,0,0,0,4,0,1,0,1,0,0,0,0,2,0,0,0,0,0,0,1,0,0,0,1,0,0,0,0,1,0,0,0,0,0,0,1,0,0,0,0,0,0,0,0,0,1,0,0,0,0,0,1,0,0,0,0,0,0,0,0,0,4,0,0,0,0,0,0,0,0,0,0,0,0,0,0,3,1,1,0,0,0,3,1,0,0,0,0,0,0,1,1,0,0,1,3,0,0,0,4,0,0,0,0,0,0,0,0,1,0,0,0,0,0,0,0,0,0,0,0,0,1,3,1,0,0,1,0,0,3,0,0,1,0,1,0,1,1,0,0,0,0,1,0,0,1,0,0,0,0,0,0,0,0,0,1,1,0,0,0,0,0,1,0,0,1,0,3,0,1,0,0,0,0,0,1,0,0,0,0,0,0,0,0,0,2,3,0,0,0,0,2,0,0,0,0,0,1,0,4,1,1,1,0,0,3,1,0,0,2,4,0,0,0,2,1,0,1,0,0,1,4,1,0,1,0,0,0,0,0,0,0,0,0,0,0,1,0,0,0,0,0,3,0,0,0,0,1,0,0,0,0,0,1,0,0,0,0,0,1,0,0,0,0,0,0,1,1,1,0,0,0,0,0,0,0,0,0,0,0,4,0,2,0,0,0,0,0,0,0,0,0,0,0,0,2,0,1,0,1,0,2,0,0,1,0,0,0,1,2,0,0,0,0,0,3,0,0,0,0,0,0,0,1,0,0,0,0,0,0,0,0,0,0,0,0,0,0,0,1,0,0,0,0,1,2,2,0,1,0,2,2,0,0,0,0,0,0,0,1,0,1,0,1,0,0,0,1,0,0,0,0,0,0,4,0,0,3,0,0,0,0,1,0,0,0,3,0,1,0,0,0,2,1,0,0,1,0,0,1,0,1,1,0,1,0,0,0,0,0,2,0,0,0,0,0,0,1,1,1,0,0,0,0,0,4,0,0,1,0,0,0,2,0,0,0,0,0,0,0,0,0,0,0,0,0,1,0,0,0,0,1,0,0,0,0,0,0,0,0,0,2,1,0,2,0,0,0,0,0,0,1,0,0,0,1,0,1,0,0,1,0,3,0,0,0,0,0,0,0,0,0,0,2,3,0,0,1,0,0,0,0,0,0,0,0,0,0,0,1,0,4,0,0,0,0,0,0,0,1,1,0,0,0,0,1,0,4,0,0,3,4,1,0,0,0,0,0,0,1,0,0,0,0,0,0,0,0,0,0,3,0,1,1,0,2,0,0,0,0,0,0,1,1,0,4,1,0,0,0,0,0,4,0,0,0,0,0,3,0,0,0,3,1,0,0,0,0,1,0,0,1,1,0,0,0,0,0,0,0,0,3,0,0,3,0,0,1,0,0,0,1,0,0,0,0,0,0,0,0,0,0,3,0,0,0,1,0,0,0,0,0,0,0,0,0,0,1,0,0,0,0,1,0,0,0,1,0,0,1,0,0,1,0,2,2,0,0,0,0,0,1,0,0,0,1,0,0,0,0,1,1,0,0,0,0,0,1,0,0,0,1,1,0,2,0,0,0,1,0,0,1,0,0,0,1,0,0,0,0,0,0,0,3,0,0,0,0,0,1,0,3,0,0,1,0,0,0,0,0,2,0,0,0,0,0,0,0,0,0,0,0,0,0,0,0,0,0,0,0,2,0,4,0,0,0,3,0,1,0,1,0,0,0,0,0,0,0,0,0,1,0,0,0,0,0,0,0,0,0,1,0,1,1,1,0,0,0,0,0,1,0,0,0,0,0,0,3,0,0,0,0,0,0,0,0,0,0,0,0,3,1,0,0,0,0,1,0,0,0,0,0,1,3,0,0,0,3,0,0,0,0,0,2,0,0,0,1,1,0,0,1,0,0,1,0,0,1,0,0,0,3,0,0,0,0,1,0,2,0,0,0,0,1,0,1,0,2,0,0,0,0,1,0,0,0,0,0,0,1,0,0,1,0,0,0,0,0,0,0,0,4,0,0,0,1,0,0,2,0,0,1,4,0,0,1,0,1,0,0,0,0,0,0,0,0,0,0,0,0,0,0,0,1,0,0,0,0,0,0,0,0,0,2,0,3,0,1,1,1,0,1,0,0,0,0,1,0,0,0,1,0,0,0,2,0,1,1,0,0,4,0,0,1,0,0,1,0,0,0,0,3,0,4,1,0,0,0,0,0,0,0,1,0,0,0,1,0,0,0,2,0,1,0,2,1,0,0,1,0,0,0,0,2,0,0,0,0,0,0,1,0,1,0,1,0,0,0,0,2,0,0,0,0,0,2,1,1,1,1,0,0,0,0,0,0,0,0,0,1,1,0,0,0,0,0,0,0,4,1,0,0,4,4,0,0,0,0,0,0,1,0,0,1,0,0,1,0,2,0,0,0,3,0,0,1,0,2,0,2,0,0,0,0,1,0,0,0,4,0,0,0,0,0,3,2,0,0,0,0,3,0,0,0,0,1,0,0,0,0,0,0,0,0,0,0,0,0,0,0,0,0,0,1,1,0,0,0,0,2,0,0,0,0,0,0,0,1,0,0,4,2,1,0,2,0,0,0,0,0,0,0,2,2,1,0,0,0,0,0,0,1,0,2,2,0,1,0,0,0,4,0,0,0,0,2,0,1,0,2,0,1,0,0,1,0,0,0,0,0,0,0,0,1,0,0,0,1,0,0,0,3,0,0,0,0,0,0,0,0,0,0,0,0,0,0,0,1,0,1,1,0,0,0,0,0,0,0,0,0,0,0,1,4,0,3,0,0,0,0,0,0,0,0,0,3,0,0,0,0,4,0,0,0,0,0,2,0,0,3,0,0,0,0,0,0,1,0,0,0,4,0,0,0,1,0,0,0,0,0,0,1,2,1,0,1,0,1,1,1,0,1,1,0,2,1,0,0,0,0,0,0,2,0,1,3,2,0,0,0,0,3,0,0,0,0,0,0,1,0,0,0,1,2,0,0,1,0,1,1,0,0,0,0,1,0,0,0,0,0,4,0,0,0,0,0,0,0,0,1,0,0,1,0,0,0,0,1,1,1,0,0,1,0,1,0,0,1,0,0,0,0,0,0,0,0,0,1,1,1,4,0,0,4,1,0,0,4,0,0,1,4,0,1,0,0,0,0,1,0,2,1,4,1,0,0,0,0,0,2,1,0,0,0,0,0,0,0,0,0,4,4,0,1,0,0,0,0,0,2,0,0,0,0,0,0,0,0,1,0,0,0,0,0,0,1,0,0,1,1,0,1,0,0,1,0,0,0,0,0,0,0,0,0,0,3,0,0,2,0,0,0,0,3,0,0,0,0,0,0,0,3,0,0,4,0,1,0,0,0,0,0,0,0,0,0,0,0,0,1,0,0,2,1,0,1,0,0,0,0,0,0,0,4,0,0,0,0,0,0,0,0,3,0,0,0,0,0,0,0,0,0,2,0,0,0,0,0,0,0,1,3,0,0,0,1,0,0,0,0,1,2,1,0,1,0,0,0,0,1,0,0,0,0,0,0,0,3,1,0,0,3,2,0,1,0,0,0,0,0,1,0,0,0,4,1,3,0,0,0,0,0,0,0,0,3,0,0,1,0,0,0,0,0,0,0,0,0,1,1,0,0,0,0,0,3,0,0,3,0,1,0,0,0,0,0,4,1,0,0,1,0,0,3,0,0,0,0,0,0,2,0,0,0,3,1,0,0,1,1,0,1,0,0,1,0,1,0,0,1,0,4,0,0,1,0,0,0,0,2,0,4,0,0,0,0,0,1,0,3,0,0,1,0,0,0,0,0,0,0,1,0,0,1,0,0,0,0,1,0,3,0,0,3,0,0,1,0,0,1,0,0,0,1,0,0,0,0,0,0,0,0,0,1,0,0,0,0,1,1,0,0,1,0,1,0,0,0,0,0,0,0,0,0,0,0,1,1,0,4,1,0,0,0,2,0,2,0,2,1,4,0,0,0,0,1,0,1,1,0,0,0,0,4,0,0,0,0,2,2,0,0,0,1,0,0,0,1,0,0,0,1,0,0,1,0,0,0,0,3,0,0,0,0,0,0,0,0,0,0,0,0,1,0,1,2,0,0,0,2,0,0,0,1,0,0,4,0,1,0,0,0,0,2,0,0,0,1,1,0,1,0,0,2,0,0,0,0,0,3,0,0,2,0,0,0,0,2,0,1,1,0,0,0,0,0,0,1,0,0,0,0,0,0,2,0,1,0,1,1,0,0,1,0,4,0,0,3,0,0,0,0,2,0,1,0,0,0,0,3,0,0,0,0,3,1,0,0,1,0,0,0,1,0,1,0,0,0,0,0,1,2,1,0,0,0,2,0,0,1,3,0,2,0,1,0,0,0,0,0,0,0,0,0,0,3,1,1,0,1,0,1,0,0,0,0,0,0,1,0,0,0,0,2,0,1,1,1,1,0,0,1,0,0,0,1,0,0,0,0,4,0,1,0,1,0,0,0,0,1,1,0,1,0,0,0,0,0,0,0,0,4,0,0,0,0,0,0,0,0,0,1,1,0,1,0,1,0,0,0,0,4,0,0,0,3,0,1,0,1,4,0,4,0,1,1,3,0,1,0,0,1,0,0,1,0,0,0,0,0,0,2,0,0,0,0,3,0,4,0,0,0,0,0,0,0,1,1,0,0,0,2,3,0,0,0,1,1,0,0,0,1,0,0,1,0,0,0,1,1,0,0,0,1,0,0,0,0,0,0,4,0,0,0,0,1,0,2,0,0,0,0,0,0,0,0,1,0,0,1,0,1,1,0,0,0,1,1,0,1,1,0,1,0,0,0,0,0,0,1,0,1,0,0,0,0,0,1,3,3,0,0,1,0,0,0,0,4,0,0,0,0,0,1,0,0,0,0,0,0,1,0,0,0,0,0,0,0,0,0,0,1,0,0,0,1,0,1,0,1,0,0,1,0,0,2,0,1,0,0,3,0,0,1,0,0,3,0,2,3,0,0,0,0,0,0,0,0,0,0,1,0,0,1,1,0,0,0,0,1,0,2,1,0,0,1,1,1,0,0,1,0,1,0,0,0,0,0,1,0,0,0,2,0,0,0,2,0,0,1,0,1,0,0,0,0,0,0,0,0,0,0,0,0,4,0,0,0,0,0,0,1,1,0,0,1,2,0,0,0,0,0,0,2,0,0,1,0,0,0,0,0,0,1,0,0,2,0,0,0,0,0,0,0,1,0,2,0,0,0,0,0,0,0,0,4,0,1,0,0,1,2,0,0,0,1,0,0,0,0,0,0,1,0,0,1,0,0,1,0,1,0,0,0,0,0,0,0,0,0,0,0,1,1,0,1,0,1,1,3,0,0,0,0,0,1,1,0,0,0,0,0,0,0,0,0,0,1,1,0,0,0,2,0,0,1,0,1,0,0,0,0,0,0,0,1,0,1,0,0,1,0,0,0,1,0,1,1,0,0,0,0,0,0,0,0,1,1,0,0,0,0,0,0,1,1,1,0,0,0,0,3,1,1,0,0,0,0,0,1,0,0,1,0,1,3,0,0,4,0,0,0,0,2,0,0,0,0,0,0,0,0,0,1,0,0,1,0,1,0,1,1,1,0,0,0,1,1,0,0,0,0,1,0,0,0,1,0,0,0,3,1,0,0,0,0,0,0,0,0,0,0,0,0,1,2,0,2,1,0,0,0,0,2,0,1,0,0,0,0,0,0,1,0,0,0,3,0,0,0,1,1,0,0,0,0,0,0,0,0,1,0,0,0,0,1,0,0,0,0,0,0,0,0,0,0,0,0,0,2,0,0,1,0,1,3,1,2,4,1,0,0,1,1,3,0,1,0,4,0,0,1,0,0,0,1,3,0,1,0,0,1,0,0,0,0,1,0,0,1,0,0,0,0,1,0,0,0,0,0,0,0,1,0,0,1,0,0,0,2,3,0,0,0,4,0,1,0,0,0,0,0,0,0,0,0,4,0,0,0,0,0,1,2,0,4,3,0,1,1,0,0,1,0,1,0,0,0,1,0,0,0,0,1,0,0,0,0,0,1,0,1,0,0,0,0,0,0,0,0,1,0,3,1,1,1,0,0,0,1,2,0,0,0,0,1,1,0,0,3,0,0,0,0,1,1,0,2,1,1,1,0,0,1,0,1,0,0,0,0,0,0,0,0,0,0,2,1,0,0,0,0,0,0,0,0,2,0,3,0,2,0,0,3,0,1,0,1,0,0,1,0,0,0,0,0,0,0,2,0,0,2,1,0,1,0,0,1,1,0,0,1,0,1,0,0,0,2,0,1,3,0,0,0,0,1,1,0,1,1,0,0,0,0,0,0,0,0,0,1,0,0,1,0,0,1,1,0,0,0,0,0,0,0,0,0,0,0,1,0,0,1,0,0,0,0,0,0,1,0,1,1,0,0,0,0,0,0,1,0,1,0,0,0,0,0,0,0,3,0,0,0,0,1,0,0,0,0,0,1,0,0,0,0,0,0,0,0,0,0,2,0,1,0,0,1,0,0,0,1,0,4,1,0,0,0,0,0,1,0,0,0,0,0,0,0,0,0,0,2,0,0,0,0,0,0,0,0,0,0,0,0,0,0,0,0,1,0,0,0,2,0,0,0,1,0,0,1,1,0,0,0,0,0,1,1,0,1,0,0,0,1,1,1,1,0,1,0,0,2,0,0,0,0,0,0,0,0,0,0,0,0,0,2,1,0,0,1,0,0,0,0,0,0,0,0,0,0,0,0,0,2,0,1,0,0,0,0,1,0,0,0,0,0,0,0,1,3,0,2,0,0,0,0,1,4,0,0,0,0,0,0,0,0,0,0,0,0,1,4,0,2,1,0,0,1,1,0,0,0,0,3,0,0,1,0,2,0,0,0,0,0,0,1,0,0,0,0,0,0,1,0,0,0,0,0,0,0,2,0,0,0,0,0,0,0,0,0,0,0,0,0,0,0,0,0,0,0,2,0,1,0,0,0,0,0,0,0,0,0,1,0,0,3,0,0,0,1,1,0,0,0,0,0,0,0,1,4,1,0,0,0,0,1,0,0,0,1,0,1,0,1,0,1,0,2,1,2,0,0,0,0,1,0,2,0,0,1,3,0,1,0,0,0,0,4,0,1,3,0,0,0,1,0,0,0,0,0,0,0,0,0,0,1,0,0,3,1,0,0,0,0,0,0,0,0,2,0,0,0,1,0,0,0,1,2,0,0,0,0,1,0,0,1,1,0,1,0,0,0,0,0,0,0,1,1,0,0,0,0,0,0,0,0,0,0,0,0,0,2,0,0,0,3,0,1,0,0,0,2,0,0,0,0,0,0,0,0,0,1,0,0,4,0,0,0,0,1,0,1,0,1,0,0,1,0,0,0,0,3,0,0,1,0,0,0,0,0,0,0,1,1,0,0,4,0,4,0,0,0,0,1,1,1,0,1,0,4,0,0,0,0,0,0,0,0,0,0,2,0,0,1,0,0,0,0,0,1,0,0,0,1,0,0,0,0,0,0,1,1,0,0,1,0,0,0,0,0,0,0,3,3,0,0,0,1,0,0,0,0,0,0,1,0,0,4,0,1,1,1,0,0,1,0,0,0,0,0,0,0,0,0,0,0,0,0,0,0,3,0,0,0,0,1,0,0,1,0,2,1,4,0,0,0,0,1,0,1,0,0,0,0,0,1,0,0,0,0,0,0,1,1,0,1,1,0,0,0,1,0,0,0,0,0,0,0,0,0,0,1,0,0,0,0,0,0,0,0,1,0,2,1,0,0,1,4,1,0,0,2,0,2,0,0,0,0,1,0,1,0,1,0,0,0,0,0,4,0,3,0,0,0,0,0,0,2,3,0,2,0,0,0,0,0,0,0,0,0,2,0,0,0,0,0,0,0,0,0,0,1,0,0,0,1,0,0,0,0,0,0,0,1,0,0,0,0,0,0,1,0,0,0,4,1,0,1,2,0,0,0,0,1,0,0,0,0,3,0,0,0,0,0,0,3,1,0,0,3,0,1,1,3,0,3,0,4,0,0,1,0,2,0,0,0,0,1,0,0,2,0,1,0,1,1,0,0,0,3,1,0,0,0,0,0,1,1,1,0,0,1,0,0,0,0,0,0,3,0,0,0,0,0,1,0,0,0,0,0,0,0,0,4,0,0,1,1,0,1,0,0,0,0,0,0,1,1,0,0,1,0,0,0,1,1,0,0,0,2,0,0,4,0,0,0,0,1,0,4,0,0,0,0,0,0,0,0,1,0,0,0,0,1,1,0,0,0,0,1,0,0,0,0,0,0,2,0,0,0,1,0,0,0,0,0,0,0,0,0,4,0,0,0,0,0,1,0,0,0,0,2,0,3,1,0,0,0,0,0,0,0,0,0,4,0,1,1,0,0,1,0,0,0,0,0,0,1,1,0,0,1,0,1,1,4,0,0,0,0,0,0,1,1,3,0,3,0,0,0,1,0,1,1,0,0,0,0,0,1,0,4,1,0,0,0,0,1,1,1,2,0,0,1,0,1,0,0,2,0,0,0,2,0,0,0,0,0,0,0,0,2,0,0,1,0,0,0,0,0,0,0,0,1,0,0,0,4,0,0,0,0,4,0,0,0,0,0,3,0,1,1,0,0,1,0,4,0,0,0,0,0,1,0,1,0,1,0,0,0,0,0,0,0,0,0,0,1,1,0,0,0,0,2,0,0,1,0,0,1,0,0,0,0,0,1,0,0,2,0,0,1,1,0,0,0,2,0,1,0,0,0,0,1,1,0,0,0,0,0,1,0,0,0,0,1,0,2,1,0,0,1,0,0,0,1,1,0,0,0,1,0,0,1,0,0,1,2,0,0,0,0,1,1,0,1,0,1,0,0,0,0,0,0,0,4,1,0,0,0,0,1,1,0,0,4,1,0,0,0,1,0,0,0,0,0,0,0,0,0,0,0,1,1,0,0,0,0,2,0,0,0,0,0,0,0,0,0,0,0,0,0,0,0,0,0,0,0,3,0,0,1,3,2,0,0,0,0,0,0,1,1,0,0,0,0,0,0,0,0,0,0,1,4,0,0,0,2,1,0,1,1,0,0,0,0,0,1,0,0,0,0,1,0,0,0,0,0,0,1,0,1,1,0,0,0,0,0,0,0,0,0,0,0,0,0,2,0,0,0,0,3,1,1,1,1,0,0,1,0,0,0,0,1,0,0,1,1,1,0,0,0,0,0,0,0,0,3,0,0,0,3,0,0,1,1,0,0,4,0,4,2,0,3,1,1,0,0,0,0,0,0,0,0,0,0,0,0,0,4,2,0,3,0,3,0,0,4,0,0,0,1,0,1,1,0,0,0,0,0,0,0,1,0,2,0,3,0,0,0,2,0,0,0,0,1,1,0,0,0,0,0,1,3,1,0,0,0,0,0,0,0,0,1,0,0,0,0,0,0,2,0,0,0,0,1,0,0,0,0,0,0,0,0,0,0,0,2,1,1,0,1,0,0,0,4,1,0,0,0,0,0,0,0,1,0,1,0,0,0,0,0,0,1,0,0,0,1,0,0,0,0,0,0,1,1,0,0,0,0,0,2,0,0,0,0,0,3,0,0,0,0,0,0,0,2,0,2,0,0,0,1,0,1,0,0,0,1,0,2,0,0,0,0,2,0,0,1,0,0,0,0,0,0,0,0,0,0,0,2,0,0,0,0,0,1,0,1,0,0,4,0,0,0,1,0,3,0,0,3,4,0,0,2,2,0,0,4,1,2,0,1,1,0,2,2,0,3,0,1,0,0,3,0,0,0,0,0,0,2,0,0,0,0,0,0,0,0,0,0,1,0,0,0,0,1,1,2,0,1,0,0,0,1,0,0,0,0,0,0,0,0,0,0,0,3,0,2,0,0,0,0,0,1,0,0,0,0,0,0,0,0,0,0,0,1,1,1,1,1,0,1,0,0,0,1,0,2,1,0,0,0,0,4,0,0,0,0,0,0,0,0,0,0,0,0,0,0,0,0,0,0,1,0,0,4,2,3,0,1,0,0,0,0,0,1,4,1,0,2,1,2,0,0,0,0,0,0,0,0,0,1,3,1,1,0,0,0,1,0,0,0,0,0,2,0,0,0,0,4,0,3,0,0,0,0,1,0,1,0,0,0,0,0,0,0,0,1,0,2,0,0,3,0,2,1,2,1,0,0,0,0,0,2,0,0,0,1,0,4,0,2,0,0,0,1,4,0,0,0,0,0,0,0,0,0,0,1,0,0,0,1,0,1,1,0,0,4,0,0,2,0,1,0,2,0,1,0,0,0,0,1,0,1,0,0,0,0,4,0,4,1,0,0,0,2,1,0,0,0,0,0,0,0,1,4,0,0,0,1,0,0,0,0,0,4,0,1,0,0,0,0,0,0,0,1,0,0,0,0,0,0,0,0,0,0,4,0,0,0,0,2,0,1,1,0,0,0,0,1,0,1,4,3,0,0,0,0,0,0,1,2,1,0,0,0,3,0,3,0,1,1,1,0,0,0,0,0,0,4,0,1,1,1,1,0,0,0,0,1,0,0,0,0,0,0,1,0,0,0,1,0,0,1,0,4,0,0,2,1,1,0,0,0,0,0,3,0,0,0,1,0,0,0,0,0,2,4,0,1,1,0,0,0,0,0,1,0,0,0,0,0,0,1,0,0,0,0,0,0,0,0,1,0,0,0,0,1,0,2,0,0,0,0,1,0,0,0,0,0,0,0,0,1,0,0,0,2,0,0,0,0,4,0,0,2,0,0,0,0,0,1,2,3,1,0,0,0,0,1,1,0,0,0,2,0,0,0,0,1,0,0,0,0,2,2,0,0,1,0,0,0,1,0,0,0,0,3,0,1,0,1,0,0,4,0,0,1,0,1,1,0,1,1,0,0,0,0,0,0,2,0,0,0,1,2,0,0,0,0,0,0,0,1,0,1,0,0,0,1,0,0,0,1,2,0,0,4,0,0,1,1,1,0,0,0,0,0,1,0,0,0,0,0,0,0,0,1,0,0,4,0,0,1,0,0,0,0,0,0,0,0,1,1,1,0,3,0,0,0,0,0,0,0,1,0,0,0,0,1,0,0,0,0,0,0,0,0,2,0,0,0,0,0,0,0,2,1,0,0,0,2,0,0,0,0,4,0,2,0,0,0,0,0,1,0,0,0,3,4,0,1,1,0,0,0,0,0,0,1,0,1,2,1,1,0,0,0,0,2,0,4,0,0,1,0,0,2,0,1,0,0,0,0,0,0,0,0,0,0,0,0,4,0,2,0,0,0,0,2,0,0,0,0,0,0,0,0,0,1,1,0,0,0,0,0,4,0,0,0,0,1,0,0,0,0,2,0,0,0,2,0,0,4,0,1,0,0,1,0,0,0,0,0,2,4,0,0,1,0,0,0,1,1,4,1,0,0,1,1,1,0,0,0,1,0,0,0,1,0,0,0,2,0,0,1,1,0,0,0,0,0,0,0,0,0,0,0,0,0,0,0,0,0,3,1,2,1,0,1,1,0,0,2,0,0,0,0,1,0,0,0,0,0,0,0,0,0,2,1,0,1,0,0,0,1,0,2,0,2,1,0,4,0,0,0,0,0,0,1,1,3,0,1,0,3,0,0,0,0,0,0,0,0,0,1,0,2,0,0,1,0,0,1,0,0,0,0,0,0,1,0,4,0,0,0,0,0,0,0,0,0,0,0,1,2,0,0,0,0,0,1,1,1,0,0,1,0,0,0,0,0,2,0,0,2,1,1,1,2,0,1,0,0,1,0,0,0,0,0,0,0,0,0,0,0,0,0,2,0,0,0,0,0,0,2,3,0,1,0,0,0,2,0,0,0,0,0,2,0,0,0,0,0,1,1,0,0,4,0,0,0,0,0,0,1,0,0,0,0,0,0,1,0,0,0,0,0,1,0,0,0,0,0,0,0,0,0,0,0,0,4,0,1,0,0,0,0,0,2,1,0,1,0,1,0,1,0,0,0,0,0,0,2,0,0,0,1,0,0,0,0,0,1,0,3,0,0,1,0,0,0,0,0,4,1,0,1,0,0,0,3,0,0,1,0,0,0,0,0,0,1,0,0,1,0,0,0,1,0,0,1,1,0,1,0,0,1,0,0,0,0,0,1,0,0,0,1,0,0,3,0,1,1,0,0,0,0,0,0,1,0,2,1,0,0,0,1,0,1,0,1,0,0,0,0,1,2,0,0,1,1,0,1,0,0,0,0,0,0,0,0,1,0,0,0,4,1,0,1,0,0,0,4,0,0,0,0,0,0,0,0,1,0,1,1,0,4,3,2,0,0,0,0,0,0,0,0,0,0,0,0,1,0,3,0,0,1,0,1,0,1,0,0,0,0,4,0,0,0,0,2,0,2,0,0,0,0,1,1,0,0,0,0,0,0,0,0,1,0,0,0,4,0,0,0,0,0,0,2,0,0,1,0,0,0,0,0,0,1,0,4,2,0,0,0,0,1,2,0,1,0,1,0,1,0,1,0,1,0,2,1,1,0,0,0,0,0,0,0,1,0,0,2,0,0,0,0,0,0,0,0,2,1,0,0,0,0,0,0,0,1,3,2,1,0,0,0,0,0,0,0,4,0,0,0,0,2,4,0,0,0,0,0,0,0,1,0,0,1,1,1,1,0,0,1,0,0,0,0,4,0,0,0,2,0,0,0,0,0,0,0,0,0,0,3,0,0,0,1,4,0,1,0,1,0,1,0,0,2,0,0,3,0,1,3,1,0,1,0,1,0,0,0,0,0,2,0,0,0,2,0,0,0,0,0,0,0,0,0,1,0,2,0,0,2,0,4,0,1,0,0,0,0,0,0,0,0,0,0,4,1,0,1,0,0,0,1,0,0,0,0,0,0,0,0,0,0,0,0,0,0,0,1,0,2,1,3,0,1,0,0,0,0,0,0,0,3,0,1,0,1,0,1,0,1,0,0,1,2,1,0,0,0,1,0,1,0,0,0,0,0,0,0,0,1,4,1,0,0,1,0,0,0,0,0,1,0,0,0,0,0,0,0,0,3,0,3,0,0,1,1,0,1,0,1,2,0,0,0,1,0,1,1,0,1,1,0,1,0,0,0,0,4,0,1,1,0,1,0,2,0,2,0,4,1,0,0,0,0,0,1,0,0,0,0,0,0,2,0,0,0,1,1,0,0,0,0,0,0,0,2,0,1,0,0,2,0,0,0,0,0,1,1,1,1,0,0,0,1,0,0,0,0,0,0,0,0,1,0,0,0,0,0,0,0,0,0,0,0,1,0,0,0,0,0,1,2,0,0,4,0,0,0,0,0,2,0,0,0,1,0,0,0,4,0,0,0,0,0,0,0,0,0,0,1,0,0,0,2,0,0,1,0,2,2,0,1,0,0,0,4,0,0,0,0,0,0,0,2,0,0,0,0,0,1,0,1,0,4,1,0,0,0,0,0,0,0,1,0,1,0,0,2,0,1,2,1,0,3,1,0,0,0,0,0,1,1,0,1,1,0,0,0,0,0,0,0,0,0,0,1,0,0,0,0,0,0,0,0,0,1,1,0,2,0,0,0,3,1,0,2,1,0,0,1,0,0,0,4,0,0,0,0,1,0,0,0,0,0,1,0,0,1,2,0,0,0,0,0,0,0,0,1,0,1,2,0,0,1,0,0,0,0,0,0,0,0,4,0,0,1,0,1,1,0,0,0,0,0,0,0,0,0,1,0,2,0,0,1,1,0,4,1,0,0,0,0,0,0,0,0,0,0,0,0,0,0,0,1,1,0,0,0,0,1,1,0,3,1,0,0,1,1,2,0,0,0,1,0,0,1,1,0,0,0,0,0,0,0,0,3,0,0,0,0,0,0,0,0,0,0,0,0,1,0,3,0,0,0,4,1,0,0,0,0,3,2,1,0,4,1,0,0,0,0,0,0,0,0,0,0,0,0,0,0,0,1,0,0,1,0,0,4,0,0,0,2,0,0,0,0,4,0,0,0,1,0,2,0,1,0,0,0,0,0,0,0,1,0,0,0,0,1,0,1,0,0,0,0,0,0,0,0,0,0,2,0,0,2,0,0,0,0,0,0,0,0,0,0,0,0,0,0,1,2,3,0,0,0,0,0,0,0,0,1,0,1,0,1,0,0,0,0,1,0,0,0,0,0,0,4,1,0,0,0,0,1,0,2,0,1,1,0,0,1,0,0,4,1,1,0,0,0,0,2,0,0,0,0,1,1,0,0,0,0,1,0,0,0,0,4,0,0,1,0,1,4,0,1,0,4,0,0,0,0,1,1,0,0,0,1,0,0,0,0,0,0,0,0,3,0,0,0,3,3,0,0,1,0,0,0,0,0,0,0,0,2,0,1,0,0,0,2,0,1,0,0,1,0,0,1,1,0,0,0,1,0,0,1,0,0,0,0,1,0,1,0,0,0,0,0,2,0,0,0,0,0,1,0,0,0,0,0,0,0,0,2,0,1,1,0,3,0,0,0,0,0,0,0,0,0,0,0,0,0,0,0,0,0,1,1,0,0,1,1,0,0,0,0,0,0,0,0,0,1,0,2,0,0,0,2,0,0,0,0,0,0,1,0,0,1,0,0,0,0,0,0,1,0,0,0,0,0,0,0,2,0,0,1,0,1,0,0,0,0,0,0,0,0,1,0,1,0,1,0,0,0,1,0,0,1,0,1,0,0,1,0,0,0,0,0,0,0,0,0,0,0,0,0,0,0,0,0,1,0,4,1,0,0,0,0,0,0,0,0,0,1,0,0,2,0,0,0,0,0,0,0,0,1,1,0,1,3,0,3,0,0,0,0,0,0,1,0,1,0,0,0,0,0,0,2,3,0,0,0,0,3,0,0,0,4,0,0,0,0,0,0,0,0,0,0,1,1,1,1,0,1,1,4,0,0,0,0,0,0,1,0,0,2,4,0,3,0,1,3,0,1,0,1,1,0,0,2,0,0,1,4,0,0,1,0,0,2,0,0,1,0,2,0,0,0,0,0,0,0,0,0,0,0,0,1,1,0,2,0,0,0,0,0,0,1,0,1,3,2,0,0,0,3,0,0,3,0,0,0,0,3,1,2,0,0,0,0,4,2,0,0,0,1,0,0,0,1,0,1,0,3,0,1,0,0,1,1,2,0,1,0,1,1,0,0,0,0,0,0,0,0,0,0,0,1,0,0,0,0,0,0,0,0,0,0,0,0,0,0,0,1,4,0,0,0,2,0,0,0,1,1,0,0,0,1,4,0,0,0,1,1,1,0,0,2,0,0,0,0,4,0,0,0,0,0,0,0,0,3,0,0,0,0,0,1,0,0,0,0,0,0,0,0,0,1,0,0,0,1,0,0,0,1,0,1,4,0,0,0,1,4,0,0,0,0,0,1,0,1,0,0,0,1,4,0,0,0,0,0,1,1,0,1,1,1,1,0,0,0,0,1,0,0,0,1,2,0,1,0,1,0,0,0,0,0,1,0,0,1,0,0,0,1,0,0,0,0,0,0,0,0,0,1,0,0,0,0,0,1,0,0,0,0,0,0,0,1,2,4,4,0,0,0,0,0,0,0,0,0,1,1,0,3,1,0,2,3,0,0,0,1,0,0,2,0,0,4,0,1,0,1,0,1,1,0,1,0,0,0,1,0,0,0,1,2,0,0,0,0,0,1,0,0,0,1,0,1,0,2,0,0,0,0,0,0,0,0,0,0,1,3,0,1,0,0,0,0,2,2,0,0,0,0,0,1,1,1,0,0,0,0,0,2,0,1,0,0,0,1,0,0,0,0,1,0,1,1,0,0,0,0,0,0,0,1,1,0,1,0,1,0,0,1,1,2,0,0,0,2,0,0,0,2,0,1,4,3,0,0,0,0,0,0,1,0,0,0,1,0,1,1,3,0,0,1,0,0,2,0,0,3,1,0,0,0,0,0,1,0,0,1,1,0,0,0,0,1,0,0,0,1,1,0,0,0,0,0,0,0,0,0,0,0,0,1,0,0,0,2,0,0,0,2,0,0,1,0,4,2,0,3,0,1,0,0,0,0,0,0,0,1,1,2,0,0,0,0,0,0,0,0,0,1,0,0,0,4,0,0,0,1,0,0,0,0,0,0,0,0,0,0,0,0,0,0,0,0,1,1,1,0,0,0,0,0,0,0,1,1,1,0,0,0,0,1,1,0,0,0,2,1,0,1,1,1,0,0,0,0,0,0,0,0,1,1,0,1,0,0,0,0,0,0,0,0,1,1,0,0,0,1,0,0,0,0,0,1,0,0,0,1,0,0,0,0,1,0,0,1,0,0,1,0,0,0,0,0,0,0,0,3,0,1,1,3,0,0,0,4,0,0,0,0,0,0,0,0,4,2,0,0,0,0,0,0,0,0,0,0,1,0,1,0,0,0,4,1,1,0,0,0,0,1,0,0,0,0,0,0,1,0,1,0,0,1,0,1,1,0,4,1,0,0,0,4,0,0,1,0,0,0,0,0,2,0,0,0,0,2,0,0,0,0,0,0,0,2,3,0,2,0,1,0,0,2,1,0,1,0,0,0,0,1,0,2,0,0,0,0,0,1,0,0,0,0,0,0,0,0,0,0,0,0,0,0,0,0,0,3,0,0,1,0,0,0,0,0,0,4,0,0,1,0,0,0,0,0,0,1,0,0,0,0,0,0,1,0,0,0,0,3,4,1,0,0,0,1,1,1,0,0,1,0,0,0,1,2,0,0,0,0,3,0,1,0,0,0,0,0,0,0,0,0,0,0,0,1,2,0,0,0,0,0,0,0,1,0,1,0,0,0,0,1,0,0,0,0,0,0,0,0,0,1,0,0,0,0,0,3,3,0,0,0,0,4,4,0,0,0,0,1,0,0,1,0,1,0,0,0,0,1,0,0,1,0,1,4,0,0,0,0,0,0,0,0,2,0,0,4,0,0,1,0,0,1,2,1,0,0,0,0,1,0,0,0,0,0,0,0,0,0,1,0,0,0,0,0,0,0,0,0,1,0,0,0,1,0,0,0,0,2,0,0,1,0,0,0,0,4,0,0,4,0,0,0,0,1,4,1,0,0,4,0,0,0,0,0,1,0,2,1,0,0,1,0,3,1,1,1,0,0,0,0,1,0,0,1,0,0,0,0,1,0,0,0,0,0,1,0,0,1,2,0,0,4,0,0,0,0,2,4,1,0,0,0,1,4,0,0,4,0,1,3,0,0,0,0,1,0,0,0,0,0,1,0,2,2,0,1,1,0,0,0,0,0,0,1,0,0,0,0,0,0,1,0,0,0,0,0,0,0,1,2,0,1,0,0,0,0,0,0,0,1,0,0,0,2,0,0,1,0,0,0,0,0,0,4,0,0,1,1,0,0,0,2,0,0,0,4,4,2,0,1,0,0,0,0,4,0,0,0,0,0,0,0,0,3,2,0,1,1,0,4,0,0,1,0,0,0,2,0,0,3,0,0,0,0,0,0,0,2,0,0,0,4,0,0,2,2,0,0,0,0,1,0,0,1,0,0,0,0,0,1,0,0,0,1,0,1,0,0,0,2,0,0,0,0,1,0,0,0,0,0,0,0,0,0,0,1,1,0,0,0,1,0,1,1,0,0,0,0,1,0,1,1,1,0,0,1,0,0,0,2,0,0,3,0,0,0,0,0,0,0,1,0,0,0,0,0,0,1,0,0,3,0,0,0,1,1,0,0,0,0,0,0,0,0,0,3,0,0,0,1,1,1,0,0,1,4,1,2,0,0,0,0,0,0,0,1,1,0,0,0,0,0,1,0,1,0,0,0,0,0,0,0,2,0,0,0,1,0,0,0,1,1,0,0,0,0,0,4,0,0,0,0,0,0,0,2,0,0,1,0,0,0,0,0,1,0,0,0,0,0,0,4,0,1,1,1,0,0,1,0,0,1,0,1,0,0,1,0,1,0,0,1,0,0,0,2,0,0,0,1,0,0,0,1,0,0,4,3,0,0,0,0,0,0,0,0,0,2,0,0,1,0,1,1,0,0,0,0,0,0,0,0,0,1,0,0,0,0,1,4,0,0,0,0,0,0,0,2,0,0,1,0,0,0,0,0,0,0,0,0,0,0,0,0,0,0,0,0,0,0,0,0,0,0,1,0,0,0,0,0,0,0,0,1,1,2,0,1,3,0,0,0,0,2,0,0,0,1,2,1,0,0,1,1,1,0,0,0,0,0,0,0,0,0,4,0,0,0,1,1,0,0,3,0,0,0,0,0,0,0,0,0,0,1,1,0,1,0,0,1,0,1,3,0,1,0,2,0,0,0,0,0,0,2,0,0,0,2,0,0,1,0,0,0,0,0,2,1,0,3,2,0,0,1,0,0,0,0,0,0,0,0,3,0,0,0,3,4,4,0,0,0,0,3,0,0,0,0,0,0,1,0,0,0,0,0,0,0,0,0,1,0,0,0,3,1,4,0,0,0,0,0,0,4,0,2,0,0,0,0,0,0,2,0,0,0,1,0,0,0,0,1,0,1,0,0,0,0,0,0,3,0,0,3,0,0,0,0,0,0,0,0,1,0,0,0,0,1,0,0,0,0,2,0,0,0,1,0,0,0,1,0,0,0,0,0,0,1,1,1,0,0,0,0,0,0,0,0,0,0,0,0,1,1,0,0,0,0,1,0,0,4,0,0,0,1,0,0,0,0,4,0,0,1,1,0,0,0,0,0,3,0,0,0,0,0,0,0,0,1,0,0,0,0,1,0,0,0,0,0,3,1,0,0,0,0,0,0,0,0,2,0,0,1,0,1,1,0,0,0,0,0,0,0,0,0,0,0,0,0,0,2,0,0,0,1,0,0,0,0,1,0,0,0,0,2,0,0,0,0,0,0,0,0,1,0,0,0,2,0,0,0,4,1,0,4,0,1,0,2,0,0,0,1,0,0,0,0,0,0,1,2,3,0,1,0,0,0,0,0,4,0,0,1,0,0,0,0,4,0,0,1,3,0,0,0,0,0,0,0,0,0,0,0,0,1,0,0,0,0,1,0,1,0,0,0,0,0,0,0,0,1,0,0,0,0,0,0,0,1,0,0,4,0,0,3,0,0,0,1,0,0,0,0,1,2,2,0,0,0,0,0,0,2,0,2,1,0,0,0,0,0,1,0,1,1,1,0,0,0,0,0,0,4,0,0,0,0,1,0,0,4,1,0,1,2,0,1,0,0,0,0,0,0,2],\"xaxis\":\"x\",\"y\":[112,152,77,124,150,225,95,242,159,65,156,199,80,67,261,230,164,197,80,262,125,94,153,80,123,167,220,216,196,240,242,190,253,66,229,219,110,239,237,181,255,151,58,256,212,257,70,160,181,96,271,109,173,114,96,141,261,165,204,227,247,78,248,105,69,171,161,92,262,223,86,128,145,115,187,200,97,106,134,133,80,256,181,164,235,91,152,240,81,187,264,142,101,176,212,221,175,159,170,206,161,141,86,157,157,152,145,96,194,101,92,270,270,228,174,139,264,122,62,169,136,255,210,86,82,186,75,123,193,60,222,90,119,183,224,222,267,70,61,57,60,149,106,193,160,254,138,103,156,148,97,236,241,94,118,222,264,255,177,65,80,248,180,211,154,159,251,179,189,106,162,174,115,73,191,112,158,97,265,63,245,94,195,206,92,221,214,61,77,155,202,124,165,193,152,129,85,210,203,90,60,246,269,92,110,74,214,79,134,246,248,101,251,181,168,254,200,214,230,207,238,220,225,192,160,212,250,176,134,72,174,243,126,238,199,247,235,102,167,158,162,79,74,86,169,219,92,60,159,101,147,267,217,163,197,72,114,227,233,77,155,132,207,113,233,243,197,186,264,124,213,59,230,203,227,270,184,228,227,154,150,106,170,112,204,223,77,57,69,139,206,194,120,161,256,215,190,166,65,208,99,265,87,167,75,86,111,210,154,160,201,255,261,113,163,84,259,166,111,89,270,58,87,145,236,141,161,82,210,237,257,180,93,107,201,188,85,171,161,186,93,136,163,65,179,244,156,103,80,140,201,268,241,134,213,212,248,65,99,232,141,185,121,242,204,242,56,254,183,237,88,70,102,243,223,231,211,160,109,163,125,163,188,114,266,262,238,208,205,126,237,190,63,215,159,101,208,84,104,168,193,147,185,124,63,79,268,208,191,65,173,222,244,146,67,60,87,258,113,270,153,73,110,256,244,264,153,99,183,182,202,99,112,114,143,68,257,68,266,57,177,140,241,239,187,74,268,137,66,211,159,211,173,168,248,70,81,93,90,71,242,129,132,73,90,101,177,119,80,246,254,229,117,179,250,93,105,175,231,114,129,146,118,195,92,67,255,86,240,102,202,62,193,150,149,55,115,184,141,157,256,186,137,139,135,66,221,256,76,227,170,184,103,58,228,171,261,159,232,96,162,207,239,83,61,159,204,147,116,176,78,98,216,197,187,129,162,165,105,162,205,242,182,98,179,238,134,180,206,207,260,264,124,169,57,156,223,109,234,166,158,80,103,267,259,239,64,215,185,158,203,260,201,248,269,80,102,106,62,265,243,113,117,136,216,182,207,139,94,92,268,93,158,60,232,108,258,242,233,86,235,193,207,264,146,116,232,178,77,57,251,174,250,188,234,168,221,244,173,105,184,198,127,149,98,257,263,145,152,170,161,169,253,84,117,171,250,267,105,225,171,146,224,195,138,161,65,99,87,62,230,241,230,55,144,104,154,102,90,85,225,258,82,260,209,214,269,171,239,58,199,101,204,265,230,163,219,101,151,95,253,236,167,271,186,259,221,207,180,150,235,240,268,137,247,125,94,58,192,120,263,73,96,67,95,252,76,157,220,133,254,182,188,86,228,135,150,86,234,234,55,176,253,211,211,110,164,171,110,149,259,185,91,168,213,267,181,160,92,74,66,222,212,258,163,88,199,235,213,223,253,71,207,219,86,146,63,198,137,255,233,120,56,235,154,241,159,179,256,199,168,253,177,57,168,155,86,57,110,103,257,134,201,108,111,66,120,78,192,113,171,75,230,140,113,158,80,198,178,197,226,161,152,222,225,56,205,261,154,212,109,253,151,58,268,235,179,206,82,126,208,171,108,71,77,224,262,149,164,98,208,81,127,96,150,219,118,189,92,120,203,131,108,266,103,113,237,258,214,240,165,269,70,143,239,175,164,101,161,191,81,219,95,198,247,128,211,218,61,256,133,98,81,251,156,130,212,160,208,113,156,267,56,234,132,74,269,232,211,232,153,166,198,163,239,96,89,232,253,200,106,196,127,168,166,249,217,108,224,204,258,101,90,95,160,258,260,267,91,187,219,77,97,227,90,68,217,152,77,248,231,102,116,212,251,247,213,179,167,58,188,258,251,268,125,190,203,239,144,145,73,157,104,234,102,213,251,266,134,67,203,140,165,109,161,222,223,84,79,129,199,85,226,252,268,162,126,207,158,125,81,166,67,239,219,113,109,180,220,198,261,90,197,170,244,177,208,192,110,187,87,102,84,264,58,122,192,158,169,83,102,160,142,135,107,133,179,229,65,104,204,220,117,145,250,192,199,59,124,97,220,81,91,248,223,104,60,70,270,70,95,184,123,271,89,260,109,111,172,82,219,232,87,260,100,263,179,239,116,187,198,91,242,247,110,237,124,133,253,222,89,213,204,195,188,61,113,140,108,111,105,171,63,194,227,80,63,103,145,183,172,170,229,240,62,183,141,202,197,160,210,89,115,104,72,205,217,231,61,157,88,271,75,242,232,186,159,172,95,254,205,249,153,55,58,213,144,61,173,229,221,228,126,254,136,242,215,175,270,207,116,123,187,269,189,251,198,109,176,136,57,244,200,99,87,56,255,166,80,99,247,113,207,191,230,127,79,212,224,190,232,252,199,265,169,233,146,166,212,181,215,266,240,132,65,254,149,144,77,67,139,112,138,163,179,113,264,61,126,161,145,187,210,140,257,147,145,116,145,125,91,186,253,251,118,101,155,213,254,172,80,179,234,184,227,147,163,193,204,130,95,265,128,71,105,113,162,245,60,248,154,232,218,58,152,145,271,216,246,268,121,261,259,192,69,142,154,56,208,199,225,117,176,252,180,167,219,224,187,97,241,173,126,114,161,261,140,178,70,247,118,266,228,211,228,92,93,114,186,162,100,231,198,249,189,150,226,172,137,236,259,152,137,165,251,129,94,225,155,100,219,176,158,251,117,187,222,164,177,101,122,200,183,78,242,58,221,216,186,220,103,82,88,157,189,163,55,87,120,162,107,232,124,75,119,102,179,255,161,173,110,128,214,67,188,270,237,79,159,195,268,189,169,83,116,205,119,143,242,117,155,180,187,215,163,120,141,190,244,256,262,199,226,190,232,89,114,197,159,163,141,131,256,225,114,223,227,173,224,64,68,184,157,176,198,268,66,125,120,229,152,242,201,158,249,83,153,226,153,105,206,59,178,106,128,239,74,143,253,139,195,171,82,268,262,154,239,243,254,105,117,195,162,142,235,176,148,258,71,118,158,127,268,64,179,114,56,143,124,211,66,122,160,167,171,128,100,258,91,228,259,229,258,104,112,263,155,198,225,175,225,145,86,138,124,188,198,138,90,146,244,247,56,226,78,206,245,99,154,161,203,99,213,99,257,130,135,234,246,133,196,135,151,222,92,269,94,214,116,234,75,57,100,181,217,196,170,192,160,92,73,253,113,94,146,135,178,169,157,165,60,197,105,105,159,210,98,241,66,217,109,185,131,201,199,230,269,66,107,154,106,218,270,109,255,237,151,162,255,121,212,173,63,137,167,93,165,180,148,248,249,145,65,61,65,177,72,219,139,271,134,232,83,186,115,244,127,198,212,105,239,127,163,107,241,239,217,226,129,188,248,89,196,109,75,64,205,131,105,217,261,248,75,209,177,142,152,231,140,97,81,244,112,174,257,268,261,60,261,242,175,160,218,70,193,116,147,137,81,219,221,193,141,233,206,129,264,109,201,99,120,217,73,71,224,177,238,118,84,172,61,81,126,58,109,173,161,94,247,185,163,83,152,163,171,92,69,195,251,132,224,86,252,205,188,87,114,100,218,72,146,131,80,194,218,61,118,68,121,99,64,111,253,243,112,255,85,199,119,269,254,139,112,162,176,109,211,212,74,266,222,265,94,69,123,250,128,255,58,169,84,124,246,251,222,205,245,175,205,67,236,204,248,145,190,205,199,115,234,61,103,183,60,209,167,250,163,271,171,183,126,239,57,145,260,248,222,215,79,193,115,149,151,233,96,238,79,171,156,223,169,90,177,212,178,188,241,169,235,222,257,136,166,103,164,86,192,234,259,239,239,255,101,183,122,215,184,259,184,220,166,121,96,175,242,153,172,198,211,228,257,61,218,229,212,155,267,223,197,169,135,84,216,77,96,153,242,173,200,194,128,70,149,270,147,159,166,191,256,135,55,138,226,136,257,183,205,237,209,89,91,252,151,119,151,176,202,209,149,225,259,125,181,230,82,146,231,171,230,231,187,131,145,112,75,251,124,157,96,69,142,260,262,141,267,55,97,88,147,260,227,237,232,194,75,261,124,262,134,219,84,84,79,158,227,196,237,164,100,264,56,132,255,246,141,246,144,135,178,154,91,209,139,209,154,86,192,72,248,55,56,215,99,146,110,94,74,148,122,209,207,152,105,260,268,245,230,240,64,268,218,188,210,97,220,179,263,87,257,85,130,239,71,218,230,126,104,58,147,133,174,110,186,219,108,193,141,267,244,142,167,71,103,156,66,184,179,147,156,141,176,264,178,257,260,180,131,230,128,144,229,146,74,233,159,100,251,187,152,98,135,260,211,86,208,111,204,68,203,148,68,174,111,175,145,246,226,231,197,170,172,258,96,98,240,173,249,73,228,135,117,267,222,238,229,108,67,56,186,95,232,94,245,113,59,189,198,105,206,108,56,65,106,91,158,234,99,247,209,202,188,138,240,244,236,59,234,64,233,219,57,165,139,131,215,250,94,150,173,236,191,203,107,252,269,256,241,107,87,219,266,224,106,68,209,190,72,58,257,76,126,233,86,118,146,141,174,159,97,156,90,233,250,143,145,158,101,253,174,131,262,61,151,72,236,71,192,107,73,215,237,187,56,209,73,256,231,248,251,73,162,214,57,158,217,100,118,196,140,205,146,130,218,235,65,169,259,76,120,114,127,116,152,231,96,162,169,225,92,115,172,180,256,130,95,170,164,246,244,268,190,156,77,226,248,96,116,176,61,185,116,239,225,145,186,147,215,248,199,202,157,238,173,126,83,244,71,111,209,241,150,264,149,216,172,181,96,119,137,152,159,202,182,78,107,128,221,157,107,147,229,106,186,165,92,266,99,113,113,183,94,111,63,56,62,224,168,93,247,75,199,239,168,119,227,125,180,229,56,265,217,59,202,239,75,226,144,214,117,195,264,99,56,172,270,151,154,209,200,170,56,149,138,60,241,139,252,63,68,150,106,115,108,224,195,170,161,129,226,102,165,158,145,144,155,107,145,62,115,266,84,84,266,59,103,87,209,142,220,118,191,200,164,136,120,64,176,60,224,87,81,124,83,91,55,218,130,203,141,167,136,243,190,159,203,175,185,134,150,216,71,253,198,162,76,231,104,223,190,177,162,93,68,257,203,116,167,138,86,187,110,95,80,88,76,239,162,150,57,153,110,158,171,76,237,163,69,229,266,98,225,222,147,65,168,242,171,65,227,221,163,159,166,223,249,180,229,206,133,145,82,212,175,111,243,206,271,248,212,95,75,194,253,72,97,84,135,238,152,61,119,170,206,109,204,73,141,114,142,244,86,105,251,220,226,86,163,90,212,83,165,139,270,263,189,131,253,173,72,231,67,65,72,230,258,143,74,251,267,254,100,64,133,105,230,250,130,200,116,63,68,123,157,222,65,198,194,168,169,152,157,190,199,93,233,84,119,81,97,151,149,123,162,269,204,87,179,192,74,214,144,178,214,258,221,123,83,218,153,124,199,131,258,156,241,100,69,223,227,68,194,111,85,115,209,60,109,215,249,61,143,141,90,248,104,159,238,263,210,204,208,254,176,133,145,170,158,254,125,204,115,102,97,238,154,168,66,79,255,205,192,108,74,136,207,174,111,171,183,269,132,99,98,58,107,83,203,140,208,207,143,220,224,126,256,152,204,199,198,68,202,76,265,134,236,64,182,82,112,191,256,174,114,204,248,105,172,247,77,199,193,247,179,243,117,89,170,227,173,115,240,83,97,116,170,119,221,159,239,106,265,173,132,167,247,146,137,125,55,242,254,198,98,155,170,266,127,268,245,82,165,155,178,236,185,179,205,126,176,124,187,85,218,169,84,203,149,243,125,196,139,200,112,237,173,222,258,107,245,84,70,271,79,88,216,177,107,135,177,122,258,150,108,216,211,80,210,81,198,173,95,190,255,183,133,162,188,99,254,249,107,269,128,231,209,119,67,239,168,168,248,145,223,146,263,152,109,122,145,193,129,189,89,192,70,217,60,163,162,163,106,110,60,227,66,157,243,146,240,201,101,174,177,117,151,190,101,269,116,182,81,109,135,129,235,158,57,240,252,148,58,87,227,264,156,81,237,76,256,139,67,173,159,153,78,231,184,253,80,260,271,181,251,191,200,85,239,89,98,108,191,140,103,75,152,142,84,210,237,62,149,77,76,151,98,144,70,131,251,108,84,63,270,189,248,149,173,230,131,247,214,156,132,151,86,209,258,252,132,73,202,60,180,234,165,140,227,193,103,214,89,108,148,87,193,174,139,243,131,212,92,232,162,75,250,242,268,137,204,102,110,168,135,206,69,268,146,218,221,138,172,237,214,148,164,238,271,108,201,156,206,174,267,140,107,131,180,136,111,98,140,150,184,89,84,177,165,210,189,257,92,140,120,84,103,89,265,154,137,142,240,258,86,224,69,121,233,158,133,94,100,73,144,132,176,101,256,127,257,169,145,236,268,262,235,87,154,183,158,249,159,58,238,181,60,105,153,141,250,56,227,180,269,102,216,261,218,193,170,59,190,247,75,123,137,130,109,180,236,63,131,232,81,61,66,130,201,164,268,190,125,206,72,251,164,156,103,239,94,186,71,266,64,241,252,157,256,121,204,238,212,213,188,255,242,197,231,204,196,165,120,175,167,256,120,250,251,152,88,229,132,65,200,156,233,170,82,155,182,94,103,223,102,62,228,63,197,62,268,104,174,246,122,62,69,268,221,140,91,103,176,228,232,126,269,251,60,125,60,241,261,165,201,80,186,221,64,83,138,88,159,139,57,55,72,209,137,227,73,63,155,90,193,152,133,265,219,243,146,158,125,106,146,235,106,148,181,55,186,172,82,73,136,67,194,126,200,178,197,73,222,234,166,270,153,206,69,85,74,120,110,139,85,92,82,178,146,56,103,173,224,143,160,260,92,75,153,97,72,258,209,139,234,221,84,229,258,228,79,84,199,94,223,188,204,74,186,210,268,133,101,101,243,168,224,147,247,239,115,178,71,261,124,84,75,179,117,57,156,150,90,79,157,214,216,270,69,266,80,56,107,115,219,110,115,78,173,62,194,136,155,55,188,70,209,191,78,68,62,201,139,115,143,106,227,237,162,195,162,68,209,185,261,238,220,265,104,269,60,235,270,96,73,97,127,156,121,242,79,195,232,245,55,107,143,146,91,142,268,93,75,245,191,244,181,196,60,190,256,174,112,89,104,196,197,117,217,252,118,200,264,145,75,125,68,176,257,200,267,91,60,144,117,194,97,249,226,104,107,196,162,125,236,248,234,111,231,61,180,155,192,187,102,94,114,70,156,234,183,244,165,192,181,92,116,127,188,181,214,191,131,120,167,252,121,149,258,120,211,198,213,195,228,198,214,117,184,242,155,152,172,257,234,187,153,230,108,99,82,188,150,196,72,126,152,125,158,235,106,217,59,162,237,55,159,222,267,96,210,196,232,120,65,78,185,219,149,83,253,90,184,168,74,137,150,135,214,259,234,261,112,88,114,199,120,68,164,58,80,141,76,263,91,88,203,244,94,195,107,202,62,270,211,101,154,79,190,242,155,251,89,111,188,75,219,104,89,143,234,266,91,181,216,89,260,215,155,262,65,203,201,87,212,95,108,107,263,123,178,120,74,218,59,143,148,161,70,244,179,235,150,93,156,250,162,139,235,84,211,270,223,188,153,190,208,133,265,157,237,174,172,167,100,169,180,226,220,226,160,113,260,105,80,261,55,221,212,69,173,59,112,195,249,112,84,145,114,249,147,153,109,148,256,269,244,94,224,214,218,194,96,101,136,187,59,88,63,138,242,72,106,209,185,242,115,121,158,150,219,194,104,271,217,124,267,259,228,247,172,121,96,58,64,145,215,240,77,158,101,87,201,111,215,200,188,163,264,267,231,92,143,173,215,183,172,173,267,86,246,153,134,193,245,255,182,214,173,138,142,245,162,173,136,173,199,96,182,55,236,57,233,95,188,107,145,110,165,159,142,237,174,254,117,90,65,63,235,153,158,90,238,133,213,270,68,202,256,215,246,132,84,180,88,223,73,96,238,69,147,248,254,163,137,173,183,65,251,92,267,86,69,225,238,234,193,170,231,179,167,115,252,150,229,134,80,197,252,136,263,91,167,235,244,114,182,106,57,183,254,263,96,75,153,222,150,183,159,163,88,165,84,76,155,250,78,257,228,230,115,102,147,100,252,173,263,203,249,151,131,95,146,74,85,98,186,264,235,110,59,108,171,73,199,257,214,236,189,114,242,120,207,186,151,249,192,248,242,169,244,164,91,209,243,125,134,176,232,208,165,70,83,198,62,270,68,213,253,135,221,97,81,92,59,264,251,232,251,74,183,250,213,215,144,176,190,242,122,145,123,94,162,148,238,105,65,168,239,103,159,103,157,258,195,249,118,73,137,247,90,62,200,74,255,196,58,117,269,244,80,242,192,89,244,266,241,91,143,78,96,98,178,144,170,189,230,144,253,243,96,62,78,69,118,121,99,214,268,68,131,265,265,111,255,55,195,60,190,93,214,97,177,210,236,88,90,78,219,76,181,197,139,210,238,203,116,121,195,264,107,246,236,215,157,55,89,196,84,212,260,162,161,75,71,180,64,135,80,229,130,61,65,168,59,65,159,84,135,200,123,194,199,174,244,208,86,238,231,163,267,247,209,233,229,100,80,258,173,153,134,144,252,239,262,213,159,99,196,95,108,207,197,176,127,163,77,79,58,92,220,157,123,181,270,174,104,120,132,84,186,226,245,236,218,132,79,196,223,266,181,207,125,198,109,171,77,82,115,141,220,254,248,117,227,69,132,83,257,117,80,249,83,97,251,193,214,270,121,189,200,62,268,211,259,107,133,64,185,131,184,104,167,197,175,174,73,185,231,202,153,236,159,113,190,58,168,65,249,115,126,260,91,205,187,77,92,258,200,149,227,113,196,83,79,64,141,208,244,58,248,199,187,143,198,138,98,252,69,213,206,237,159,218,211,195,228,129,165,177,269,154,250,186,61,244,261,75,237,190,218,258,123,109,165,185,185,62,70,107,114,175,253,201,118,163,164,261,104,218,69,135,89,174,105,267,65,244,132,90,255,168,247,237,214,136,174,207,230,91,249,270,240,93,224,170,244,242,137,148,179,109,130,255,134,65,243,103,111,182,204,271,98,202,209,157,56,186,209,218,125,118,262,268,188,234,223,145,180,82,161,245,104,151,93,93,103,191,180,141,81,92,233,185,184,91,121,127,159,219,63,163,113,119,73,148,210,185,79,86,142,165,71,199,202,157,203,233,191,213,154,227,207,81,218,165,140,84,142,245,239,120,135,202,211,109,166,197,184,112,67,268,86,169,71,135,194,185,201,57,270,96,175,186,263,216,250,190,259,110,164,158,75,99,198,198,155,79,224,128,158,181,180,124,171,218,101,100,126,229,193,171,252,133,181,170,97,119,84,121,207,123,252,244,235,185,71,259,181,156,175,128,168,99,99,120,194,200,150,236,216,217,269,84,130,102,133,187,101,94,131,125,76,120,156,246,63,186,192,201,78,61,243,60,247,262,253,219,126,89,154,262,166,269,130,184,189,180,212,89,97,216,176,254,56,171,160,70,239,169,191,111,97,149,254,121,95,155,117,258,128,151,119,125,69,214,257,70,90,220,167,63,129,233,255,203,63,224,167,270,247,155,170,189,66,247,61,221,69,104,99,165,218,73,73,89,213,165,249,212,72,267,125,62,117,128,189,119,216,92,213,133,159,205,85,201,213,256,125,60,177,181,270,104,184,215,120,269,255,193,264,216,178,77,208,77,135,197,82,194,154,76,178,162,174,235,145,211,262,119,110,64,110,77,149,245,185,78,204,181,193,157,110,228,62,100,78,92,165,200,211,142,132,203,246,225,192,71,88,169,174,162,106,163,76,117,166,236,197,187,159,270,117,183,139,187,248,244,194,155,270,60,269,217,126,60,94,248,261,177,245,104,180,126,58,191,76,192,256,132,143,73,161,198,86,125,59,193,245,226,194,150,112,242,137,129,108,235,268,66,123,83,176,240,139,77,230,204,233,223,203,96,265,132,218,101,215,210,192,228,206,262,192,141,244,217,211,100,97,143,142,57,270,76,152,141,89,94,212,152,128,149,103,182,159,135,242,63,176,80,79,160,99,125,244,174,105,181,185,207,125,177,153,216,81,110,116,107,97,63,156,136,174,151,105,123,57,101,75,87,213,72,147,201,213,133,164,179,162,189,71,146,263,163,66,246,99,167,264,88,250,221,92,246,261,245,234,73,89,204,257,271,92,262,151,58,94,150,186,116,117,189,73,149,87,222,130,215,136,78,152,141,200,96,206,143,257,102,158,250,119,168,147,125,91,83,271,188,130,112,80,133,254,261,118,212,173,116,88,224,261,131,262,60,249,78,155,259,260,173,179,243,263,63,258,176,63,157,216,92,267,119,101,99,258,155,185,182,93,227,160,244,225,169,210,115,81,170,136,247,112,176,104,238,72,129,115,244,212,117,261,96,246,88,111,271,187,56,152,167,117,79,131,211,210,150,212,75,159,61,247,261,209,123,206,83,92,73,107,97,200,127,207,126,130,147,165,270,79,115,87,205,82,211,121,151,203,195,94,165,132,129,136,190,249,257,87,180,94,192,243,255,135,113,183,74,128,252,158,173,129,69,64,113,205,104,74,270,62,89,139,182,158,123,97,205,69,240,271,153,106,182,251,86,186,88,260,128,144,163,159,140,260,253,124,94,225,60,68,96,245,188,68,260,120,96,94,76,62,145,266,126,71,121,201,60,247,155,263,189,140,208,135,138,189,145,195,161,235,195,77,56,225,163,58,75,157,76,169,99,78,213,71,138,122,204,102,195,138,89,142,186,245,268,72,178,209,137,234,248,99,197,251,167,167,204,102,261,77,212,124,197,253,115,149,136,72,199,151,114,209,248,160,155,258,139,256,264,254,227,176,140,254,256,155,229,205,88,76,125,100,161,94,210,140,244,122,176,147,177,154,230,105,71,136,69,137,245,245,236,87,173,270,222,172,73,265,172,186,265,57,186,77,91,131,138,240,159,70,160,87,177,75,189,253,227,104,80,78,162,254,230,79,208,84,124,100,121,253,191,182,87,234,234,75,123,68,149,180,136,176,247,81,150,243,69,257,177,59,186,205,171,227,156,185,260,86,144,93,222,74,188,105,88,110,147,127,216,98,186,107,216,161,188,177,191,221,127,153,174,131,174,167,125,144,191,222,235,167,256,248,98,182,205,196,234,112,97,96,81,255,88,154,169,145,151,255,90,88,77,129,253,136,198,152,90,234,257,241,260,121,203,64,67,189,144,217,270,267,56,261,253,134,96,87,210,265,271,233,208,107,220,79,236,57,108,203,101,258,169,104,121,264,107,80,63,170,211,210,72,236,162,63,210,260,141,115,204,196,172,230,85,88,217,58,250,213,165,269,143,134,223,128,265,243,134,86,85,248,152,131,218,239,146,261,79,69,184,159,131,164,172,267,194,136,265,222,180,201,66,144,243,215,271,93,178,160,269,179,132,139,204,248,241,169,192,145,108,224,151,207,105,228,212,230,163,216,63,183,241,209,75,226,80,74,121,193,133,139,234,186,203,101,192,156,129,166,249,63,136,167,147,65,81,125,250,110,168,265,106,126,148,78,78,245,205,187,64,241,143,222,220,180,64,81,106,60,255,267,65,178,131,210,152,160,194,88,65,102,62,266,125,271,214,74,183,182,62,250,119,192,76,79,97,223,209,91,184,182,232,170,164,185,79,159,195,57,204,240,67,137,94,112,180,66,99,148,67,162,152,60,145,264,84,155,72,225,194,222,186,244,104,159,140,83,199,116,86,218,79,230,253,124,157,225,70,126,62,217,208,165,205,119,101,251,101,108,106,259,199,262,219,181,255,56,74,118,84,80,149,67,213,101,151,171,145,153,266,187,102,157,99,223,174,177,125,155,60,220,70,125,208,84,167,94,225,252,182,142,183,252,94,91,238,149,193,219,72,192,267,62,122,120,81,183,121,140,131,204,136,223,127,250,125,89,111,239,181,208,148,212,61,172,156,56,251,208,90,193,146,195,226,189,98,109,193,108,62,251,168,211,134,80,225,183,177,200,131,89,156,260,122,126,114,62,253,191,212,198,257,105,169,181,123,93,155,200,216,270,202,123,90,204,175,226,101,83,229,169,187,130,151,187,225,195,185,242,75,59,184,89,123,116,133,182,104,107,159,260,223,69,248,130,113,87,246,81,96,246,206,160,109,225,255,73,63,113,200,135,225,72,240,65,260,80,63,113,227,257,267,146,245,175,141,241,72,266,138,64,245,174,180,140,137,238,189,193,173,203,215,202,217,227,197,136,166,78,163,185,271,261,86,133,121,55,190,187,139,97,256,66,172,136,104,236,223,125,131,165,163,217,137,213,245,104,218,172,122,140,271,270,57,228,239,228,243,132,194,69,120,85,268,59,115,158,263,143,159,185,125,90,241,171,127,171,260,162,248,268,233,198,120,59,257,270,81,219,202,246,83,218,58,236,241,226,126,207,257,84,108,115,270,196,75,98,110,217,71,207,76,202,186,125,151,65,88,114,62,106,59,131,262,268,196,168,180,99,259,207,77,106,182,186,113,225,131,185,115,208,68,207,245,235,228,211,120,109,215,201,219,177,252,188,166,229,174,118,246,138,247,61,186,224,159,55,180,182,154,130,122,78,191,155,113,86,229,247,190,72,251,81,271,146,266,244,243,138,243,159,134,135,87,59,257,231,77,57,231,120,123,181,182,166,231,74,113,254,236,116,243,209,150,271,151,224,231,69,125,205,186,86,225,271,75,191,171,165,167,228,92,55,104,125,247,173,216,115,190,74,212,89,83,126,69,70,115,236,104,262,167,55,139,111,195,195,147,90,214,167,117,105,208,235,208,250,129,181,249,107,192,230,270,223,152,191,170,121,92,92,126,141,104,260,236,65,89,236,154,158,154,186,213,268,188,270,163,175,240,205,227,99,188,271,214,154,227,206,173,76,263,144,253,122,163,218,226,201,240,62,158,268,123,68,55,97,65,230,94,183,134,158,64,62,156,79,246,109,82,235,150,122,103,180,88,170,254,234,171,247,137,82,198,175,147,213,82,98,176,210,106,267,263,229,196,64,111,161,117,88,271,104,149,263,219,73,105,224,253,212,93,107,241,241,189,69,143,109,110,108,168,235,219,136,132,185,93,77,88,174,246,167,169,120,68,110,229,165,252,222,70,136,70,123,56,198,161,60,189,223,94,67,87,89,171,93,127,114,196,148,173,75,132,208,187,131,172,163,226,227,145,268,76,260,193,132,243,116,72,211,197,57,74,149,242,120,149,238,240,137,214,170,137,253,103,77,215,175,137,145,56,72,146,102,212,170,101,218,186,201,99,118,75,225,159,192,118,155,258,271,222,219,227,241,128,146,268,188,181,266,227,101,138,68,72,181,101,253,86,205,78,195,200,247,114,243,83,185,141,122,124,125,169,177,91,128,148,225,136,125,80,154,239,248,191,93,59,238,129,200,55,117,216,206,80,211,68,255,84,120,158,166,230,125,229,240,132,152,158,144,256,253,153,77,154,118,248,153,57,163,234,89,197,61,245,237,98,247,76,209,157,268,146,238,226,185,76,164,137,257,204,250,121,221,218,141,83,228,244,175,259,218,162,241,95,242,100,94,168,144,183,56,107,68,118,188,81,134,111,223,214,175,182,61,106,185,231,132,222,268,230,137,56,241,205,88,252,131,86,132,195,78,127,113,253,179,213,209,125,215,101,61,112,240,123,236,84,121,63,205,268,225,213,175,93,172,183,149,122,223,269,175,213,82,203,265,220,262,204,184,230,210,230,256,236,134,102,241,236,180,158,188,189,115,171,107,60,200,190,129,228,152,138,116,184,145,110,169,121,97,101,173,252,76,71,131,174,214,217,159,62,206,212,227,198,243,245,79,265,155,254,242,182,220,250,243,266,124,184,210,183,105,128,227,119,162,176,162,194,113,210,116,256,186,71,59,250,261,105,235,205,181,187,105,56,75,225,244,239,201,208,114,191,124,120,111,144,249,62,83,162,55,197,59,68,66,57,175,58,68,206,105,267,58,188,111,142,151,163,201,254,59,101,223,75,206,225,186,150,98,254,150,123,65,128,267,265,226,270,239,258,190,236,117,153,159,70,158,226,240,212,80,149,176,182,141,270,170,251,250,207,256,172,214,98,192,137,265,256,148,117,182,137,228,247,99,105,153,69,182,225,67,209,80,176,126,142,130,210,67,250,235,76,226,233,117,91,70,106,212,129,211,82,80,106,228,66,95,238,102,64,76,60,68,145,252,260,71,60,119,170,203,258,213,174,139,190,105,75,240,167,104,106,116,57,193,175,219,79,70,199,240,178,256,168,127,192,170,63,61,91,217,231,201,95,198,221,216,168,120,103,190,59,66,118,230,106,77,162,77,120,216,204,110,239,191,132,257,239,137,232,111,143,91,222,192,237,269,246,251,256,215,265,116,203,156,248,244,200,67,254,90,126,257,71,203,82,267,113,63,271,138,263,161,175,160,191,193,237,59,93,61,65,133,217,227,233,60,142,115,181,146,260,255,209,231,180,109,221,161,177,141,173,242,60,78,212,211,132,104,155,146,173,131,63,222,155,147,170,271,81,179,203,80,131,269,119,65,170,134,119,110,239,98,130,155,115,92,192,180,74,187,74,102,77,218,86,73,233,270,133,147,241,124,254,90,188,88,260,234,119,178,213,182,231,100,94,125,61,209,123,135,103,212,154,221,200,101,185,87,111,206,182,178,80,183,250,67,107,112,234,223,221,63,259,226,132,101,70,72,185,138,108,88,168,147,197,101,257,178,215,157,157,144,110,136,73,113,258,262,130,57,93,106,215,113,91,178,184,113,234,103,220,148,170,143,140,165,221,146,113,195,175,55,228,67,250,125,67,182,252,201,162,247,208,260,83,246,173,150,145,249,97,220,133,245,196,121,148,236,251,66,228,172,170,230,186,203,94,214,82,237,131,217,256,224,216,140,211,115,113,87,81,238,75,223,178,248,261,211,153,246,107,108,126,128,136,130,81,113,170,77,265,121,209,113,59,164,158,132,173,117,230,110,184,98,93,95,173,236,216,147,223,128,245,149,121,213,213,261,173,99,222,98,226,188,138,98,204,250,141,84,134,217,201,81,264,199,66,88,78,159,253,252,138,222,242,109,261,78,86,73,193,192,149,258,149,240,76,140,116,228,212,186,209,178,256,153,256,103,168,229,71,184,237,180,79,182,77,76,235,129,147,100,122,120,151,195,249,253,110,262,186,144,271,259,93,140,175,115,101,206,135,190,245,246,215,208,211,64,261,103,196,223,58,257,150,120,205,185,143,71,201,86,187,229,58,160,144,152,152,127,260,221,111,121,85,76,250,256,84,174,170,99,170,203,264,157,270,155,238,62,70,236,115,266,156,164,181,165,150,118,222,120,67,130,194,202,170,62,221,219,244,187,139,206,128,80,271,63,129,230,165,190,219,243,95,58,246,90,99,133,59,108,202,152,205,237,251,90,256,237,157,132,270,124,188,165,250,217,147,149,200,238,82,258,191,74,210,258,125,146,252,165,160,90,126,233,227,220,204,242,128,130,146,153,265,108,119,204,55,133,106,132,213,171,208,133,195,108,256,225,91,198,138,59,98,152,241,256,157,217,67,148,204,121,153,163,73,203,64,180,107,230,113,211,65,217,131,118,110,110,163,170,209,148,104,243,193,175,186,77,150,245,67,143,121,115,167,209,129,148,108,164,83,55,62,146,180,85,219,255,142,92,241,132,104,266,167,250,261,107,86,234,241,105,149,122,239,169,105,225,79,155,126,267,170,94,113,141,214,238,251,87,220,223,81,185,161,246,106,269,120,81,134,258,251,108,103,178,125,90,200,247,82,228,115,154,203,156,120,160,171,249,118,236,175,193,68,248,250,92,81,73,205,57,168,141,129,92,100,153,124,85,245,255,83,251,238,263,56,85,98,186,128,80,110,104,71,148,256,174,258,162,190,73,242,160,129,77,243,110,166,248,69,202,80,122,112,166,104,222,223,119,251,66,140,132,142,162,255,165,114,125,152,259,89,216,144,121,224,205,101,207,250,262,139,162,101,255,171,215,177,221,140,258,81,213,215,204,213,128,78,204,178,212,183,146,116,211,146,270,145,92,218,57,265,269,180,243,149,189,196,141,133,194,203,163,55,246,187,153,230,90,75,89,61,249,235,108,233,73,162,227,127,248,59,185,125,192,80,97,134,269,204,101,81,139,101,205,109,76,252,98,146,190,81,185,233,257,102,268,214,176,97,99,268,158,204,157,156,213,75,270,178,58,255,188,155,215,126,64,115,94,129,255,184,243,180,155,133,148,210,249,240,188,193,170,238,180,130,60,181,164,182,86,151,150,239,268,127,201,122,149,111,90,251,82,63,100,56,269,266,100,222,171,200,179,257,267,155,216,219,115,174,102,150,178,130,63,260,146,58,79,158,115,89,253,184,143,255,165,84,154,78,248,204,209,188,265,268,266,77,182,209,238,204,91,165,56,229,256,111,89,169,186,194,191,240,218,65,68,196,223,187,260,201,97,80,121,164,76,133,190,160,233,232,129,119,214,67,103,82,55,270,108,123,153,160,182,131,249,166,247,98,107,263,191,271,216,154,200,116,166,96,137,64,168,180,149,123,116,183,186,114,71,187,254,110,126,255,244,243,69,242,242,59,93,207,154,197,128,206,65,229,81,79,103,113,227,179,62,191,259,86,105,264,236,193,191,146,225,237,266,106,77,204,247,98,192,99,258,197,193,253,190,207,189,161,176,150,187,208,199,172,141,71,195,231,193,186,210,205,131,77,179,235,163,184,179,98,221,85,64,106,226,100,155,122,255,65,220,121,246,130,61,252,89,98,245,131,125,269,55,199,90,124,224,242,158,79,178,215,181,114,245,201,174,120,105,235,214,104,116,74,129,165,77,148,165,195,246,172,250,217,172,197,256,232,141,103,150,202,219,88,61,84,136,161,227,181,189,181,181,150,239,94,252,65,206,271,57,147,210,271,62,105,130,121,190,95,251,116,75,175,64,185,162,66,82,192,232,102,116,242,214,68,237,133,110,126,243,217,199,145,101,93,224,247,225,75,65,267,142,228,179,171,241,138,178,177,89,101,258,55,148,213,225,207,119,171,142,127,207,176,245,111,159,259,147,148,112,62,114,135,83,158,231,203,154,120,153,55,80,188,134,237,232,90,95,137,112,220,90,121,218,121,92,227,72,238,140,268,106,266,186,119,208,181,229,252,141,206,68,127,271,55,106,208,267,89,186,192,186,165,179,81,186,177,220,103,257,265,163,106,128,222,162,192,178,241,222,265,143,169,208,252,111,218,171,99,93,266,226,141,98,129,76,248,125,179,129,77,233,253,254,121,86,219,101,95,267,180,71,91,265,236,112,132,103,240,208,265,224,108,79,150,267,66,165,266,239,225,197,198,63,126,86,250,203,92,126,116,256,100,122,251,88,268,149,63,66,187,158,194,158,253,81,255,269,122,84,99,75,168,187,112,201,61,213,65,174,63,95,163,135,145,126,108,248,129,158,134,98,81,102,237,218,63,55,101,151,241,249,128,112,101,205,152,100,172,269,148,108,93,229,84,106,195,264,234,205,119,207,213,258,166,122,230,216,112,92,159,61,152,117,256,174,160,157,99,107,119,75,271,184,142,244,148,141,205,204,154,127,240,208,158,268,126,57,178,160,186,112,184,260,93,140,201,173,243,190,143,131,195,131,61,265,67,140,144,207,123,156,192,76,129,114,189,72,217,131,198,82,258,185,81,71,209,166,67,145,98,129,153,260,247,66,71,216,153,113,156,228,183,170,187,176,84,200,97,167,250,78,209,101,213,93,59,225,237,245,114,58,252,81,70,98,120,201,104,180,82,252,191,74,162,219,132,105,148,142,122,165,259,134,222,95,172,258,199,229,233,235,220,178,141,207,208,219,259,254,213,251,131,76,204,82,204,128,248,84,63,104,268,190,176,65,268,132,177,85,216,101,270,181,101,231,133,226,166,221,73,245,136,188,244,263,69,121,183,86,214,146,72,71,214,70,151,157,100,144,147,268,181,93,239,154,240,79,169,80,216,240,197,71,109,156,105,259,166,195,146,167,245,207,217,187,183,221,82,143,204,106,172,174,268,159,214,268,107,223,79,118,93,268,129,267,111,133,253,121,149,111,170,234,57,171,198,270,234,86,220,170,261,103,92,108,143,171,173,204,247,70,224,106,135,121,209,253,56,198,170,234,89,244,150,159,57,127,249,130,261,137,246,137,183,190,101,200,168,121,186,83,245,176,130,91,85,268,101,74,116,194,131,147,68,209,216,102,115,122,123,196,201,99,231,223,210,63,258,228,233,150,153,96,211,101,264,190,111,244,100,126,136,113,71,200,151,218,61,94,147,244,144,174,144,209,209,255,97,210,261,154,267,67,264,112,96,167,140,86,84,257,180,89,211,205,271,158,129,111,271,142,271,192,229,126,237,158,231,171,237,194,96,250,182,62,140,117,156,144,147,154,189,189,94,146,171,139,202,73,108,240,151,94,200,60,158,190,144,112,238,202,62,161,108,234,220,145,265,157,163,135,252,132,263,236,111,258,133,259,204,248,136,121,211,195,85,88,74,212,133,225,208,59,244,96,88,78,136,237,71,185,264,87,251,98,88,191,236,96,136,132,188,258,225,140,162,205,262,229,269,157,226,154,252,77,186,186,208,229,254,200,169,120,67,62,150,225,162,95,154,117,245,195,253,57,247,128,94,206,270,178,87,113,165,127,137,125,162,219,265,99,194,65,113,158,134,134,267,129,223,216,148,162,253,263,83,260,100,191,83,66,268,187,250,186,187,260,65,203,151,58,197,106,135,251,98,88,204,182,217,131,216,198,80,64,121,189,102,261,231,63,226,189,117,101,113,67,177,218,204,55,265,255,258,221,115,90,116,134,209,192,72,267,249,144,171,216,75,123,206,148,87,109,113,153,56,155,231,58,192,125,83,207,133,63,167,186,140,212,165,252,172,104,105,68,221,210,111,172,261,187,137,119,241,65,185,200,221,108,248,174,235,121,263,215,239,199,65,83,234,174,185,222,138,183,158,190,133,108,130,235,223,231,102,254,128,180,244,222,208,109,193,95,247,145,118,137,184,173,139,249,135,128,81,249,160,130,210,225,139,211,127,247,216,107,250,177,246,152,154,148,90,191,250,90,151,145,127,245,144,128,231,61,103,223,190,209,155,107,90,185,134,74,133,89,147,173,117,236,63,172,262,59,81,214,97,70,147,103,268,165,96,255,94,63,136,122,117,114,185,100,265,77,254,155,257,259,255,251,184,57,57,152,118,94,115,197,145,127,157,202,142,143,188,66,204,131,100,217,178,133,67,201,201,156,78,240,211,119,261,107,156,79,70,255,205,176,260,184,128,143,204,119,225,77,103,177,103,170,230,117,142,235,270,150,261,227,64,260,235,214,232,69,209,251,255,210,217,126,208,185,121,219,206,129,91,174,240,239,244,130,214,247,105,101,164,181,110,209,212,160,230,268,265,71,250,180,95,222,87,151,200,215,179,185,141,131,188,153,104,107,162,109,73,223,141,140,104,240,200,205,105,236,104,270,176,251,174,68,80,267,120,122,114,231,97,158,257,194,190,249,116,101,58,133,136,186,253,112,249,132,93,109,84,266,110,174,80,165,205,84,89,212,87,160,208,240,66,83,83,165,192,187,268,171,226,117,82,144,198,260,75,222,186,131,136,89,147,103,118,73,234,69,93,156,183,194,251,240,156,212,133,67,184,77,140,152,160,163,170,124,62,159,118,74,259,173,65,260,179,198,249,212,167,127,162,110,108,131,225,217,153,185,221,258,232,263,164,118,141,138,190,122,211,114,58,270,68,194,155,103,126,247,215,263,186,105,165,62,89,217,170,82,211,177,112,117,127,194,221,127,207,223,93,247,154,254,87,170,265,140,76,145,203,58,130,208,69,187,142,101,258,83,230,60,123,241,136,165,66,270,187,202,182,199,92,267,205,109,254,65,257,76,216,93,258,84,193,260,234,152,250,251,124,163,217,271,64,91,99,122,180,98,252,131,88,125,270,204,199,254,166,205,105,125,62,164,200,195,258,209,140,151,157,61,55,77,174,75,145,218,192,228,65,57,110,241,139,246,193,181,108,84,115,173,62,143,245,127,148,58,149,115,136,210,233,198,180,79,148,94,107,91,105,137,187,166,215,198,127,152,217,146,207,227,156,116,97,197,139,86,137,162,218,227,145,67,204,183,178,170,72,185,230,136,186,243,152,146,172,208,197,266,122,223,222,59,140,70,182,223,113,72,155,87,131,96,143,173,133,70,180,252,104,158,203,102,118,260,151,233,231,266,111,97,161,205,250,65,216,106,249,74,158,133,141,111,136,174,124,109,133,214,217,135,193,119,227,114,137,240,136,132,109,174,208,87,87,135,219,172,168,114,193,251,124,162,72,100,60,242,260,174,234,219,238,222,75,67,220,263,209,213,232,143,57,104,121,240,106,126,154,82,145,166,59,88,255,102,171,69,106,167,161,197,184,185,114,154,111,96,73,169,180,131,110,221,163,72,135,80,197,83,260,142,130,101,157,259,156,263,250,160,64,262,88,81,71,242,91,237,136,200,182,159,158,250,136,95,125,121,176,190,153,130,194,244,97,179,134,120,211,78,186,201,196,167,204,105,102,75,207,213,109,97,201,231,216,188,115,167,66,174,187,211,186,77,271,158,256,165,225,73,271,159,120,191,131,196,229,226,162,103,254,146,143,156,156,195,175,129,141,167,184,220,131,81,234,213,170,188,220,211,211,217,97,170,131,162,204,188,132,112,116,70,130,81,223,176,232,270,229,218,236,133,118,174,220,228,173,195,107,269,180,263,117,147,230,128,217,91,154,148,230,238,177,260,79,192,260,175,192,148,73,153,85,246,101,175,122,252,82,129,90,188,114,97,183,240,157,253,142,198,112,261,90,219,57,135,86,258,81,130,251,81,201,215,61,233,229,255,208,126,151,263,107,55,96,161,82,178,256,92,197,187,206,138,208,227,176,226,267,229,268,110,251,209,207,57,161,246,189,101,89,165,147,145,142,174,250,271,93,187,271,268,82,271,130,212,110,147,94,126,141,230,64,256,63,110,225,253,180,209,238,225,189,270,193,55,141,234,236,192,202,173,134,128,202,93,192,168,73,204,229,101,247,251,146,125,191,238,55,257,143,203,185,217,197,187,271,196,175,209,232,131,143,57,193,122,165,203,183,98,61,242,137,236,83,224,144,161,171,117,107,175,96,108,154,113,170,267,233,254,141,249,232,103,173,207,117,164,149,213,169,180,108,193,196,200,69,227,86,163,183,67,153,120,236,113,158,258,231,241,109,137,69,161,198,182,172,121,213,73,220,238,236,115,157,127,215,241,118,94,89,192,80,269,79,255,117,256,167,114,231,168,139,252,132,93,186,64,238,116,250,117,105,78,264,257,167,232,100,105,114,185,117,248,73,84,80,231,114,153,56,130,135,139,218,233,122,260,125,178,161,127,206,61,114,247,243,79,124,186,96,67,247,202,92,260,257,216,225,108,126,95,92,155,225,266,104,169,243,69,71,95,133,231,184,260,258,238,118,187,115,182,80,254,249,107,103,135,192,255,81,123,97,142,246,58,218,129,260,67,164,214,154,269,65,241,90,226,184,137,241,252,209,250,248,109,211,195,233,169,188,213,141,101,171,99,221,204,143,258,75,267,177,188,110,124,75,264,130,157,242,73,84,187,121,162,197,250,84,255,115,137,228,112,122,151,262,224,124,156,158,269,261,136,121,195,132,173,220,130,111,184,266,178,118,67,179,243,195,183,66,249,127,255,58,266,201,70,185,191,94,95,221,120,93,156,161,210,162,242,267,94,154,101,184,204,96,117,87,247,136,239,254,241,85,108,57,212,254,152,85,204,217,152,179,198,253,224,112,155,268,177,121,262,194,66,193,140,224,127,178,239,219,110,198,268,255,237,248,61,220,82,82,227,121,196,81,73,210,139,162,114,167,255,194,75,162,83,70,175,148,83,91,142,149,86,126,193,265,242,268,233,102,246,207,114,127,85,244,133,85,110,166,86,233,166,123,237,181,235,193,248,197,196,230,210,81,212,69,223,81,266,207,204,245,219,145,137,86,158,94,228,245,99,262,135,147,154,170,61,203,210,268,242,240,253,119,239,221,182,121,80,209,186,248,91,99,127,269,174,131,115,168,154,192,257,74,125,153,225,96,142,72,173,137,185,254,219,269,116,153,85,69,165,79,97,70,120,238,83,134,192,166,197,89,86,266,204,259,173,137,111,233,66,77,133,127,262,200,104,166,205,78,179,152,213,129,219,128,118,185,258,78,76,236,87,271,204,67,206,172,198,87,118,262,148,177,142,244,193,268,66,182,95,75,151,57,187,153,108,60,244,170,183,269,205,252,259,98,167,247,153,217,210,149,112,269,149,266,120,79,91,243,63,222,133,92,84,184,235,101,204,62,148,167,247,134,105,243,72,144,243,181,205,95,135,123,190,240,251,157,98,256,118,156,168,225,121,98,133,222,177,147,125,245,205,116,110,55,200,89,151,216,197,59,133,184,123,225,200,93,222,220,126,202,211,122,113,181,194,84,61,79,221,106,259,110,71,268,258,140,125,263,136,188,143,161,202,122,85,239,209,190,201,123,215,122,238,89,267,65,266,160,219,78,236,126,247,118,205,180,87,244,230,61,144,229,65,164,180,58,269,242,104,60,148,240,262,129,217,177,187,247,258,250,226,159,79,149,111,150,253,148,156,99,149,183,170,271,147,163,83,186,210,189,108,262,57,115,164,116,229,218,150,237,58,191,217,223,90,128,227,132,85,124,104,104,148,176,62,65,188,173,122,202,224,147,78,116,213,90,157,192,181,221,63,250,188,58,171,135,216,256,77,153,140,256,264,211,107,164,125,110,157,256,263,202,165,70,153,249,90,180,267,128,128,76,262,249,193,228,120,220,265,139,72,267,168,180,129,237,261,72,168,209,179,85,110,263,202,111,167,235,216,120,188,161,117,85,202,271,84,197,134,176,241,269,241,232,147,102,172,156,239,188,232,80,245,213,256,214,189,156,61,204,264,226,134,88,154,204,135,222,185,113,210,236,239,146,82,149,99,96,161,245,227,239,216,117,71,228,170,104,64,97,104,245,147,141,82,127,131,85,238,262,122,123,145,223,137,196,215,268,69,114,239,106,73,249,200,70,85,211,242,270,220,56,173,69,215,79,205,228,236,148,257,87,164,103,121,111,181,197,90,149,58,224,218,71,95,271,238,122,59,199,114,270,240,106,236,228,215,91,90,199,269,239,151,149,264,196,242,112,168,193,184,132,101,57,66,237,197,58,126,186,100,103,192,252,197,210,175,186,220,72,220,267,106,101,233,98,62,99,147,71,134,271,151,258,175,248,145,223,175,63,69,220,139,108,157,147,252,88,112,148,217,214,83,96,179,216,135,59,207,122,167,227,118,108,135,192,268,138,180,87,261,179,81,163,55,143,80,232,126,205,270,246,117,258,59,68,257,228,209,113,138,232,57,138,133,120,271,127,98,70,157,172,248,212,140,197,267,87,254,127,225,66,110,239,254,96,168,210,254,261,173,215,64,146,98,108,238,85,128,231,167,100,216,107,270,146,247,193,245,69,129,123,257,108,181,221,72,219,238,60,258,92,213,198,104,194,76,239,257,78,194,237,173,270,160,184,138,231,112,241,211,180,237,142,127,159,70,137,256,100,62,103,180,209,229,108,100,223,110,197,87,263,254,124,265,201,157,212,193,174,67,134,217,254,204,206,256,73,123,107,218,175,212,180,241,269,62,72,61,205,65,188,198,233,189,68,131,163,131,94,193,59,131,256,198,58,251,193,63,134,125,219,210,173,68,176,86,106,194,156,109,206,214,178,169,121,166,173,228,126,66,234,264,229,164,234,110,221,198,97,260,265,68,207,139,106,234,121,139,150,132,236,158,106,173,113,83,122,85,236,155,122,84,150,185,64,105,96,102,203,191,262,210,77,239,188,160,216,55,119,148,212,128,239,72,176,88,270,75,92,167,109,112,114,103,205,212,69,208,58,263,81,207,81,103,203,270,140,171,241,100,164,63,89,263,237,127,189,69,95,251,220,56,85,170,249,85,85,68,144,182,144,247,264,100,163,143,250,181,84,176,72,168,91,107,211,113,223,133,264,237,266,242,211,214,225,224,189,264,162,210,77,179,94,69,100,172,95,249,113,88,207,84,225,187,191,60,134,58,103,254,142,96,189,66,169,137,165,160,213,189,150,162,228,60,151,163,250,269,218,57,204,190,128,244,83,147,243,56,213,73,81,136,197,80,67,260,100,129,260,255,189,182,150,65,140,127,142,227,158,159,214,69,149,115,242,105,71,188,126,235,106,266,167,81,205,66,178,158,248,145,251,73,99,187,261,58,99,74,57,258,131,106,79,168,270,126,76,174,113,218,214,194,184,194,66,153,246,136,102,202,148,166,145,112,111,240,243,166,167,181,269,84,208,57,149,233,241,213,247,154,220,118,239,259,166,83,63,259,79,210,241,122,57,129,226,183,165,167,228,103,214,88,260,160,133,169,147,144,144,220,86,210,229,232,269,187,119,155,221,130,84,226,143,177,211,143,119,64,204,141,178,180,167,105,193,122,93,183,173,59,70,147,176,70,160,80,247,209,114,243,128,135,271,239,148,207,135,188,95,63,227,256,81,99,151,56,258,139,135,137,189,185,75,197,140,65,185,152,158,247,75,108,116,159,72,74,207,188,145,232,211,201,256,247,129,66,198,82,85,221,157,73,117,174,229,70,156,168,170,257,212,156,212,173,161,109,242,173,108,230,239,174,68,269,182,196,227,232,221,185,204,161,151,242,139,97,182,258,83,167,218,150,233,111,244,59,123,259,139,223,186,180,84,200,236,127,170,82,114,254,136,265,199,174,146,66,206,121,128,91,90,76,211,145,163,67,149,137,116,64,94,217,114,160,167,196,254,97,225,73,169,145,98,108,252,85,173,211,69,155,115,187,239,82,93,167,62,78,55,181,161,185,146,188,143,239,181,56,211,99,165,152,155,210,177,170,60,161,233,154,83,62,105,85,268,235,210,230,151,72,263,267,268,134,267,190,96,254,94,109,230,256,182,143,241,121,151,166,265,108,119,127,88,132,144,94,180,194,180,254,257,144,177,67,193,252,247,216,140,175,248,75,223,266,269,64,71,235,112,151,130,214,204,243,78,81,188,207,261,185,203,118,55,200,58,198,87,200,185,210,109,223,99,87,242,145,207,238,122,240,142,100,95,187,209,169,268,84,232,83,256,175,109,198,126,151,83,82,180,192,106,159,77,177,117,223,103,232,224,75,209,203,59,161,171,125,62,235,192,124,268,166,236,77,271,256,67,181,209,258,116,89,86,77,69,261,90,197,86,69,69,231,189,58,137,180,227,254,182,135,173,190,128,107,59,92,218,164,216,218,156,56,84,256,177,113,265,132,202,219,158,196,124,103,108,151,160,264,140,102,237,190,262,218,222,119,149,148,218,138,145,132,232,251,103,161,127,139,247,131,65,229,141,172,184,246,169,176,120,198,137,130,236,180,151,104,106,111,229,236,195,258,90,180,150,107,93,94,269,176,117,81,76,245,262,144,194,137,108,262,100,251,241,56,163,82,254,230,186,149,267,228,89,271,188,269,90,223,159,129,214,165,149,177,269,174,188,248,73,63,175,113,60,160,166,77,156,107,258,194,217,148,97,78,182,203,136,156,115,68,123,172,129,56,246,203,230,71,202,233,192,70,160,149,233,132,182,264,125,182,232,222,158,204,99,72,57,267,98,162,265,62,249,198,134,120,164,137,244,106,75,89,253,98,63,152,79,182,75,138,187,70,218,91,70,188,90,94,64,270,250,119,170,205,89,81,158,264,261,186,139,101,225,269,196,249,235,112,87,64,232,198,252,89,189,212,252,79,145,118,69,154,158,212,106,66,187,182,109,132,61,243,169,85,204,84,169,150,206,175,261,162,241,159,232,152,64,256,164,164,163,244,177,122,249,134,125,254,265,187,58,229,220,233,101,84,219,69,189,115,240,81,100,139,264,167,121,211,119,258,79,198,260,138,123,61,263,111,187,91,214,64,61,217,271,84,157,86,78,69,58,210,83,174,70,198,201,123,243,216,131,131,80,177,245,149,171,254,182,65,211,162,142,221,95,174,222,85,115,85,175,196,133,138,89,240,172,270,239,206,215,90,151,102,83,56,186,103,162,195,263,115,108,132,271,158,252,132,102,66,190,96,127,227,120,73,240,130,263,112,261,74,159,204,87,68,176,122,122,179,132,70,269,132,262,212,57,207,263,199,148,166,167,168,250,139,259,187,124,204,237,105,84,179,83,228,91,131,196,192,139,113,183,136,212,60,230,222,145,180,233,103,217,116,102,182,74,270,236,147,248,215,58,159,169,199,177,214,185,112,271,134,125,211,82,70,82,251,107,112,102,94,113,158,167,161,225,196,167,183,180,118,115,94,197,203,142,149,161,79,191,154,84,214,209,125,235,255,135,155,90,178,211,108,258,111,241,143,177,183,75,188,195,176,164,179,92,187,271,105,69,244,143,232,196,106,179,130,94,265,108,232,216,225,228,163,208,85,177,217,271,169,183,253,91,112,271,267,255,192,128,159,122,242,200,131,75,123,141,144,259,208,154,209,120,218,191,139,233,123,60,68,166,95,63,214,92,182,149,231,248,163,202,76,57,206,112,89,254,139,214,156,161,269,104,153,159,84,153,133,271,204,189,150,67,115,200,182,140,138,111,102,80,124,231,172,85,117,155,178,135,138,259,227,178,196,265,81,256,98,110,146,258,212,150,266,256,103,85,70,121,139,180,214,138,85,259,122,180,115,82,77,55,188,248,169,116,193,175,80,271,231,178,211,196,164,207,248,94,152,215,95,66,264,108,151,100,210,171,217,101,80,192,202,155,127,161,180,84,126,106,217,94,165,196,109,97,204,206,262,250,120,100,265,234,194,253,189,138,147,236,200,257,235,88,220,76,254,267,60,250,245,246,160,269,227,156,223,221,120,201,153,100,251,195,93,123,203,76,194,117,85,185,241,271,113,226,114,94,188,114,85,151,141,110,203,229,58,91,267,235,90,120,177,251,210,191,187,266,93,126,122,209,118,160,267,135,178,167,196,231,236,88,148,139,218,211,153,68,257,188,152,169,142,71,196,249,73,105,218,195,267,164,73,170,232,191,107,105,165,188,138,182,167,88,244,239,90,217,59,195,228,257,127,135,97,185,184,253,156,121,112,158,67,207,266,96,102,149,200,86,246,98,207,234,154,108,108,65,108,63,160,170,182,82,259,182,89,107,64,167,174,243,132,103,191,66,255,246,114,176,147,259,57,191,193,265,134,256,228,130,165,260,141,84,232,215,166,203,140,252,122,198,120,110,260,193,175,83,78,260,156,223,202,171,261,100,104,120,249,124,179,173,107,110,184,147,119,103,99,200,194,215,233,224,246,271,245,60,68,95,169,174,85,166,257,112,256,59,263,212,182,157,159,109,227,168,79,216,234,193,197,227,78,158,183,89,134,265,197,113,86,166,183,96,89,123,107,160,205,176,134,240,262,63,67,96,256,190,155,244,246,151,128,237,131,218,205,92,62,64,246,197,90,81,170,101,205,157,271,128,107,185,183,157,232,218,241,196,92,242,57,65,64,158,234,219,89,55,149,147,209,185,263,142,147,245,262,82,177,67,100,253,198,66,209,208,261,202,63,162,175,258,252,208,242,180,257,79,136,240,263,226,259,186,185,78,67,239,213,184,198,142,265,67,149,125,170,83,244,233,131,57,254,232,249,236,99,94,251,248,84,262,131,197,232,259,83,247,270,242,263,91,129,79,62,92,98,77,179,175,250,199,183,89,148,103,68,169,238,127,168,79,77,179,107,78,92,263,168,191,109,194,68,92,147,166,108,132,96,158,262,92,211,117,96,244,166,264,148,239,243,271,251,234,158,229,183,244,221,155,209,67,58,56,68,205,194,130,101,127,138,194,195,269,142,85,65,89,149,86,104,200,67,129,137,96,150,201,246,207,108,145,156,153,167,183,228,243,204,111,182,142,202,194,223,77,237,88,252,141,83,224,175,145,119,231,252,161,150,137,232,196,238,245,236,68,144,195,232,212,225,107,220,265,162,197,192,86,234,56,136,117,233,67,72,121,100,156,126,250,108,79,172,227,112,260,106,95,88,244,180,190,248,128,153,248,148,132,231,108,201,237,55,55,227,116,175,229,237,172,133,257,178,75,188,256,266,225,78,182,68,258,169,259,125,113,236,271,270,227,200,192,69,114,64,60,224,96,81,204,237,202,239,169,223,147,228,271,226,87,90,253,242,208,196,55,102,180,58,137,126,207,135,241,153,143,65,211,256,242,85,126,116,206,237,248,251,81,90,206,65,235,257,86,96,178,110,158,268,186,148,120,104,78,167,128,197,153,124,110,234,121,172,243,139,214,231,222,239,178,162,253,74,259,74,163,132,94,62,133,219,119,84,90,60,132,94,149,170,182,184,212,141,157,121,229,141,220,163,102,196,222,162,59,127,168,132,94,120,189,168,178,101,93,133,229,79,147,268,144,206,227,256,234,184,251,95,94,209,111,241,256,119,73,97,132,266,67,155,182,197,270,122,245,113,271,82,248,189,251,70,101,80,265,121,80,224,55,113,56,184,173,66,154,171,193,221,249,184,173,136,225,110,61,172,214,218,217,61,62,134,78,84,68,114,73,80,246,226,63,69,109,140,125,145,252,195,206,231,232,58,162,172,136,134,254,227,237,104,207,153,267,152,91,103,169,103,63,249,132,92,171,154,61,236,238,171,180,68,84,77,91,116,178,212,151,99,216,219,148,222,199,230,149,114,107,245,153,69,131,175,169,235,216,159,101,138,92,165,184,200,244,137,115,57,132,131,258,213,100,188,67,112,227,180,248,149,97,174,246,86,215,156,166,192,224,58,73,235,241,113,75,196,234,151,78,73,69,64,64,221,103,211,104,58,157,256,64,134,148,173,255,123,191,76,151,234,73,117,264,167,100,118,241,183,235,94,77,153,86,207,183,136,153,237,182,178,144,161,212,213,123,269,245,221,169,131,79,78,97,185,201,183,190,163,71,142,130,239],\"yaxis\":\"y\",\"type\":\"scattergl\"}],                        {\"template\":{\"data\":{\"histogram2dcontour\":[{\"type\":\"histogram2dcontour\",\"colorbar\":{\"outlinewidth\":0,\"ticks\":\"\"},\"colorscale\":[[0.0,\"#0d0887\"],[0.1111111111111111,\"#46039f\"],[0.2222222222222222,\"#7201a8\"],[0.3333333333333333,\"#9c179e\"],[0.4444444444444444,\"#bd3786\"],[0.5555555555555556,\"#d8576b\"],[0.6666666666666666,\"#ed7953\"],[0.7777777777777778,\"#fb9f3a\"],[0.8888888888888888,\"#fdca26\"],[1.0,\"#f0f921\"]]}],\"choropleth\":[{\"type\":\"choropleth\",\"colorbar\":{\"outlinewidth\":0,\"ticks\":\"\"}}],\"histogram2d\":[{\"type\":\"histogram2d\",\"colorbar\":{\"outlinewidth\":0,\"ticks\":\"\"},\"colorscale\":[[0.0,\"#0d0887\"],[0.1111111111111111,\"#46039f\"],[0.2222222222222222,\"#7201a8\"],[0.3333333333333333,\"#9c179e\"],[0.4444444444444444,\"#bd3786\"],[0.5555555555555556,\"#d8576b\"],[0.6666666666666666,\"#ed7953\"],[0.7777777777777778,\"#fb9f3a\"],[0.8888888888888888,\"#fdca26\"],[1.0,\"#f0f921\"]]}],\"heatmap\":[{\"type\":\"heatmap\",\"colorbar\":{\"outlinewidth\":0,\"ticks\":\"\"},\"colorscale\":[[0.0,\"#0d0887\"],[0.1111111111111111,\"#46039f\"],[0.2222222222222222,\"#7201a8\"],[0.3333333333333333,\"#9c179e\"],[0.4444444444444444,\"#bd3786\"],[0.5555555555555556,\"#d8576b\"],[0.6666666666666666,\"#ed7953\"],[0.7777777777777778,\"#fb9f3a\"],[0.8888888888888888,\"#fdca26\"],[1.0,\"#f0f921\"]]}],\"heatmapgl\":[{\"type\":\"heatmapgl\",\"colorbar\":{\"outlinewidth\":0,\"ticks\":\"\"},\"colorscale\":[[0.0,\"#0d0887\"],[0.1111111111111111,\"#46039f\"],[0.2222222222222222,\"#7201a8\"],[0.3333333333333333,\"#9c179e\"],[0.4444444444444444,\"#bd3786\"],[0.5555555555555556,\"#d8576b\"],[0.6666666666666666,\"#ed7953\"],[0.7777777777777778,\"#fb9f3a\"],[0.8888888888888888,\"#fdca26\"],[1.0,\"#f0f921\"]]}],\"contourcarpet\":[{\"type\":\"contourcarpet\",\"colorbar\":{\"outlinewidth\":0,\"ticks\":\"\"}}],\"contour\":[{\"type\":\"contour\",\"colorbar\":{\"outlinewidth\":0,\"ticks\":\"\"},\"colorscale\":[[0.0,\"#0d0887\"],[0.1111111111111111,\"#46039f\"],[0.2222222222222222,\"#7201a8\"],[0.3333333333333333,\"#9c179e\"],[0.4444444444444444,\"#bd3786\"],[0.5555555555555556,\"#d8576b\"],[0.6666666666666666,\"#ed7953\"],[0.7777777777777778,\"#fb9f3a\"],[0.8888888888888888,\"#fdca26\"],[1.0,\"#f0f921\"]]}],\"surface\":[{\"type\":\"surface\",\"colorbar\":{\"outlinewidth\":0,\"ticks\":\"\"},\"colorscale\":[[0.0,\"#0d0887\"],[0.1111111111111111,\"#46039f\"],[0.2222222222222222,\"#7201a8\"],[0.3333333333333333,\"#9c179e\"],[0.4444444444444444,\"#bd3786\"],[0.5555555555555556,\"#d8576b\"],[0.6666666666666666,\"#ed7953\"],[0.7777777777777778,\"#fb9f3a\"],[0.8888888888888888,\"#fdca26\"],[1.0,\"#f0f921\"]]}],\"mesh3d\":[{\"type\":\"mesh3d\",\"colorbar\":{\"outlinewidth\":0,\"ticks\":\"\"}}],\"scatter\":[{\"fillpattern\":{\"fillmode\":\"overlay\",\"size\":10,\"solidity\":0.2},\"type\":\"scatter\"}],\"parcoords\":[{\"type\":\"parcoords\",\"line\":{\"colorbar\":{\"outlinewidth\":0,\"ticks\":\"\"}}}],\"scatterpolargl\":[{\"type\":\"scatterpolargl\",\"marker\":{\"colorbar\":{\"outlinewidth\":0,\"ticks\":\"\"}}}],\"bar\":[{\"error_x\":{\"color\":\"#2a3f5f\"},\"error_y\":{\"color\":\"#2a3f5f\"},\"marker\":{\"line\":{\"color\":\"#E5ECF6\",\"width\":0.5},\"pattern\":{\"fillmode\":\"overlay\",\"size\":10,\"solidity\":0.2}},\"type\":\"bar\"}],\"scattergeo\":[{\"type\":\"scattergeo\",\"marker\":{\"colorbar\":{\"outlinewidth\":0,\"ticks\":\"\"}}}],\"scatterpolar\":[{\"type\":\"scatterpolar\",\"marker\":{\"colorbar\":{\"outlinewidth\":0,\"ticks\":\"\"}}}],\"histogram\":[{\"marker\":{\"pattern\":{\"fillmode\":\"overlay\",\"size\":10,\"solidity\":0.2}},\"type\":\"histogram\"}],\"scattergl\":[{\"type\":\"scattergl\",\"marker\":{\"colorbar\":{\"outlinewidth\":0,\"ticks\":\"\"}}}],\"scatter3d\":[{\"type\":\"scatter3d\",\"line\":{\"colorbar\":{\"outlinewidth\":0,\"ticks\":\"\"}},\"marker\":{\"colorbar\":{\"outlinewidth\":0,\"ticks\":\"\"}}}],\"scattermapbox\":[{\"type\":\"scattermapbox\",\"marker\":{\"colorbar\":{\"outlinewidth\":0,\"ticks\":\"\"}}}],\"scatterternary\":[{\"type\":\"scatterternary\",\"marker\":{\"colorbar\":{\"outlinewidth\":0,\"ticks\":\"\"}}}],\"scattercarpet\":[{\"type\":\"scattercarpet\",\"marker\":{\"colorbar\":{\"outlinewidth\":0,\"ticks\":\"\"}}}],\"carpet\":[{\"aaxis\":{\"endlinecolor\":\"#2a3f5f\",\"gridcolor\":\"white\",\"linecolor\":\"white\",\"minorgridcolor\":\"white\",\"startlinecolor\":\"#2a3f5f\"},\"baxis\":{\"endlinecolor\":\"#2a3f5f\",\"gridcolor\":\"white\",\"linecolor\":\"white\",\"minorgridcolor\":\"white\",\"startlinecolor\":\"#2a3f5f\"},\"type\":\"carpet\"}],\"table\":[{\"cells\":{\"fill\":{\"color\":\"#EBF0F8\"},\"line\":{\"color\":\"white\"}},\"header\":{\"fill\":{\"color\":\"#C8D4E3\"},\"line\":{\"color\":\"white\"}},\"type\":\"table\"}],\"barpolar\":[{\"marker\":{\"line\":{\"color\":\"#E5ECF6\",\"width\":0.5},\"pattern\":{\"fillmode\":\"overlay\",\"size\":10,\"solidity\":0.2}},\"type\":\"barpolar\"}],\"pie\":[{\"automargin\":true,\"type\":\"pie\"}]},\"layout\":{\"autotypenumbers\":\"strict\",\"colorway\":[\"#636efa\",\"#EF553B\",\"#00cc96\",\"#ab63fa\",\"#FFA15A\",\"#19d3f3\",\"#FF6692\",\"#B6E880\",\"#FF97FF\",\"#FECB52\"],\"font\":{\"color\":\"#2a3f5f\"},\"hovermode\":\"closest\",\"hoverlabel\":{\"align\":\"left\"},\"paper_bgcolor\":\"white\",\"plot_bgcolor\":\"#E5ECF6\",\"polar\":{\"bgcolor\":\"#E5ECF6\",\"angularaxis\":{\"gridcolor\":\"white\",\"linecolor\":\"white\",\"ticks\":\"\"},\"radialaxis\":{\"gridcolor\":\"white\",\"linecolor\":\"white\",\"ticks\":\"\"}},\"ternary\":{\"bgcolor\":\"#E5ECF6\",\"aaxis\":{\"gridcolor\":\"white\",\"linecolor\":\"white\",\"ticks\":\"\"},\"baxis\":{\"gridcolor\":\"white\",\"linecolor\":\"white\",\"ticks\":\"\"},\"caxis\":{\"gridcolor\":\"white\",\"linecolor\":\"white\",\"ticks\":\"\"}},\"coloraxis\":{\"colorbar\":{\"outlinewidth\":0,\"ticks\":\"\"}},\"colorscale\":{\"sequential\":[[0.0,\"#0d0887\"],[0.1111111111111111,\"#46039f\"],[0.2222222222222222,\"#7201a8\"],[0.3333333333333333,\"#9c179e\"],[0.4444444444444444,\"#bd3786\"],[0.5555555555555556,\"#d8576b\"],[0.6666666666666666,\"#ed7953\"],[0.7777777777777778,\"#fb9f3a\"],[0.8888888888888888,\"#fdca26\"],[1.0,\"#f0f921\"]],\"sequentialminus\":[[0.0,\"#0d0887\"],[0.1111111111111111,\"#46039f\"],[0.2222222222222222,\"#7201a8\"],[0.3333333333333333,\"#9c179e\"],[0.4444444444444444,\"#bd3786\"],[0.5555555555555556,\"#d8576b\"],[0.6666666666666666,\"#ed7953\"],[0.7777777777777778,\"#fb9f3a\"],[0.8888888888888888,\"#fdca26\"],[1.0,\"#f0f921\"]],\"diverging\":[[0,\"#8e0152\"],[0.1,\"#c51b7d\"],[0.2,\"#de77ae\"],[0.3,\"#f1b6da\"],[0.4,\"#fde0ef\"],[0.5,\"#f7f7f7\"],[0.6,\"#e6f5d0\"],[0.7,\"#b8e186\"],[0.8,\"#7fbc41\"],[0.9,\"#4d9221\"],[1,\"#276419\"]]},\"xaxis\":{\"gridcolor\":\"white\",\"linecolor\":\"white\",\"ticks\":\"\",\"title\":{\"standoff\":15},\"zerolinecolor\":\"white\",\"automargin\":true,\"zerolinewidth\":2},\"yaxis\":{\"gridcolor\":\"white\",\"linecolor\":\"white\",\"ticks\":\"\",\"title\":{\"standoff\":15},\"zerolinecolor\":\"white\",\"automargin\":true,\"zerolinewidth\":2},\"scene\":{\"xaxis\":{\"backgroundcolor\":\"#E5ECF6\",\"gridcolor\":\"white\",\"linecolor\":\"white\",\"showbackground\":true,\"ticks\":\"\",\"zerolinecolor\":\"white\",\"gridwidth\":2},\"yaxis\":{\"backgroundcolor\":\"#E5ECF6\",\"gridcolor\":\"white\",\"linecolor\":\"white\",\"showbackground\":true,\"ticks\":\"\",\"zerolinecolor\":\"white\",\"gridwidth\":2},\"zaxis\":{\"backgroundcolor\":\"#E5ECF6\",\"gridcolor\":\"white\",\"linecolor\":\"white\",\"showbackground\":true,\"ticks\":\"\",\"zerolinecolor\":\"white\",\"gridwidth\":2}},\"shapedefaults\":{\"line\":{\"color\":\"#2a3f5f\"}},\"annotationdefaults\":{\"arrowcolor\":\"#2a3f5f\",\"arrowhead\":0,\"arrowwidth\":1},\"geo\":{\"bgcolor\":\"white\",\"landcolor\":\"#E5ECF6\",\"subunitcolor\":\"white\",\"showland\":true,\"showlakes\":true,\"lakecolor\":\"white\"},\"title\":{\"x\":0.05},\"mapbox\":{\"style\":\"light\"}}},\"xaxis\":{\"anchor\":\"y\",\"domain\":[0.0,1.0],\"title\":{\"text\":\"transport_issue_l1y\"}},\"yaxis\":{\"anchor\":\"x\",\"domain\":[0.0,1.0],\"title\":{\"text\":\"dist_from_hub\"}},\"legend\":{\"tracegroupgap\":0,\"itemsizing\":\"constant\"},\"margin\":{\"t\":60}},                        {\"responsive\": true}                    ).then(function(){\n",
       "                            \n",
       "var gd = document.getElementById('edbf5825-d005-4cc7-b63f-bbb388b841e4');\n",
       "var x = new MutationObserver(function (mutations, observer) {{\n",
       "        var display = window.getComputedStyle(gd).display;\n",
       "        if (!display || display === 'none') {{\n",
       "            console.log([gd, 'removed!']);\n",
       "            Plotly.purge(gd);\n",
       "            observer.disconnect();\n",
       "        }}\n",
       "}});\n",
       "\n",
       "// Listen for the removal of the full notebook cells\n",
       "var notebookContainer = gd.closest('#notebook-container');\n",
       "if (notebookContainer) {{\n",
       "    x.observe(notebookContainer, {childList: true});\n",
       "}}\n",
       "\n",
       "// Listen for the clearing of the current output cell\n",
       "var outputEl = gd.closest('.output');\n",
       "if (outputEl) {{\n",
       "    x.observe(outputEl, {childList: true});\n",
       "}}\n",
       "\n",
       "                        })                };                });            </script>        </div>"
      ]
     },
     "metadata": {},
     "output_type": "display_data"
    }
   ],
   "source": [
    "cor = wh['transport_issue_l1y'].corr(wh['dist_from_hub'])\n",
    "print(cor)\n",
    "\n",
    "fig = px.scatter(wh, x='transport_issue_l1y', y='dist_from_hub', size='dist_from_hub')\n",
    "fig.show()"
   ]
  },
  {
   "cell_type": "markdown",
   "id": "14a0945d",
   "metadata": {
    "papermill": {
     "duration": 0.018744,
     "end_time": "2024-06-26T20:20:00.327165",
     "exception": false,
     "start_time": "2024-06-26T20:20:00.308421",
     "status": "completed"
    },
    "tags": []
   },
   "source": [
    "**Q.8 Analyze the effect of competitor presence in the market on the number of refill requests.**"
   ]
  },
  {
   "cell_type": "code",
   "execution_count": 36,
   "id": "527996ca",
   "metadata": {
    "execution": {
     "iopub.execute_input": "2024-06-26T20:20:00.367476Z",
     "iopub.status.busy": "2024-06-26T20:20:00.366539Z",
     "iopub.status.idle": "2024-06-26T20:20:00.392447Z",
     "shell.execute_reply": "2024-06-26T20:20:00.391411Z"
    },
    "papermill": {
     "duration": 0.048481,
     "end_time": "2024-06-26T20:20:00.394738",
     "exception": false,
     "start_time": "2024-06-26T20:20:00.346257",
     "status": "completed"
    },
    "tags": []
   },
   "outputs": [
    {
     "data": {
      "text/html": [
       "<div>\n",
       "<style scoped>\n",
       "    .dataframe tbody tr th:only-of-type {\n",
       "        vertical-align: middle;\n",
       "    }\n",
       "\n",
       "    .dataframe tbody tr th {\n",
       "        vertical-align: top;\n",
       "    }\n",
       "\n",
       "    .dataframe thead th {\n",
       "        text-align: right;\n",
       "    }\n",
       "</style>\n",
       "<table border=\"1\" class=\"dataframe\">\n",
       "  <thead>\n",
       "    <tr style=\"text-align: right;\">\n",
       "      <th>num_refill_req_l3m</th>\n",
       "      <th>3</th>\n",
       "      <th>4</th>\n",
       "      <th>5</th>\n",
       "      <th>6</th>\n",
       "      <th>7</th>\n",
       "      <th>8</th>\n",
       "    </tr>\n",
       "    <tr>\n",
       "      <th>Competitor_in_mkt</th>\n",
       "      <th></th>\n",
       "      <th></th>\n",
       "      <th></th>\n",
       "      <th></th>\n",
       "      <th></th>\n",
       "      <th></th>\n",
       "    </tr>\n",
       "  </thead>\n",
       "  <tbody>\n",
       "    <tr>\n",
       "      <th>0</th>\n",
       "      <td>NaN</td>\n",
       "      <td>NaN</td>\n",
       "      <td>NaN</td>\n",
       "      <td>NaN</td>\n",
       "      <td>1.0</td>\n",
       "      <td>NaN</td>\n",
       "    </tr>\n",
       "    <tr>\n",
       "      <th>1</th>\n",
       "      <td>39.0</td>\n",
       "      <td>40.0</td>\n",
       "      <td>32.0</td>\n",
       "      <td>36.0</td>\n",
       "      <td>38.0</td>\n",
       "      <td>33.0</td>\n",
       "    </tr>\n",
       "    <tr>\n",
       "      <th>2</th>\n",
       "      <td>802.0</td>\n",
       "      <td>777.0</td>\n",
       "      <td>719.0</td>\n",
       "      <td>710.0</td>\n",
       "      <td>766.0</td>\n",
       "      <td>760.0</td>\n",
       "    </tr>\n",
       "    <tr>\n",
       "      <th>3</th>\n",
       "      <td>634.0</td>\n",
       "      <td>589.0</td>\n",
       "      <td>647.0</td>\n",
       "      <td>580.0</td>\n",
       "      <td>615.0</td>\n",
       "      <td>641.0</td>\n",
       "    </tr>\n",
       "    <tr>\n",
       "      <th>4</th>\n",
       "      <td>599.0</td>\n",
       "      <td>589.0</td>\n",
       "      <td>617.0</td>\n",
       "      <td>598.0</td>\n",
       "      <td>576.0</td>\n",
       "      <td>581.0</td>\n",
       "    </tr>\n",
       "    <tr>\n",
       "      <th>5</th>\n",
       "      <td>117.0</td>\n",
       "      <td>97.0</td>\n",
       "      <td>112.0</td>\n",
       "      <td>98.0</td>\n",
       "      <td>95.0</td>\n",
       "      <td>126.0</td>\n",
       "    </tr>\n",
       "    <tr>\n",
       "      <th>6</th>\n",
       "      <td>45.0</td>\n",
       "      <td>51.0</td>\n",
       "      <td>52.0</td>\n",
       "      <td>56.0</td>\n",
       "      <td>48.0</td>\n",
       "      <td>44.0</td>\n",
       "    </tr>\n",
       "    <tr>\n",
       "      <th>7</th>\n",
       "      <td>18.0</td>\n",
       "      <td>20.0</td>\n",
       "      <td>14.0</td>\n",
       "      <td>16.0</td>\n",
       "      <td>18.0</td>\n",
       "      <td>17.0</td>\n",
       "    </tr>\n",
       "    <tr>\n",
       "      <th>8</th>\n",
       "      <td>9.0</td>\n",
       "      <td>6.0</td>\n",
       "      <td>6.0</td>\n",
       "      <td>6.0</td>\n",
       "      <td>8.0</td>\n",
       "      <td>10.0</td>\n",
       "    </tr>\n",
       "    <tr>\n",
       "      <th>9</th>\n",
       "      <td>1.0</td>\n",
       "      <td>NaN</td>\n",
       "      <td>NaN</td>\n",
       "      <td>NaN</td>\n",
       "      <td>2.0</td>\n",
       "      <td>2.0</td>\n",
       "    </tr>\n",
       "    <tr>\n",
       "      <th>10</th>\n",
       "      <td>1.0</td>\n",
       "      <td>NaN</td>\n",
       "      <td>1.0</td>\n",
       "      <td>NaN</td>\n",
       "      <td>2.0</td>\n",
       "      <td>1.0</td>\n",
       "    </tr>\n",
       "    <tr>\n",
       "      <th>12</th>\n",
       "      <td>NaN</td>\n",
       "      <td>NaN</td>\n",
       "      <td>NaN</td>\n",
       "      <td>NaN</td>\n",
       "      <td>NaN</td>\n",
       "      <td>1.0</td>\n",
       "    </tr>\n",
       "  </tbody>\n",
       "</table>\n",
       "</div>"
      ],
      "text/plain": [
       "num_refill_req_l3m      3      4      5      6      7      8\n",
       "Competitor_in_mkt                                           \n",
       "0                     NaN    NaN    NaN    NaN    1.0    NaN\n",
       "1                    39.0   40.0   32.0   36.0   38.0   33.0\n",
       "2                   802.0  777.0  719.0  710.0  766.0  760.0\n",
       "3                   634.0  589.0  647.0  580.0  615.0  641.0\n",
       "4                   599.0  589.0  617.0  598.0  576.0  581.0\n",
       "5                   117.0   97.0  112.0   98.0   95.0  126.0\n",
       "6                    45.0   51.0   52.0   56.0   48.0   44.0\n",
       "7                    18.0   20.0   14.0   16.0   18.0   17.0\n",
       "8                     9.0    6.0    6.0    6.0    8.0   10.0\n",
       "9                     1.0    NaN    NaN    NaN    2.0    2.0\n",
       "10                    1.0    NaN    1.0    NaN    2.0    1.0\n",
       "12                    NaN    NaN    NaN    NaN    NaN    1.0"
      ]
     },
     "execution_count": 36,
     "metadata": {},
     "output_type": "execute_result"
    }
   ],
   "source": [
    "wh.pivot_table(index='Competitor_in_mkt', columns='num_refill_req_l3m', values='Ware_house_ID', aggfunc='count')"
   ]
  },
  {
   "cell_type": "code",
   "execution_count": 37,
   "id": "a36a7f6c",
   "metadata": {
    "execution": {
     "iopub.execute_input": "2024-06-26T20:20:00.437317Z",
     "iopub.status.busy": "2024-06-26T20:20:00.436206Z",
     "iopub.status.idle": "2024-06-26T20:20:00.446299Z",
     "shell.execute_reply": "2024-06-26T20:20:00.445258Z"
    },
    "papermill": {
     "duration": 0.033582,
     "end_time": "2024-06-26T20:20:00.448528",
     "exception": false,
     "start_time": "2024-06-26T20:20:00.414946",
     "status": "completed"
    },
    "tags": []
   },
   "outputs": [
    {
     "data": {
      "text/plain": [
       "Competitor_in_mkt\n",
       "0         7\n",
       "1      1183\n",
       "2     24811\n",
       "3     20406\n",
       "4     19506\n",
       "5      3560\n",
       "6      1623\n",
       "7       562\n",
       "8       253\n",
       "9        33\n",
       "10       30\n",
       "12        8\n",
       "Name: num_refill_req_l3m, dtype: int64"
      ]
     },
     "execution_count": 37,
     "metadata": {},
     "output_type": "execute_result"
    }
   ],
   "source": [
    "wh.groupby('Competitor_in_mkt')['num_refill_req_l3m'].sum()"
   ]
  },
  {
   "cell_type": "markdown",
   "id": "8ef1d85f",
   "metadata": {
    "papermill": {
     "duration": 0.019964,
     "end_time": "2024-06-26T20:20:00.488049",
     "exception": false,
     "start_time": "2024-06-26T20:20:00.468085",
     "status": "completed"
    },
    "tags": []
   },
   "source": [
    "**Q.9 Determine if there is a significant difference in the number of storage issues reported between warehouses with and without government certificates.**"
   ]
  },
  {
   "cell_type": "code",
   "execution_count": 38,
   "id": "322dd3b9",
   "metadata": {
    "execution": {
     "iopub.execute_input": "2024-06-26T20:20:00.529650Z",
     "iopub.status.busy": "2024-06-26T20:20:00.529253Z",
     "iopub.status.idle": "2024-06-26T20:20:00.562616Z",
     "shell.execute_reply": "2024-06-26T20:20:00.561617Z"
    },
    "papermill": {
     "duration": 0.056561,
     "end_time": "2024-06-26T20:20:00.564790",
     "exception": false,
     "start_time": "2024-06-26T20:20:00.508229",
     "status": "completed"
    },
    "tags": []
   },
   "outputs": [
    {
     "data": {
      "text/html": [
       "<div>\n",
       "<style scoped>\n",
       "    .dataframe tbody tr th:only-of-type {\n",
       "        vertical-align: middle;\n",
       "    }\n",
       "\n",
       "    .dataframe tbody tr th {\n",
       "        vertical-align: top;\n",
       "    }\n",
       "\n",
       "    .dataframe thead th {\n",
       "        text-align: right;\n",
       "    }\n",
       "</style>\n",
       "<table border=\"1\" class=\"dataframe\">\n",
       "  <thead>\n",
       "    <tr style=\"text-align: right;\">\n",
       "      <th>approved_wh_govt_certificate</th>\n",
       "      <th>A</th>\n",
       "      <th>A+</th>\n",
       "      <th>B</th>\n",
       "      <th>B+</th>\n",
       "      <th>C</th>\n",
       "    </tr>\n",
       "    <tr>\n",
       "      <th>storage_issue_reported_l3m</th>\n",
       "      <th></th>\n",
       "      <th></th>\n",
       "      <th></th>\n",
       "      <th></th>\n",
       "      <th></th>\n",
       "    </tr>\n",
       "  </thead>\n",
       "  <tbody>\n",
       "    <tr>\n",
       "      <th>4</th>\n",
       "      <td>31.0</td>\n",
       "      <td>NaN</td>\n",
       "      <td>61.0</td>\n",
       "      <td>74.0</td>\n",
       "      <td>147.0</td>\n",
       "    </tr>\n",
       "    <tr>\n",
       "      <th>5</th>\n",
       "      <td>100.0</td>\n",
       "      <td>41.0</td>\n",
       "      <td>148.0</td>\n",
       "      <td>133.0</td>\n",
       "      <td>243.0</td>\n",
       "    </tr>\n",
       "    <tr>\n",
       "      <th>6</th>\n",
       "      <td>93.0</td>\n",
       "      <td>43.0</td>\n",
       "      <td>96.0</td>\n",
       "      <td>101.0</td>\n",
       "      <td>169.0</td>\n",
       "    </tr>\n",
       "    <tr>\n",
       "      <th>7</th>\n",
       "      <td>28.0</td>\n",
       "      <td>4.0</td>\n",
       "      <td>39.0</td>\n",
       "      <td>55.0</td>\n",
       "      <td>86.0</td>\n",
       "    </tr>\n",
       "    <tr>\n",
       "      <th>8</th>\n",
       "      <td>8.0</td>\n",
       "      <td>4.0</td>\n",
       "      <td>50.0</td>\n",
       "      <td>50.0</td>\n",
       "      <td>94.0</td>\n",
       "    </tr>\n",
       "    <tr>\n",
       "      <th>9</th>\n",
       "      <td>83.0</td>\n",
       "      <td>78.0</td>\n",
       "      <td>104.0</td>\n",
       "      <td>74.0</td>\n",
       "      <td>86.0</td>\n",
       "    </tr>\n",
       "    <tr>\n",
       "      <th>10</th>\n",
       "      <td>74.0</td>\n",
       "      <td>71.0</td>\n",
       "      <td>70.0</td>\n",
       "      <td>37.0</td>\n",
       "      <td>68.0</td>\n",
       "    </tr>\n",
       "    <tr>\n",
       "      <th>11</th>\n",
       "      <td>84.0</td>\n",
       "      <td>83.0</td>\n",
       "      <td>76.0</td>\n",
       "      <td>41.0</td>\n",
       "      <td>81.0</td>\n",
       "    </tr>\n",
       "    <tr>\n",
       "      <th>12</th>\n",
       "      <td>73.0</td>\n",
       "      <td>81.0</td>\n",
       "      <td>80.0</td>\n",
       "      <td>45.0</td>\n",
       "      <td>71.0</td>\n",
       "    </tr>\n",
       "    <tr>\n",
       "      <th>13</th>\n",
       "      <td>93.0</td>\n",
       "      <td>80.0</td>\n",
       "      <td>67.0</td>\n",
       "      <td>43.0</td>\n",
       "      <td>71.0</td>\n",
       "    </tr>\n",
       "    <tr>\n",
       "      <th>14</th>\n",
       "      <td>51.0</td>\n",
       "      <td>49.0</td>\n",
       "      <td>56.0</td>\n",
       "      <td>118.0</td>\n",
       "      <td>49.0</td>\n",
       "    </tr>\n",
       "    <tr>\n",
       "      <th>15</th>\n",
       "      <td>50.0</td>\n",
       "      <td>56.0</td>\n",
       "      <td>76.0</td>\n",
       "      <td>125.0</td>\n",
       "      <td>81.0</td>\n",
       "    </tr>\n",
       "    <tr>\n",
       "      <th>16</th>\n",
       "      <td>95.0</td>\n",
       "      <td>70.0</td>\n",
       "      <td>73.0</td>\n",
       "      <td>77.0</td>\n",
       "      <td>70.0</td>\n",
       "    </tr>\n",
       "    <tr>\n",
       "      <th>17</th>\n",
       "      <td>94.0</td>\n",
       "      <td>84.0</td>\n",
       "      <td>84.0</td>\n",
       "      <td>85.0</td>\n",
       "      <td>75.0</td>\n",
       "    </tr>\n",
       "    <tr>\n",
       "      <th>18</th>\n",
       "      <td>111.0</td>\n",
       "      <td>125.0</td>\n",
       "      <td>135.0</td>\n",
       "      <td>130.0</td>\n",
       "      <td>110.0</td>\n",
       "    </tr>\n",
       "    <tr>\n",
       "      <th>19</th>\n",
       "      <td>124.0</td>\n",
       "      <td>105.0</td>\n",
       "      <td>130.0</td>\n",
       "      <td>119.0</td>\n",
       "      <td>111.0</td>\n",
       "    </tr>\n",
       "    <tr>\n",
       "      <th>20</th>\n",
       "      <td>114.0</td>\n",
       "      <td>109.0</td>\n",
       "      <td>102.0</td>\n",
       "      <td>138.0</td>\n",
       "      <td>118.0</td>\n",
       "    </tr>\n",
       "    <tr>\n",
       "      <th>21</th>\n",
       "      <td>66.0</td>\n",
       "      <td>73.0</td>\n",
       "      <td>80.0</td>\n",
       "      <td>72.0</td>\n",
       "      <td>48.0</td>\n",
       "    </tr>\n",
       "    <tr>\n",
       "      <th>22</th>\n",
       "      <td>95.0</td>\n",
       "      <td>74.0</td>\n",
       "      <td>123.0</td>\n",
       "      <td>118.0</td>\n",
       "      <td>119.0</td>\n",
       "    </tr>\n",
       "    <tr>\n",
       "      <th>23</th>\n",
       "      <td>84.0</td>\n",
       "      <td>72.0</td>\n",
       "      <td>108.0</td>\n",
       "      <td>121.0</td>\n",
       "      <td>112.0</td>\n",
       "    </tr>\n",
       "    <tr>\n",
       "      <th>24</th>\n",
       "      <td>200.0</td>\n",
       "      <td>191.0</td>\n",
       "      <td>182.0</td>\n",
       "      <td>160.0</td>\n",
       "      <td>161.0</td>\n",
       "    </tr>\n",
       "    <tr>\n",
       "      <th>25</th>\n",
       "      <td>171.0</td>\n",
       "      <td>175.0</td>\n",
       "      <td>131.0</td>\n",
       "      <td>145.0</td>\n",
       "      <td>122.0</td>\n",
       "    </tr>\n",
       "    <tr>\n",
       "      <th>26</th>\n",
       "      <td>68.0</td>\n",
       "      <td>22.0</td>\n",
       "      <td>73.0</td>\n",
       "      <td>70.0</td>\n",
       "      <td>59.0</td>\n",
       "    </tr>\n",
       "    <tr>\n",
       "      <th>27</th>\n",
       "      <td>66.0</td>\n",
       "      <td>22.0</td>\n",
       "      <td>81.0</td>\n",
       "      <td>49.0</td>\n",
       "      <td>63.0</td>\n",
       "    </tr>\n",
       "    <tr>\n",
       "      <th>28</th>\n",
       "      <td>47.0</td>\n",
       "      <td>47.0</td>\n",
       "      <td>39.0</td>\n",
       "      <td>39.0</td>\n",
       "      <td>50.0</td>\n",
       "    </tr>\n",
       "    <tr>\n",
       "      <th>29</th>\n",
       "      <td>47.0</td>\n",
       "      <td>37.0</td>\n",
       "      <td>57.0</td>\n",
       "      <td>33.0</td>\n",
       "      <td>36.0</td>\n",
       "    </tr>\n",
       "    <tr>\n",
       "      <th>30</th>\n",
       "      <td>50.0</td>\n",
       "      <td>51.0</td>\n",
       "      <td>38.0</td>\n",
       "      <td>60.0</td>\n",
       "      <td>52.0</td>\n",
       "    </tr>\n",
       "    <tr>\n",
       "      <th>31</th>\n",
       "      <td>47.0</td>\n",
       "      <td>42.0</td>\n",
       "      <td>43.0</td>\n",
       "      <td>35.0</td>\n",
       "      <td>38.0</td>\n",
       "    </tr>\n",
       "    <tr>\n",
       "      <th>32</th>\n",
       "      <td>47.0</td>\n",
       "      <td>42.0</td>\n",
       "      <td>42.0</td>\n",
       "      <td>45.0</td>\n",
       "      <td>40.0</td>\n",
       "    </tr>\n",
       "    <tr>\n",
       "      <th>33</th>\n",
       "      <td>38.0</td>\n",
       "      <td>43.0</td>\n",
       "      <td>30.0</td>\n",
       "      <td>45.0</td>\n",
       "      <td>44.0</td>\n",
       "    </tr>\n",
       "    <tr>\n",
       "      <th>34</th>\n",
       "      <td>33.0</td>\n",
       "      <td>47.0</td>\n",
       "      <td>25.0</td>\n",
       "      <td>40.0</td>\n",
       "      <td>48.0</td>\n",
       "    </tr>\n",
       "    <tr>\n",
       "      <th>35</th>\n",
       "      <td>18.0</td>\n",
       "      <td>42.0</td>\n",
       "      <td>16.0</td>\n",
       "      <td>26.0</td>\n",
       "      <td>16.0</td>\n",
       "    </tr>\n",
       "    <tr>\n",
       "      <th>36</th>\n",
       "      <td>26.0</td>\n",
       "      <td>40.0</td>\n",
       "      <td>20.0</td>\n",
       "      <td>15.0</td>\n",
       "      <td>15.0</td>\n",
       "    </tr>\n",
       "    <tr>\n",
       "      <th>37</th>\n",
       "      <td>10.0</td>\n",
       "      <td>44.0</td>\n",
       "      <td>14.0</td>\n",
       "      <td>14.0</td>\n",
       "      <td>16.0</td>\n",
       "    </tr>\n",
       "    <tr>\n",
       "      <th>38</th>\n",
       "      <td>21.0</td>\n",
       "      <td>45.0</td>\n",
       "      <td>20.0</td>\n",
       "      <td>17.0</td>\n",
       "      <td>20.0</td>\n",
       "    </tr>\n",
       "    <tr>\n",
       "      <th>39</th>\n",
       "      <td>19.0</td>\n",
       "      <td>35.0</td>\n",
       "      <td>17.0</td>\n",
       "      <td>24.0</td>\n",
       "      <td>12.0</td>\n",
       "    </tr>\n",
       "  </tbody>\n",
       "</table>\n",
       "</div>"
      ],
      "text/plain": [
       "approved_wh_govt_certificate      A     A+      B     B+      C\n",
       "storage_issue_reported_l3m                                     \n",
       "4                              31.0    NaN   61.0   74.0  147.0\n",
       "5                             100.0   41.0  148.0  133.0  243.0\n",
       "6                              93.0   43.0   96.0  101.0  169.0\n",
       "7                              28.0    4.0   39.0   55.0   86.0\n",
       "8                               8.0    4.0   50.0   50.0   94.0\n",
       "9                              83.0   78.0  104.0   74.0   86.0\n",
       "10                             74.0   71.0   70.0   37.0   68.0\n",
       "11                             84.0   83.0   76.0   41.0   81.0\n",
       "12                             73.0   81.0   80.0   45.0   71.0\n",
       "13                             93.0   80.0   67.0   43.0   71.0\n",
       "14                             51.0   49.0   56.0  118.0   49.0\n",
       "15                             50.0   56.0   76.0  125.0   81.0\n",
       "16                             95.0   70.0   73.0   77.0   70.0\n",
       "17                             94.0   84.0   84.0   85.0   75.0\n",
       "18                            111.0  125.0  135.0  130.0  110.0\n",
       "19                            124.0  105.0  130.0  119.0  111.0\n",
       "20                            114.0  109.0  102.0  138.0  118.0\n",
       "21                             66.0   73.0   80.0   72.0   48.0\n",
       "22                             95.0   74.0  123.0  118.0  119.0\n",
       "23                             84.0   72.0  108.0  121.0  112.0\n",
       "24                            200.0  191.0  182.0  160.0  161.0\n",
       "25                            171.0  175.0  131.0  145.0  122.0\n",
       "26                             68.0   22.0   73.0   70.0   59.0\n",
       "27                             66.0   22.0   81.0   49.0   63.0\n",
       "28                             47.0   47.0   39.0   39.0   50.0\n",
       "29                             47.0   37.0   57.0   33.0   36.0\n",
       "30                             50.0   51.0   38.0   60.0   52.0\n",
       "31                             47.0   42.0   43.0   35.0   38.0\n",
       "32                             47.0   42.0   42.0   45.0   40.0\n",
       "33                             38.0   43.0   30.0   45.0   44.0\n",
       "34                             33.0   47.0   25.0   40.0   48.0\n",
       "35                             18.0   42.0   16.0   26.0   16.0\n",
       "36                             26.0   40.0   20.0   15.0   15.0\n",
       "37                             10.0   44.0   14.0   14.0   16.0\n",
       "38                             21.0   45.0   20.0   17.0   20.0\n",
       "39                             19.0   35.0   17.0   24.0   12.0"
      ]
     },
     "execution_count": 38,
     "metadata": {},
     "output_type": "execute_result"
    }
   ],
   "source": [
    "wh.pivot_table(index='storage_issue_reported_l3m', columns='approved_wh_govt_certificate', values='Ware_house_ID', aggfunc='count')"
   ]
  },
  {
   "cell_type": "code",
   "execution_count": 39,
   "id": "dc3de073",
   "metadata": {
    "execution": {
     "iopub.execute_input": "2024-06-26T20:20:00.606789Z",
     "iopub.status.busy": "2024-06-26T20:20:00.606391Z",
     "iopub.status.idle": "2024-06-26T20:20:00.616811Z",
     "shell.execute_reply": "2024-06-26T20:20:00.615770Z"
    },
    "papermill": {
     "duration": 0.034342,
     "end_time": "2024-06-26T20:20:00.618993",
     "exception": false,
     "start_time": "2024-06-26T20:20:00.584651",
     "status": "completed"
    },
    "tags": []
   },
   "outputs": [
    {
     "data": {
      "text/plain": [
       "approved_wh_govt_certificate\n",
       "A     48178\n",
       "A+    47496\n",
       "B     48217\n",
       "B+    48771\n",
       "C     47853\n",
       "Name: storage_issue_reported_l3m, dtype: int64"
      ]
     },
     "execution_count": 39,
     "metadata": {},
     "output_type": "execute_result"
    }
   ],
   "source": [
    "wh.groupby('approved_wh_govt_certificate')['storage_issue_reported_l3m'].sum()"
   ]
  },
  {
   "cell_type": "markdown",
   "id": "ea3d308f",
   "metadata": {
    "papermill": {
     "duration": 0.019465,
     "end_time": "2024-06-26T20:20:00.658544",
     "exception": false,
     "start_time": "2024-06-26T20:20:00.639079",
     "status": "completed"
    },
    "tags": []
   },
   "source": [
    "**Q.10 Investigate the relationship between warehouse establishment year and the number of breakdowns reported in the last 3 months.**"
   ]
  },
  {
   "cell_type": "code",
   "execution_count": 40,
   "id": "730abf4e",
   "metadata": {
    "execution": {
     "iopub.execute_input": "2024-06-26T20:20:00.701464Z",
     "iopub.status.busy": "2024-06-26T20:20:00.700542Z",
     "iopub.status.idle": "2024-06-26T20:20:01.943852Z",
     "shell.execute_reply": "2024-06-26T20:20:01.942641Z"
    },
    "papermill": {
     "duration": 1.267364,
     "end_time": "2024-06-26T20:20:01.946226",
     "exception": false,
     "start_time": "2024-06-26T20:20:00.678862",
     "status": "completed"
    },
    "tags": []
   },
   "outputs": [
    {
     "data": {
      "text/plain": [
       "<Figure size 1120x640 with 0 Axes>"
      ]
     },
     "metadata": {},
     "output_type": "display_data"
    },
    {
     "data": {
      "image/png": "[encoded data removed]",
      "text/plain": [
       "<Figure size 640x480 with 1 Axes>"
      ]
     },
     "metadata": {},
     "output_type": "display_data"
    }
   ],
   "source": [
    "plt.figure(figsize=(14,8), dpi=80, frameon=True)\n",
    "wh.plot(kind='line', x='wh_est_year', y='wh_breakdown_l3m')\n",
    "plt.show()"
   ]
  },
  {
   "cell_type": "code",
   "execution_count": 41,
   "id": "3fc1922a",
   "metadata": {
    "execution": {
     "iopub.execute_input": "2024-06-26T20:20:01.992526Z",
     "iopub.status.busy": "2024-06-26T20:20:01.991837Z",
     "iopub.status.idle": "2024-06-26T20:20:01.999239Z",
     "shell.execute_reply": "2024-06-26T20:20:01.998169Z"
    },
    "papermill": {
     "duration": 0.033339,
     "end_time": "2024-06-26T20:20:02.001426",
     "exception": false,
     "start_time": "2024-06-26T20:20:01.968087",
     "status": "completed"
    },
    "tags": []
   },
   "outputs": [
    {
     "data": {
      "text/plain": [
       "Index(['Ware_house_ID', 'WH_Manager_ID', 'Location_type', 'WH_capacity_size',\n",
       "       'zone', 'WH_regional_zone', 'num_refill_req_l3m', 'transport_issue_l1y',\n",
       "       'Competitor_in_mkt', 'retail_shop_num', 'wh_owner_type',\n",
       "       'distributor_num', 'flood_impacted', 'flood_proof', 'electric_supply',\n",
       "       'dist_from_hub', 'workers_num', 'wh_est_year',\n",
       "       'storage_issue_reported_l3m', 'temp_reg_mach',\n",
       "       'approved_wh_govt_certificate', 'wh_breakdown_l3m', 'govt_check_l3m',\n",
       "       'product_wg_ton'],\n",
       "      dtype='object')"
      ]
     },
     "execution_count": 41,
     "metadata": {},
     "output_type": "execute_result"
    }
   ],
   "source": [
    "wh.columns"
   ]
  },
  {
   "cell_type": "code",
   "execution_count": 42,
   "id": "baab3759",
   "metadata": {
    "execution": {
     "iopub.execute_input": "2024-06-26T20:20:02.045598Z",
     "iopub.status.busy": "2024-06-26T20:20:02.044661Z",
     "iopub.status.idle": "2024-06-26T20:20:02.058158Z",
     "shell.execute_reply": "2024-06-26T20:20:02.057186Z"
    },
    "papermill": {
     "duration": 0.037632,
     "end_time": "2024-06-26T20:20:02.060255",
     "exception": false,
     "start_time": "2024-06-26T20:20:02.022623",
     "status": "completed"
    },
    "tags": []
   },
   "outputs": [
    {
     "data": {
      "text/plain": [
       "Ware_house_ID                     0\n",
       "WH_Manager_ID                     0\n",
       "Location_type                     0\n",
       "WH_capacity_size                  0\n",
       "zone                              0\n",
       "WH_regional_zone                  0\n",
       "num_refill_req_l3m                0\n",
       "transport_issue_l1y               0\n",
       "Competitor_in_mkt                 0\n",
       "retail_shop_num                   0\n",
       "wh_owner_type                     0\n",
       "distributor_num                   0\n",
       "flood_impacted                    0\n",
       "flood_proof                       0\n",
       "electric_supply                   0\n",
       "dist_from_hub                     0\n",
       "workers_num                       0\n",
       "wh_est_year                       0\n",
       "storage_issue_reported_l3m        0\n",
       "temp_reg_mach                     0\n",
       "approved_wh_govt_certificate    473\n",
       "wh_breakdown_l3m                  0\n",
       "govt_check_l3m                    0\n",
       "product_wg_ton                    0\n",
       "dtype: int64"
      ]
     },
     "execution_count": 42,
     "metadata": {},
     "output_type": "execute_result"
    }
   ],
   "source": [
    "wh.isna().sum()"
   ]
  },
  {
   "cell_type": "code",
   "execution_count": null,
   "id": "6f6c0d37",
   "metadata": {
    "papermill": {
     "duration": 0.021113,
     "end_time": "2024-06-26T20:20:02.258904",
     "exception": false,
     "start_time": "2024-06-26T20:20:02.237791",
     "status": "completed"
    },
    "tags": []
   },
   "outputs": [],
   "source": []
  },
  {
   "cell_type": "code",
   "execution_count": null,
   "id": "0fe7b249",
   "metadata": {
    "papermill": {
     "duration": 0.020684,
     "end_time": "2024-06-26T20:20:02.300383",
     "exception": false,
     "start_time": "2024-06-26T20:20:02.279699",
     "status": "completed"
    },
    "tags": []
   },
   "outputs": [],
   "source": []
  }
 ],
 "metadata": {
  "kaggle": {
   "accelerator": "none",
   "dataSources": [
    {
     "datasetId": 3399615,
     "sourceId": 5919668,
     "sourceType": "datasetVersion"
    }
   ],
   "dockerImageVersionId": 30732,
   "isGpuEnabled": false,
   "isInternetEnabled": true,
   "language": "python",
   "sourceType": "notebook"
  },
  "kernelspec": {
   "display_name": "Python 3",
   "language": "python",
   "name": "python3"
  },
  "language_info": {
   "codemirror_mode": {
    "name": "ipython",
    "version": 3
   },
   "file_extension": ".py",
   "mimetype": "text/x-python",
   "name": "python",
   "nbconvert_exporter": "python",
   "pygments_lexer": "ipython3",
   "version": "3.10.13"
  },
  "papermill": {
   "default_parameters": {},
   "duration": 12.527505,
   "end_time": "2024-06-26T20:20:03.042517",
   "environment_variables": {},
   "exception": null,
   "input_path": "__notebook__.ipynb",
   "output_path": "__notebook__.ipynb",
   "parameters": {},
   "start_time": "2024-06-26T20:19:50.515012",
   "version": "2.5.0"
  }
 },
 "nbformat": 4,
 "nbformat_minor": 5
}
